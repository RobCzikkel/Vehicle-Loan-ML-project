{
 "cells": [
  {
   "cell_type": "code",
   "execution_count": 1,
   "metadata": {},
   "outputs": [],
   "source": [
    "import pandas as pd\n",
    "import numpy as np\n",
    "import seaborn as sns\n",
    "import matplotlib.pyplot as plt\n",
    "import matplotlib as mpl\n",
    "mpl.style.use('seaborn')\n",
    "from sklearn.model_selection import train_test_split\n",
    "from sklearn.preprocessing import StandardScaler\n",
    "from sklearn.metrics import jaccard_score, confusion_matrix, classification_report, f1_score, accuracy_score"
   ]
  },
  {
   "cell_type": "code",
   "execution_count": 43,
   "metadata": {},
   "outputs": [],
   "source": [
    "df_train = pd.read_csv('train_new.csv', index_col=0)\n",
    "df_test = pd.read_csv('test_new.csv', index_col=0)"
   ]
  },
  {
   "cell_type": "code",
   "execution_count": 64,
   "metadata": {},
   "outputs": [
    {
     "data": {
      "text/plain": [
       "(233154, 33)"
      ]
     },
     "execution_count": 64,
     "metadata": {},
     "output_type": "execute_result"
    }
   ],
   "source": [
    "df_train.shape"
   ]
  },
  {
   "cell_type": "markdown",
   "metadata": {},
   "source": [
    "<br>\n",
    "\n",
    "Due to the size of the data and the lack of computing power on my machine I will take a random sample of 10000 records of this dataset.\n",
    "\n",
    "\n",
    "This will help reduce the processing time when using models like SVM or KNN."
   ]
  },
  {
   "cell_type": "code",
   "execution_count": 45,
   "metadata": {},
   "outputs": [],
   "source": [
    "train = df_train.sample(10000)"
   ]
  },
  {
   "cell_type": "markdown",
   "metadata": {},
   "source": [
    "<br>\n",
    "<br>\n",
    "Let's compare the distribution of LOAN_DEFAULT values in the original vs the random sample dataset"
   ]
  },
  {
   "cell_type": "code",
   "execution_count": 46,
   "metadata": {
    "scrolled": true
   },
   "outputs": [
    {
     "name": "stdout",
     "output_type": "stream",
     "text": [
      "Random set: \n",
      " 0    0.7802\n",
      "1    0.2198\n",
      "Name: LOAN_DEFAULT, dtype: float64, \n",
      " Original set: \n",
      " 0    0.782929\n",
      "1    0.217071\n",
      "Name: LOAN_DEFAULT, dtype: float64\n"
     ]
    }
   ],
   "source": [
    "print(f'Random set: \\n {train.LOAN_DEFAULT.value_counts(normalize=True)}, \\n Original set: \\n {df_train.LOAN_DEFAULT.value_counts(normalize=True)}')"
   ]
  },
  {
   "cell_type": "markdown",
   "metadata": {},
   "source": [
    "<br>\n",
    "\n",
    "\n",
    "#### They are fairly close with only an 0.0027 point difference in the distribution in values of LOAN_DEFAULT, so the the random set is a true representation of the large, original set.\n",
    "\n",
    "___"
   ]
  },
  {
   "cell_type": "markdown",
   "metadata": {},
   "source": [
    "# Preprocessing and normalizing the data"
   ]
  },
  {
   "cell_type": "code",
   "execution_count": 47,
   "metadata": {},
   "outputs": [],
   "source": [
    "X = train.drop(['LOAN_DEFAULT'], axis=1).values\n",
    "y = train['LOAN_DEFAULT'].values"
   ]
  },
  {
   "cell_type": "code",
   "execution_count": 48,
   "metadata": {},
   "outputs": [
    {
     "data": {
      "text/plain": [
       "(10000, 32)"
      ]
     },
     "execution_count": 48,
     "metadata": {},
     "output_type": "execute_result"
    }
   ],
   "source": [
    "X.shape"
   ]
  },
  {
   "cell_type": "code",
   "execution_count": 49,
   "metadata": {},
   "outputs": [
    {
     "data": {
      "text/plain": [
       "(10000,)"
      ]
     },
     "execution_count": 49,
     "metadata": {},
     "output_type": "execute_result"
    }
   ],
   "source": [
    "y.shape"
   ]
  },
  {
   "cell_type": "code",
   "execution_count": 50,
   "metadata": {},
   "outputs": [
    {
     "data": {
      "text/plain": [
       "array([[5.0169e+04, 5.9681e+04, 8.7550e+01, 6.1000e+01, 1.5919e+04,\n",
       "        4.5000e+01, 6.0000e+00, 1.0880e+03, 1.0000e+00, 0.0000e+00,\n",
       "        0.0000e+00, 0.0000e+00, 0.0000e+00, 5.0300e+02, 1.2000e+01,\n",
       "        1.0000e+00, 2.0000e+00, 7.8910e+03, 9.4700e+03, 9.4700e+03,\n",
       "        0.0000e+00, 0.0000e+00, 0.0000e+00, 1.6500e+03, 1.0000e+00,\n",
       "        1.0000e+00, 1.2000e+01, 5.0000e+01, 3.0000e+00, 4.0000e+01,\n",
       "        1.0000e+00, 0.0000e+00]])"
      ]
     },
     "execution_count": 50,
     "metadata": {},
     "output_type": "execute_result"
    }
   ],
   "source": [
    "X[:1]"
   ]
  },
  {
   "cell_type": "code",
   "execution_count": 51,
   "metadata": {},
   "outputs": [
    {
     "data": {
      "text/plain": [
       "array([[-0.32628867, -0.87047096,  1.1215881 , -0.17640361, -1.06449393,\n",
       "        -1.07933372, -0.28968243, -0.47406983,  0.43740958, -0.28082919,\n",
       "        -0.41430202, -0.14823092, -0.04904869,  0.63631668,  1.94063793,\n",
       "        -0.01603416,  3.44419611, -0.12933118, -0.14464254, -0.14402893,\n",
       "        -0.04185641, -0.04790905, -0.04727589, -0.09308223,  0.63005664,\n",
       "         2.21118163,  0.20586093,  1.18702994,  3.49295183,  0.16195748,\n",
       "         1.17707102, -1.0957665 ]])"
      ]
     },
     "execution_count": 51,
     "metadata": {},
     "output_type": "execute_result"
    }
   ],
   "source": [
    "X = StandardScaler().fit(X).transform(X.astype('float'))\n",
    "X[:1]"
   ]
  },
  {
   "cell_type": "markdown",
   "metadata": {},
   "source": [
    "\n",
    "\n",
    "Although the original data was split to train and test sets, I discovered that the test data had not been labeled, which makes it difficult to measure the accuracy of the models.\n",
    "\n",
    "To resolve, this I will split the train dataset with a 0.3 test size so that I can measure the accuracy.\n",
    "\n",
    "The dataset called 'test' will be used for the actual prediction once the models have been built."
   ]
  },
  {
   "cell_type": "code",
   "execution_count": 52,
   "metadata": {},
   "outputs": [
    {
     "name": "stdout",
     "output_type": "stream",
     "text": [
      "(7000, 32) (3000, 32) (7000,) (3000,)\n"
     ]
    }
   ],
   "source": [
    "X_train, X_test, y_train, y_test = train_test_split(X, y, test_size=0.3, random_state=4)\n",
    "print(X_train.shape, X_test.shape, y_train.shape, y_test.shape)"
   ]
  },
  {
   "cell_type": "markdown",
   "metadata": {},
   "source": [
    "# K-nearest neighbor model\n",
    "\n",
    "\n",
    "___\n",
    "First, I will find the best value for k"
   ]
  },
  {
   "cell_type": "code",
   "execution_count": 53,
   "metadata": {},
   "outputs": [],
   "source": [
    "from sklearn.neighbors import KNeighborsClassifier"
   ]
  },
  {
   "cell_type": "code",
   "execution_count": 54,
   "metadata": {},
   "outputs": [],
   "source": [
    "Ks = range(1,10);\n",
    "scores = []\n",
    "for k in Ks:\n",
    "    knn  = KNeighborsClassifier(n_neighbors=k).fit(X_train,y_train)\n",
    "    yhat = knn.predict(X_test)\n",
    "    scores.append(accuracy_score(y_test, yhat))"
   ]
  },
  {
   "cell_type": "code",
   "execution_count": 55,
   "metadata": {},
   "outputs": [
    {
     "data": {
      "image/png": "[encoded data removed]",
      "text/plain": [
       "<Figure size 864x576 with 1 Axes>"
      ]
     },
     "metadata": {},
     "output_type": "display_data"
    }
   ],
   "source": [
    "plt.figure(figsize=(12,8))\n",
    "plt.plot(Ks, scores)\n",
    "plt.title('K values', size=18)\n",
    "plt.show()"
   ]
  },
  {
   "cell_type": "markdown",
   "metadata": {},
   "source": [
    "Based on the chart the k value with the accuracy on this dataset is 8.\n",
    "\n",
    "I will now run the model with this k value and save the predictions"
   ]
  },
  {
   "cell_type": "code",
   "execution_count": 56,
   "metadata": {},
   "outputs": [
    {
     "data": {
      "text/plain": [
       "array([0, 0, 0, ..., 0, 0, 0])"
      ]
     },
     "execution_count": 56,
     "metadata": {},
     "output_type": "execute_result"
    }
   ],
   "source": [
    "knn  = KNeighborsClassifier(n_neighbors=8).fit(X_train,y_train)\n",
    "KNNpred = knn.predict(X_test)\n",
    "KNNpred"
   ]
  },
  {
   "cell_type": "code",
   "execution_count": 57,
   "metadata": {},
   "outputs": [
    {
     "name": "stdout",
     "output_type": "stream",
     "text": [
      "0.6189948642404511 0.7028268031073109 0.7806666666666666\n"
     ]
    }
   ],
   "source": [
    "jaccard_KNN = jaccard_score(y_test, KNNpred, average='weighted')\n",
    "f1_KNN = f1_score(y_test, KNNpred, average='weighted')\n",
    "accuracy_KNN = accuracy_score(y_test, KNNpred)\n",
    "print(jaccard_KNN, f1_KNN, accuracy_KNN)"
   ]
  },
  {
   "cell_type": "markdown",
   "metadata": {},
   "source": [
    "___\n",
    "\n",
    "# Support Vector Machine \n",
    "\n",
    "\n",
    "I first try the Radial Basis Function kernel and see its accuracy"
   ]
  },
  {
   "cell_type": "code",
   "execution_count": 58,
   "metadata": {},
   "outputs": [],
   "source": [
    "from sklearn.svm import SVC"
   ]
  },
  {
   "cell_type": "code",
   "execution_count": 59,
   "metadata": {},
   "outputs": [],
   "source": [
    "svm = SVC(kernel='rbf').fit(X_train, y_train)"
   ]
  },
  {
   "cell_type": "code",
   "execution_count": 60,
   "metadata": {
    "scrolled": true
   },
   "outputs": [
    {
     "data": {
      "text/plain": [
       "array([0, 0, 0, ..., 0, 0, 0])"
      ]
     },
     "execution_count": 60,
     "metadata": {},
     "output_type": "execute_result"
    }
   ],
   "source": [
    "SVMpred = svm.predict(X_test)\n",
    "SVMpred"
   ]
  },
  {
   "cell_type": "code",
   "execution_count": 63,
   "metadata": {},
   "outputs": [
    {
     "name": "stdout",
     "output_type": "stream",
     "text": [
      "0.614656 0.6890762331838566 0.784\n"
     ]
    }
   ],
   "source": [
    "jaccard_SVM = jaccard_score(y_test, SVMpred, average='weighted')\n",
    "f1_SVM = f1_score(y_test, SVMpred, average='weighted')\n",
    "accuracy_SVM = accuracy_score(y_test, SVMpred)\n",
    "print(jaccard_SVM, f1_SVM, accuracy_SVM)"
   ]
  },
  {
   "cell_type": "markdown",
   "metadata": {},
   "source": [
    "---\n",
    "I will now try different kernel functions and see which one produces the best results\n",
    "\n"
   ]
  },
  {
   "cell_type": "code",
   "execution_count": 69,
   "metadata": {},
   "outputs": [
    {
     "data": {
      "image/png": "[encoded data removed]",
      "text/plain": [
       "<Figure size 576x396 with 1 Axes>"
      ]
     },
     "metadata": {},
     "output_type": "display_data"
    }
   ],
   "source": [
    "kernels = ['linear', 'poly', 'rbf', 'sigmoid']\n",
    "scores = []\n",
    "for kernel in kernels:\n",
    "    svm = SVC(kernel=kernel).fit(X_train, y_train)\n",
    "    yhat = svm.predict(X_test)\n",
    "    scores.append(accuracy_score(y_test, yhat))\n",
    "    \n",
    "plt.plot(kernels, scores)\n",
    "plt.title('Accuracy scores', size=18)\n",
    "plt.xticks(size=12)\n",
    "plt.show()\n"
   ]
  },
  {
   "cell_type": "markdown",
   "metadata": {},
   "source": [
    "It appears that the original model with Radial Basis Function produces the highest accuracy, along with the linear funciton"
   ]
  },
  {
   "cell_type": "code",
   "execution_count": null,
   "metadata": {},
   "outputs": [],
   "source": []
  }
 ],
 "metadata": {
  "kernelspec": {
   "display_name": "Python 3",
   "language": "python",
   "name": "python3"
  },
  "language_info": {
   "codemirror_mode": {
    "name": "ipython",
    "version": 3
   },
   "file_extension": ".py",
   "mimetype": "text/x-python",
   "name": "python",
   "nbconvert_exporter": "python",
   "pygments_lexer": "ipython3",
   "version": "3.8.5"
  }
 },
 "nbformat": 4,
 "nbformat_minor": 4
}
