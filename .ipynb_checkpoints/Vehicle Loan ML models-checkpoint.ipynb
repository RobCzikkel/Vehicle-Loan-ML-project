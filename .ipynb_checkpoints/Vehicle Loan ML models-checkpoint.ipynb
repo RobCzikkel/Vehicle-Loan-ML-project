{
 "cells": [
  {
   "cell_type": "code",
   "execution_count": 52,
   "metadata": {},
   "outputs": [],
   "source": [
    "import pandas as pd\n",
    "import numpy as np\n",
    "import seaborn as sns\n",
    "import matplotlib.pyplot as plt\n",
    "import matplotlib as mpl\n",
    "from sklearn.model_selection import train_test_split\n",
    "from sklearn.preprocessing import StandardScaler\n",
    "from sklearn.metrics import jaccard_score, confusion_matrix, classification_report, f1_score, accuracy_score, recall_score"
   ]
  },
  {
   "cell_type": "code",
   "execution_count": 53,
   "metadata": {},
   "outputs": [],
   "source": [
    "df_train = pd.read_csv('train_new.csv', index_col=0)\n",
    "df_test = pd.read_csv('test_new.csv', index_col=0)"
   ]
  },
  {
   "cell_type": "code",
   "execution_count": 54,
   "metadata": {},
   "outputs": [
    {
     "data": {
      "text/plain": [
       "(233154, 33)"
      ]
     },
     "execution_count": 54,
     "metadata": {},
     "output_type": "execute_result"
    }
   ],
   "source": [
    "df_train.shape"
   ]
  },
  {
   "cell_type": "markdown",
   "metadata": {},
   "source": [
    "<br>\n",
    "\n",
    "Due to the size of the data and the lack of computing power on my machine I will take a random sample of 10000 records of this dataset.\n",
    "\n",
    "\n",
    "This will help reduce the processing time when using models like SVM or KNN."
   ]
  },
  {
   "cell_type": "code",
   "execution_count": 55,
   "metadata": {},
   "outputs": [],
   "source": [
    "train = df_train.sample(10000)"
   ]
  },
  {
   "cell_type": "markdown",
   "metadata": {},
   "source": [
    "<br>\n",
    "<br>\n",
    "Let's compare the distribution of LOAN_DEFAULT values in the original vs the random sample dataset"
   ]
  },
  {
   "cell_type": "code",
   "execution_count": 56,
   "metadata": {
    "scrolled": true
   },
   "outputs": [
    {
     "name": "stdout",
     "output_type": "stream",
     "text": [
      "Random set: \n",
      " 0    0.7849\n",
      "1    0.2151\n",
      "Name: LOAN_DEFAULT, dtype: float64, \n",
      " Original set: \n",
      " 0    0.782929\n",
      "1    0.217071\n",
      "Name: LOAN_DEFAULT, dtype: float64\n"
     ]
    }
   ],
   "source": [
    "print(f'Random set: \\n {train.LOAN_DEFAULT.value_counts(normalize=True)}, \\n Original set: \\n {df_train.LOAN_DEFAULT.value_counts(normalize=True)}')"
   ]
  },
  {
   "cell_type": "markdown",
   "metadata": {},
   "source": [
    "<br>\n",
    "\n",
    "\n",
    "#### They are fairly close with a similar distribution in values of LOAN_DEFAULT, so the random set is a true representation of the large, original set.\n",
    "\n",
    "___"
   ]
  },
  {
   "cell_type": "markdown",
   "metadata": {},
   "source": [
    "# Preprocessing and normalizing the data\n",
    "\n",
    "<br>\n",
    "\n",
    "In this section I will:\n",
    "+ separate the class variable from the rest of the dataset\n",
    "+ separate binary values from continuous ones\n",
    "+ normalize continuous values\n",
    "+ split the data to train and test set"
   ]
  },
  {
   "cell_type": "code",
   "execution_count": 57,
   "metadata": {},
   "outputs": [],
   "source": [
    "# Separating the class variables from the rest of the dataset\n",
    "X = train.drop(['LOAN_DEFAULT'], axis=1)\n",
    "y = train['LOAN_DEFAULT'].values"
   ]
  },
  {
   "cell_type": "code",
   "execution_count": 58,
   "metadata": {},
   "outputs": [],
   "source": [
    "binaries = X[['PAN_FLAG','VOTERID_FLAG','AADHAR_FLAG', 'DRIVING_FLAG', 'PASSPORT_FLAG', 'Salaried', 'Self employed']]\n",
    "continuous = X.drop(binaries, axis=1)"
   ]
  },
  {
   "cell_type": "code",
   "execution_count": 59,
   "metadata": {},
   "outputs": [],
   "source": [
    "continuous = StandardScaler().fit(continuous).transform(continuous.astype('float'))"
   ]
  },
  {
   "cell_type": "code",
   "execution_count": 60,
   "metadata": {},
   "outputs": [
    {
     "data": {
      "text/plain": [
       "array([[ 0.        ,  0.        ,  1.        ,  0.        ,  0.        ,\n",
       "         1.        ,  0.        ,  0.36244487, -0.13228687,  0.61988871,\n",
       "         0.18269797, -0.28215302,  0.75188115, -0.72042551, -0.57448202,\n",
       "        -0.84338937, -0.47458354, -0.53439175, -0.30232672, -0.14627112,\n",
       "        -0.16091469, -0.16040889, -0.03949326, -0.04293247, -0.04259286,\n",
       "        -0.12481208, -0.40303207, -0.25491773, -0.58479914, -0.55957309,\n",
       "        -0.29447633, -1.12120409]])"
      ]
     },
     "execution_count": 60,
     "metadata": {},
     "output_type": "execute_result"
    }
   ],
   "source": [
    "X = np.concatenate((binaries.values, continuous), axis=1)\n",
    "X[:1]"
   ]
  },
  {
   "cell_type": "markdown",
   "metadata": {},
   "source": [
    "<br>\n",
    "\n",
    "*Although the original data was split to train and test sets, I discovered that the test data had not been labeled, which makes it difficult to measure the accuracy of the models.*\n",
    "\n",
    "*To resolve, this I will split the train dataset with a 0.3 test size so that I can measure the accuracy.*\n",
    "\n",
    "*The dataset called 'test' will be used for the actual prediction once the models have been built.*"
   ]
  },
  {
   "cell_type": "code",
   "execution_count": 61,
   "metadata": {},
   "outputs": [
    {
     "name": "stdout",
     "output_type": "stream",
     "text": [
      "(7000, 32) (3000, 32) (7000,) (3000,)\n"
     ]
    }
   ],
   "source": [
    "X_train, X_test, y_train, y_test = train_test_split(X, y, test_size=0.3, random_state=27)\n",
    "print(X_train.shape, X_test.shape, y_train.shape, y_test.shape)"
   ]
  },
  {
   "cell_type": "code",
   "execution_count": 62,
   "metadata": {},
   "outputs": [],
   "source": [
    "# Factory function for confusion matrices\n",
    "import itertools\n",
    "def plot_confusion_matrix(cm, classes,\n",
    "                          normalize=False,\n",
    "                          title='Confusion matrix',\n",
    "                          cmap=plt.cm.Blues):\n",
    "    \"\"\"\n",
    "    This function prints and plots the confusion matrix.\n",
    "    Normalization can be applied by setting `normalize=True`.\n",
    "    \"\"\"\n",
    "    if normalize:\n",
    "        cm = cm.astype('float') / cm.sum(axis=1)[:, np.newaxis]\n",
    "        print(\"Normalized confusion matrix\")\n",
    "    else:\n",
    "        print('Confusion matrix, without normalization')\n",
    "\n",
    "    print(cm)\n",
    "\n",
    "    plt.imshow(cm, interpolation='nearest', cmap=cmap)\n",
    "    plt.title(title)\n",
    "    plt.colorbar()\n",
    "    tick_marks = np.arange(len(classes))\n",
    "    plt.xticks(tick_marks, classes, rotation=45)\n",
    "    plt.yticks(tick_marks, classes)\n",
    "\n",
    "    fmt = '.2f' if normalize else 'd'\n",
    "    thresh = cm.max() / 2.\n",
    "    for i, j in itertools.product(range(cm.shape[0]), range(cm.shape[1])):\n",
    "        plt.text(j, i, format(cm[i, j], fmt),\n",
    "                 horizontalalignment=\"center\",\n",
    "                 color=\"white\" if cm[i, j] > thresh else \"black\")\n",
    "\n",
    "    plt.tight_layout()\n",
    "    plt.ylabel('True label')\n",
    "    plt.xlabel('Predicted label')\n"
   ]
  },
  {
   "cell_type": "markdown",
   "metadata": {},
   "source": [
    "\n",
    "\n",
    "# 1st model: K-nearest neighbor\n",
    "\n",
    "\n",
    "___\n",
    "First, I will find the best value for k"
   ]
  },
  {
   "cell_type": "code",
   "execution_count": 63,
   "metadata": {},
   "outputs": [],
   "source": [
    "from sklearn.neighbors import KNeighborsClassifier"
   ]
  },
  {
   "cell_type": "code",
   "execution_count": 64,
   "metadata": {},
   "outputs": [],
   "source": [
    "Ks = np.arange(1,20, 1);\n",
    "scores = []\n",
    "for k in Ks:\n",
    "    knn  = KNeighborsClassifier(n_neighbors=k).fit(X_train,y_train)\n",
    "    yhat = knn.predict(X_test)\n",
    "    scores.append(accuracy_score(y_test, yhat))"
   ]
  },
  {
   "cell_type": "code",
   "execution_count": 65,
   "metadata": {},
   "outputs": [
    {
     "data": {
      "image/png": "[encoded data removed]",
      "text/plain": [
       "<Figure size 1008x576 with 1 Axes>"
      ]
     },
     "metadata": {
      "needs_background": "light"
     },
     "output_type": "display_data"
    }
   ],
   "source": [
    "plt.figure(figsize=(14,8))\n",
    "plt.plot(Ks, scores)\n",
    "plt.xticks(Ks)\n",
    "plt.title('Accuracy by K values', size=18)\n",
    "plt.show()"
   ]
  },
  {
   "cell_type": "markdown",
   "metadata": {},
   "source": [
    "Based on the chart the k value with the highest accuracy on this dataset is 18.\n",
    "\n",
    "I will now run the model with this k value and save the predictions"
   ]
  },
  {
   "cell_type": "code",
   "execution_count": 66,
   "metadata": {},
   "outputs": [
    {
     "data": {
      "text/plain": [
       "array([0, 0, 0, ..., 0, 0, 0], dtype=int64)"
      ]
     },
     "execution_count": 66,
     "metadata": {},
     "output_type": "execute_result"
    }
   ],
   "source": [
    "knn  = KNeighborsClassifier(n_neighbors=18).fit(X_train,y_train)\n",
    "KNNpred = knn.predict(X_test)\n",
    "KNNpred"
   ]
  },
  {
   "cell_type": "code",
   "execution_count": 67,
   "metadata": {},
   "outputs": [
    {
     "data": {
      "text/plain": [
       "0.7905714285714286"
      ]
     },
     "execution_count": 67,
     "metadata": {},
     "output_type": "execute_result"
    }
   ],
   "source": [
    "knn.score(X_train, y_train)"
   ]
  },
  {
   "cell_type": "code",
   "execution_count": 68,
   "metadata": {},
   "outputs": [
    {
     "name": "stdout",
     "output_type": "stream",
     "text": [
      "0.6058830189292211 0.6846301047854114 0.7763333333333333 0.7763333333333333\n"
     ]
    }
   ],
   "source": [
    "jaccard_KNN = jaccard_score(y_test, KNNpred, average='weighted')\n",
    "f1_KNN = f1_score(y_test, KNNpred, average='weighted')\n",
    "accuracy_KNN = accuracy_score(y_test, KNNpred)\n",
    "recall_KNN = recall_score(y_test, KNNpred, average='weighted')\n",
    "print(jaccard_KNN, f1_KNN, accuracy_KNN, recall_KNN)"
   ]
  },
  {
   "cell_type": "code",
   "execution_count": 69,
   "metadata": {
    "scrolled": false
   },
   "outputs": [
    {
     "name": "stdout",
     "output_type": "stream",
     "text": [
      "Normalized confusion matrix\n",
      "[[0.99485641 0.00514359]\n",
      " [0.988006   0.011994  ]]\n"
     ]
    },
    {
     "data": {
      "image/png": "[encoded data removed]",
      "text/plain": [
       "<Figure size 432x288 with 2 Axes>"
      ]
     },
     "metadata": {
      "needs_background": "light"
     },
     "output_type": "display_data"
    }
   ],
   "source": [
    "cm = confusion_matrix(y_test, KNNpred, labels=[0,1])\n",
    "plot_confusion_matrix(cm, classes=['Paid Off','Defaulted'],normalize= True,  title='Confusion matrix')"
   ]
  },
  {
   "cell_type": "code",
   "execution_count": 70,
   "metadata": {},
   "outputs": [
    {
     "name": "stdout",
     "output_type": "stream",
     "text": [
      "              precision    recall  f1-score   support\n",
      "\n",
      "           0       0.78      0.99      0.87      2333\n",
      "           1       0.40      0.01      0.02       667\n",
      "\n",
      "    accuracy                           0.78      3000\n",
      "   macro avg       0.59      0.50      0.45      3000\n",
      "weighted avg       0.69      0.78      0.68      3000\n",
      "\n"
     ]
    }
   ],
   "source": [
    "class_report_KNN = classification_report(y_test, KNNpred)\n",
    "print(class_report_KNN)"
   ]
  },
  {
   "cell_type": "markdown",
   "metadata": {},
   "source": [
    "---\n",
    "# 2nd model: Decision Tree\n",
    "\n",
    "<br>\n",
    "\n",
    "Let's first see what's the best value for max_depth"
   ]
  },
  {
   "cell_type": "code",
   "execution_count": 71,
   "metadata": {},
   "outputs": [],
   "source": [
    "from sklearn.tree import DecisionTreeClassifier"
   ]
  },
  {
   "cell_type": "code",
   "execution_count": 72,
   "metadata": {
    "scrolled": false
   },
   "outputs": [
    {
     "data": {
      "image/png": "[encoded data removed]",
      "text/plain": [
       "<Figure size 1008x576 with 1 Axes>"
      ]
     },
     "metadata": {
      "needs_background": "light"
     },
     "output_type": "display_data"
    }
   ],
   "source": [
    "values = range(2,11)\n",
    "scores = []\n",
    "for value in values:\n",
    "    tree = DecisionTreeClassifier(criterion='entropy', max_depth=value).fit(X_train, y_train)\n",
    "    yhat = tree.predict(X_test)\n",
    "    scores.append(accuracy_score(y_test, yhat))\n",
    "plt.figure(figsize=(14,8))\n",
    "plt.plot(values, scores)\n",
    "plt.title('Accuracy per max depth values')\n",
    "plt.show()"
   ]
  },
  {
   "cell_type": "markdown",
   "metadata": {},
   "source": [
    "A value of 2 seems to produce the best result"
   ]
  },
  {
   "cell_type": "code",
   "execution_count": 73,
   "metadata": {},
   "outputs": [],
   "source": [
    "tree = DecisionTreeClassifier(criterion='entropy', max_depth=2).fit(X_train, y_train)"
   ]
  },
  {
   "cell_type": "code",
   "execution_count": 74,
   "metadata": {},
   "outputs": [
    {
     "data": {
      "text/plain": [
       "0.788"
      ]
     },
     "execution_count": 74,
     "metadata": {},
     "output_type": "execute_result"
    }
   ],
   "source": [
    "tree.score(X_train,y_train)"
   ]
  },
  {
   "cell_type": "code",
   "execution_count": 75,
   "metadata": {},
   "outputs": [],
   "source": [
    "TREEpred = tree.predict(X_test)"
   ]
  },
  {
   "cell_type": "code",
   "execution_count": 76,
   "metadata": {},
   "outputs": [
    {
     "name": "stdout",
     "output_type": "stream",
     "text": [
      "0.6047654444444444 0.6804036502281392 0.7776666666666666 0.7776666666666666\n"
     ]
    }
   ],
   "source": [
    "accuracy_TREE = accuracy_score(y_test, TREEpred)\n",
    "jaccard_TREE = jaccard_score(y_test, TREEpred, average='weighted')\n",
    "f1_TREE = f1_score(y_test, TREEpred, average='weighted')\n",
    "recall_TREE = recall_score(y_test, TREEpred, average='weighted')\n",
    "print(jaccard_TREE, f1_TREE, accuracy_TREE, recall_TREE)"
   ]
  },
  {
   "cell_type": "code",
   "execution_count": 77,
   "metadata": {
    "scrolled": false
   },
   "outputs": [
    {
     "name": "stdout",
     "output_type": "stream",
     "text": [
      "Normalized confusion matrix\n",
      "[[1. 0.]\n",
      " [1. 0.]]\n"
     ]
    },
    {
     "data": {
      "image/png": "[encoded data removed]",
      "text/plain": [
       "<Figure size 432x288 with 2 Axes>"
      ]
     },
     "metadata": {
      "needs_background": "light"
     },
     "output_type": "display_data"
    }
   ],
   "source": [
    "cm = confusion_matrix(y_test, TREEpred, labels=[0,1])\n",
    "plot_confusion_matrix(cm, classes=['Paid Off','Defaulted'],normalize= True,  title='Confusion matrix')"
   ]
  },
  {
   "cell_type": "code",
   "execution_count": 78,
   "metadata": {},
   "outputs": [
    {
     "name": "stdout",
     "output_type": "stream",
     "text": [
      "              precision    recall  f1-score   support\n",
      "\n",
      "           0       0.78      1.00      0.87      2333\n",
      "           1       0.00      0.00      0.00       667\n",
      "\n",
      "    accuracy                           0.78      3000\n",
      "   macro avg       0.39      0.50      0.44      3000\n",
      "weighted avg       0.60      0.78      0.68      3000\n",
      "\n"
     ]
    },
    {
     "name": "stderr",
     "output_type": "stream",
     "text": [
      "C:\\Users\\Robert\\anaconda3\\lib\\site-packages\\sklearn\\metrics\\_classification.py:1245: UndefinedMetricWarning: Precision and F-score are ill-defined and being set to 0.0 in labels with no predicted samples. Use `zero_division` parameter to control this behavior.\n",
      "  _warn_prf(average, modifier, msg_start, len(result))\n",
      "C:\\Users\\Robert\\anaconda3\\lib\\site-packages\\sklearn\\metrics\\_classification.py:1245: UndefinedMetricWarning: Precision and F-score are ill-defined and being set to 0.0 in labels with no predicted samples. Use `zero_division` parameter to control this behavior.\n",
      "  _warn_prf(average, modifier, msg_start, len(result))\n",
      "C:\\Users\\Robert\\anaconda3\\lib\\site-packages\\sklearn\\metrics\\_classification.py:1245: UndefinedMetricWarning: Precision and F-score are ill-defined and being set to 0.0 in labels with no predicted samples. Use `zero_division` parameter to control this behavior.\n",
      "  _warn_prf(average, modifier, msg_start, len(result))\n"
     ]
    }
   ],
   "source": [
    "class_report_TREE = classification_report(y_test, TREEpred)\n",
    "print(class_report_TREE)"
   ]
  },
  {
   "cell_type": "markdown",
   "metadata": {},
   "source": [
    "---\n",
    "\n",
    "\n",
    "# 3rd model: Logistic Regression\n",
    "\n",
    "\n",
    "<br>\n",
    "\n",
    "\n",
    "I will use the liblinear solver with a regularization value of 0.01"
   ]
  },
  {
   "cell_type": "code",
   "execution_count": 79,
   "metadata": {},
   "outputs": [],
   "source": [
    "from sklearn.linear_model import LogisticRegression"
   ]
  },
  {
   "cell_type": "code",
   "execution_count": 80,
   "metadata": {},
   "outputs": [],
   "source": [
    "lr = LogisticRegression(C=0.01, solver='liblinear').fit(X_train, y_train.astype('int'))"
   ]
  },
  {
   "cell_type": "code",
   "execution_count": 81,
   "metadata": {},
   "outputs": [
    {
     "data": {
      "text/plain": [
       "array([0, 0, 0, 0, 0])"
      ]
     },
     "execution_count": 81,
     "metadata": {},
     "output_type": "execute_result"
    }
   ],
   "source": [
    "LRpred = lr.predict(X_test)\n",
    "LRpred[:5]"
   ]
  },
  {
   "cell_type": "code",
   "execution_count": 82,
   "metadata": {},
   "outputs": [
    {
     "name": "stdout",
     "output_type": "stream",
     "text": [
      "0.6077297130973601 0.685835883827215 0.7786666666666666 0.7786666666666666\n"
     ]
    }
   ],
   "source": [
    "accuracy_LR = accuracy_score(y_test, LRpred)\n",
    "jaccard_LR = jaccard_score(y_test, LRpred, average='weighted')\n",
    "f1_LR = f1_score(y_test, LRpred, average='weighted')\n",
    "recall_LR = recall_score(y_test, LRpred, average='weighted')\n",
    "print(jaccard_LR, f1_LR, accuracy_LR, recall_LR)"
   ]
  },
  {
   "cell_type": "code",
   "execution_count": 83,
   "metadata": {
    "scrolled": false
   },
   "outputs": [
    {
     "name": "stdout",
     "output_type": "stream",
     "text": [
      "              precision    recall  f1-score   support\n",
      "\n",
      "           0       0.78      1.00      0.88      2333\n",
      "           1       0.62      0.01      0.02       667\n",
      "\n",
      "    accuracy                           0.78      3000\n",
      "   macro avg       0.70      0.50      0.45      3000\n",
      "weighted avg       0.74      0.78      0.69      3000\n",
      "\n"
     ]
    }
   ],
   "source": [
    "class_report_LR = classification_report(y_test, LRpred)\n",
    "print(class_report_LR)"
   ]
  },
  {
   "cell_type": "code",
   "execution_count": 84,
   "metadata": {
    "scrolled": false
   },
   "outputs": [
    {
     "name": "stdout",
     "output_type": "stream",
     "text": [
      "Normalized confusion matrix\n",
      "[[0.99785684 0.00214316]\n",
      " [0.988006   0.011994  ]]\n"
     ]
    },
    {
     "data": {
      "image/png": "[encoded data removed]",
      "text/plain": [
       "<Figure size 432x288 with 2 Axes>"
      ]
     },
     "metadata": {
      "needs_background": "light"
     },
     "output_type": "display_data"
    }
   ],
   "source": [
    "cm = confusion_matrix(y_test, LRpred, labels=[0,1])\n",
    "plot_confusion_matrix(cm, classes=['Paid Off','Defaulted'],normalize= True,  title='Confusion matrix')"
   ]
  },
  {
   "cell_type": "markdown",
   "metadata": {},
   "source": [
    "---\n",
    "\n",
    "# Evaluation of all 3 models"
   ]
  },
  {
   "cell_type": "code",
   "execution_count": 85,
   "metadata": {},
   "outputs": [],
   "source": [
    "model_scores = {\n",
    "    'K-nearest neighbours':{'Jaccard index': jaccard_KNN, 'F1 score': f1_KNN, 'Accuracy score': accuracy_KNN, 'Recall score': recall_KNN},\n",
    "    'Decision Tree':{'Jaccard index': jaccard_TREE, 'F1 score': f1_TREE, 'Accuracy score': accuracy_TREE, 'Recall score': recall_TREE},\n",
    "    'Logistic Regression':{'Jaccard index': jaccard_LR, 'F1 score': f1_LR, 'Accuracy score': accuracy_LR, 'Recall score': recall_LR}\n",
    "}"
   ]
  },
  {
   "cell_type": "code",
   "execution_count": 86,
   "metadata": {},
   "outputs": [
    {
     "data": {
      "text/html": [
       "<div>\n",
       "<style scoped>\n",
       "    .dataframe tbody tr th:only-of-type {\n",
       "        vertical-align: middle;\n",
       "    }\n",
       "\n",
       "    .dataframe tbody tr th {\n",
       "        vertical-align: top;\n",
       "    }\n",
       "\n",
       "    .dataframe thead th {\n",
       "        text-align: right;\n",
       "    }\n",
       "</style>\n",
       "<table border=\"1\" class=\"dataframe\">\n",
       "  <thead>\n",
       "    <tr style=\"text-align: right;\">\n",
       "      <th></th>\n",
       "      <th>K-nearest neighbours</th>\n",
       "      <th>Decision Tree</th>\n",
       "      <th>Logistic Regression</th>\n",
       "    </tr>\n",
       "  </thead>\n",
       "  <tbody>\n",
       "    <tr>\n",
       "      <th>Jaccard index</th>\n",
       "      <td>0.605883</td>\n",
       "      <td>0.604765</td>\n",
       "      <td>0.607730</td>\n",
       "    </tr>\n",
       "    <tr>\n",
       "      <th>F1 score</th>\n",
       "      <td>0.684630</td>\n",
       "      <td>0.680404</td>\n",
       "      <td>0.685836</td>\n",
       "    </tr>\n",
       "    <tr>\n",
       "      <th>Accuracy score</th>\n",
       "      <td>0.776333</td>\n",
       "      <td>0.777667</td>\n",
       "      <td>0.778667</td>\n",
       "    </tr>\n",
       "    <tr>\n",
       "      <th>Recall score</th>\n",
       "      <td>0.776333</td>\n",
       "      <td>0.777667</td>\n",
       "      <td>0.778667</td>\n",
       "    </tr>\n",
       "  </tbody>\n",
       "</table>\n",
       "</div>"
      ],
      "text/plain": [
       "                K-nearest neighbours  Decision Tree  Logistic Regression\n",
       "Jaccard index               0.605883       0.604765             0.607730\n",
       "F1 score                    0.684630       0.680404             0.685836\n",
       "Accuracy score              0.776333       0.777667             0.778667\n",
       "Recall score                0.776333       0.777667             0.778667"
      ]
     },
     "execution_count": 86,
     "metadata": {},
     "output_type": "execute_result"
    }
   ],
   "source": [
    "report = pd.DataFrame(model_scores)\n",
    "report"
   ]
  },
  {
   "cell_type": "code",
   "execution_count": 87,
   "metadata": {
    "scrolled": false
   },
   "outputs": [
    {
     "data": {
      "image/png": "[encoded data removed]",
      "text/plain": [
       "<Figure size 1296x720 with 1 Axes>"
      ]
     },
     "metadata": {
      "needs_background": "light"
     },
     "output_type": "display_data"
    }
   ],
   "source": [
    "splt = report.T.plot(kind='bar', figsize=(18,10), width=0.8)\n",
    "for p in splt.patches:\n",
    "    splt.annotate(format(round(p.get_height(), 2) * 100)+\"%\",\n",
    "                   (p.get_x() + p.get_width() / 2., p.get_height()),\n",
    "                   ha='center', va='center',\n",
    "                   xytext=(0, 9),\n",
    "                   textcoords='offset points')\n",
    "plt.xticks(rotation=0, size=16)\n",
    "plt.title('Evalutaion of classification models')\n",
    "plt.show()"
   ]
  },
  {
   "cell_type": "code",
   "execution_count": 88,
   "metadata": {},
   "outputs": [
    {
     "name": "stdout",
     "output_type": "stream",
     "text": [
      "              precision    recall  f1-score   support\n",
      "\n",
      "           0       0.78      0.99      0.87      2333\n",
      "           1       0.40      0.01      0.02       667\n",
      "\n",
      "    accuracy                           0.78      3000\n",
      "   macro avg       0.59      0.50      0.45      3000\n",
      "weighted avg       0.69      0.78      0.68      3000\n",
      "               precision    recall  f1-score   support\n",
      "\n",
      "           0       0.78      1.00      0.87      2333\n",
      "           1       0.00      0.00      0.00       667\n",
      "\n",
      "    accuracy                           0.78      3000\n",
      "   macro avg       0.39      0.50      0.44      3000\n",
      "weighted avg       0.60      0.78      0.68      3000\n",
      "               precision    recall  f1-score   support\n",
      "\n",
      "           0       0.78      1.00      0.88      2333\n",
      "           1       0.62      0.01      0.02       667\n",
      "\n",
      "    accuracy                           0.78      3000\n",
      "   macro avg       0.70      0.50      0.45      3000\n",
      "weighted avg       0.74      0.78      0.69      3000\n",
      "\n"
     ]
    }
   ],
   "source": [
    "print(\n",
    "class_report_KNN,\n",
    "class_report_TREE,\n",
    "class_report_LR,\n",
    ")"
   ]
  },
  {
   "cell_type": "markdown",
   "metadata": {},
   "source": [
    "# Findings\n",
    "\n",
    "---\n",
    "None of the models performs well in predicting loan defaults:\n",
    "+ Apart from K nearest neighbors all models had zero correct predicition of defaults \n",
    "+ K nearest neighbours performed the best with a mere 2% correct predictions on defaults, which is still very low\n",
    "\n",
    "#### This issue here is the so called Imbalanced Classification problem that results from the skewed distribution of the class variable.\n",
    "* 78.29% of the data is classified as paid, and only 21.71% is labelled as defaulted\n",
    "\n",
    "The models are therefore treating the majority class as a default class and mislabels the test set as the minority class is seen as anomaly or abnormal case\n",
    "\n",
    "<br>\n",
    "\n",
    "**Solutions to overcome this problem could be:**\n",
    "+ increasing the size of the dataset\n",
    "+ resampling with SMOTE\n"
   ]
  },
  {
   "cell_type": "markdown",
   "metadata": {},
   "source": [
    "---\n",
    "#### I will now increase the sample size and use SMOTE to oversample the Defaulted class"
   ]
  },
  {
   "cell_type": "code",
   "execution_count": 128,
   "metadata": {},
   "outputs": [],
   "source": [
    "train = df_train.sample(50000)"
   ]
  },
  {
   "cell_type": "code",
   "execution_count": 129,
   "metadata": {},
   "outputs": [],
   "source": [
    "# Separating the class variables from the rest of the dataset\n",
    "X = train.drop(['LOAN_DEFAULT'], axis=1)\n",
    "y = train['LOAN_DEFAULT'].values"
   ]
  },
  {
   "cell_type": "code",
   "execution_count": 130,
   "metadata": {},
   "outputs": [],
   "source": [
    "binaries = X[['PAN_FLAG','VOTERID_FLAG','AADHAR_FLAG', 'DRIVING_FLAG', 'PASSPORT_FLAG', 'Salaried', 'Self employed']]\n",
    "continuous = X.drop(binaries, axis=1)"
   ]
  },
  {
   "cell_type": "code",
   "execution_count": 131,
   "metadata": {},
   "outputs": [],
   "source": [
    "continuous = StandardScaler().fit(continuous).transform(continuous.astype('float'))"
   ]
  },
  {
   "cell_type": "code",
   "execution_count": 132,
   "metadata": {},
   "outputs": [
    {
     "name": "stdout",
     "output_type": "stream",
     "text": [
      "(35000, 32) (15000, 32) (35000,) (15000,)\n"
     ]
    }
   ],
   "source": [
    "X_train, X_test, y_train, y_test = train_test_split(X, y, test_size=0.3, random_state=27)\n",
    "print(X_train.shape, X_test.shape, y_train.shape, y_test.shape)"
   ]
  },
  {
   "cell_type": "code",
   "execution_count": 133,
   "metadata": {},
   "outputs": [],
   "source": [
    "from imblearn.over_sampling import SMOTE"
   ]
  },
  {
   "cell_type": "code",
   "execution_count": 134,
   "metadata": {},
   "outputs": [
    {
     "name": "stdout",
     "output_type": "stream",
     "text": [
      "(54784, 32) (54784,)\n"
     ]
    }
   ],
   "source": [
    "sm = SMOTE(random_state=27)\n",
    "\n",
    "X_train, y_train = sm.fit_resample(X_train, y_train)\n",
    "print(X_train.shape, y_train.shape)"
   ]
  },
  {
   "cell_type": "markdown",
   "metadata": {},
   "source": [
    "# K nearest neighbors 2nd round"
   ]
  },
  {
   "cell_type": "code",
   "execution_count": 135,
   "metadata": {},
   "outputs": [],
   "source": [
    "Ks = np.arange(1,10, 1);\n",
    "scores = []\n",
    "for k in Ks:\n",
    "    knn  = KNeighborsClassifier(n_neighbors=k).fit(X_train,y_train)\n",
    "    yhat = knn.predict(X_test)\n",
    "    scores.append(accuracy_score(y_test, yhat))"
   ]
  },
  {
   "cell_type": "code",
   "execution_count": 136,
   "metadata": {},
   "outputs": [
    {
     "data": {
      "image/png": "[encoded data removed]",
      "text/plain": [
       "<Figure size 1008x576 with 1 Axes>"
      ]
     },
     "metadata": {
      "needs_background": "light"
     },
     "output_type": "display_data"
    }
   ],
   "source": [
    "plt.figure(figsize=(14,8))\n",
    "plt.plot(Ks, scores)\n",
    "plt.xticks(Ks)\n",
    "plt.title('Accuracy by K values', size=18)\n",
    "plt.show()"
   ]
  },
  {
   "cell_type": "code",
   "execution_count": 137,
   "metadata": {},
   "outputs": [],
   "source": [
    "knn  = KNeighborsClassifier(n_neighbors=2).fit(X_train,y_train)\n",
    "KNNpred = knn.predict(X_test)"
   ]
  },
  {
   "cell_type": "code",
   "execution_count": 138,
   "metadata": {},
   "outputs": [
    {
     "name": "stdout",
     "output_type": "stream",
     "text": [
      "0.5395447586750941 0.6702886232507583 0.67 0.67\n"
     ]
    }
   ],
   "source": [
    "jaccard_KNN = jaccard_score(y_test, KNNpred, average='weighted')\n",
    "f1_KNN = f1_score(y_test, KNNpred, average='weighted')\n",
    "accuracy_KNN = accuracy_score(y_test, KNNpred)\n",
    "recall_KNN = recall_score(y_test, KNNpred, average='weighted')\n",
    "print(jaccard_KNN, f1_KNN, accuracy_KNN, recall_KNN)"
   ]
  },
  {
   "cell_type": "code",
   "execution_count": 160,
   "metadata": {},
   "outputs": [
    {
     "name": "stdout",
     "output_type": "stream",
     "text": [
      "              precision    recall  f1-score   support\n",
      "\n",
      "           0       0.79      0.79      0.79     11719\n",
      "           1       0.25      0.25      0.25      3281\n",
      "\n",
      "    accuracy                           0.67     15000\n",
      "   macro avg       0.52      0.52      0.52     15000\n",
      "weighted avg       0.67      0.67      0.67     15000\n",
      "\n"
     ]
    }
   ],
   "source": [
    "class_report_KNN_new = classification_report(y_test, KNNpred)\n",
    "print(class_report_KNN_new)"
   ]
  },
  {
   "cell_type": "code",
   "execution_count": 140,
   "metadata": {},
   "outputs": [
    {
     "name": "stdout",
     "output_type": "stream",
     "text": [
      "Normalized confusion matrix\n",
      "[[0.78812185 0.21187815]\n",
      " [0.75190491 0.24809509]]\n"
     ]
    },
    {
     "data": {
      "image/png": "[encoded data removed]",
      "text/plain": [
       "<Figure size 432x288 with 2 Axes>"
      ]
     },
     "metadata": {
      "needs_background": "light"
     },
     "output_type": "display_data"
    }
   ],
   "source": [
    "cm = confusion_matrix(y_test, KNNpred, labels=[0,1])\n",
    "plot_confusion_matrix(cm, classes=['Paid Off','Defaulted'],normalize= True,  title='Confusion matrix')"
   ]
  },
  {
   "cell_type": "markdown",
   "metadata": {},
   "source": [
    "The overall scores seem to be lower but the model now predicts defaults with a 25% accuracy\n",
    "\n",
    "<br>\n",
    "\n",
    "I will now go on to re-run the other two models"
   ]
  },
  {
   "cell_type": "markdown",
   "metadata": {},
   "source": [
    "# Decision Tree 2nd round"
   ]
  },
  {
   "cell_type": "code",
   "execution_count": 154,
   "metadata": {
    "scrolled": false
   },
   "outputs": [
    {
     "data": {
      "image/png": "[encoded data removed]",
      "text/plain": [
       "<Figure size 1008x576 with 1 Axes>"
      ]
     },
     "metadata": {
      "needs_background": "light"
     },
     "output_type": "display_data"
    }
   ],
   "source": [
    "values = range(2,11)\n",
    "scores = []\n",
    "for value in values:\n",
    "    tree = DecisionTreeClassifier(criterion='entropy', max_depth=value).fit(X_train, y_train)\n",
    "    yhat = tree.predict(X_test)\n",
    "    scores.append(accuracy_score(y_test, yhat))\n",
    "plt.figure(figsize=(14,8))\n",
    "plt.plot(values, scores)\n",
    "plt.title('Accuracy per max depth values')\n",
    "plt.show()"
   ]
  },
  {
   "cell_type": "markdown",
   "metadata": {},
   "source": [
    "A max_depth value of 6 produces the highest score, let's re-run the model with it\n",
    "\n",
    "\n",
    "\n",
    "<br>"
   ]
  },
  {
   "cell_type": "code",
   "execution_count": 155,
   "metadata": {},
   "outputs": [],
   "source": [
    "tree = DecisionTreeClassifier(criterion='entropy', max_depth=6).fit(X_train, y_train)\n",
    "TREEpred = tree.predict(X_test)"
   ]
  },
  {
   "cell_type": "code",
   "execution_count": 156,
   "metadata": {},
   "outputs": [
    {
     "name": "stdout",
     "output_type": "stream",
     "text": [
      "0.6084376097408416 0.7023195991801358 0.764 0.764\n"
     ]
    }
   ],
   "source": [
    "jaccard_TREE = jaccard_score(y_test, TREEpred, average='weighted')\n",
    "f1_TREE = f1_score(y_test, TREEpred, average='weighted')\n",
    "accuracy_TREE = accuracy_score(y_test, TREEpred)\n",
    "recall_TREE = recall_score(y_test, TREEpred, average='weighted')\n",
    "print(jaccard_TREE, f1_TREE, accuracy_TREE, recall_TREE)"
   ]
  },
  {
   "cell_type": "code",
   "execution_count": 157,
   "metadata": {},
   "outputs": [
    {
     "name": "stdout",
     "output_type": "stream",
     "text": [
      "              precision    recall  f1-score   support\n",
      "\n",
      "           0       0.79      0.96      0.86     11719\n",
      "           1       0.33      0.08      0.13      3281\n",
      "\n",
      "    accuracy                           0.76     15000\n",
      "   macro avg       0.56      0.52      0.49     15000\n",
      "weighted avg       0.69      0.76      0.70     15000\n",
      "\n"
     ]
    }
   ],
   "source": [
    "class_report_TREE_new = classification_report(y_test, TREEpred)\n",
    "print(class_report_TREE_new)"
   ]
  },
  {
   "cell_type": "code",
   "execution_count": 158,
   "metadata": {},
   "outputs": [
    {
     "name": "stdout",
     "output_type": "stream",
     "text": [
      "Normalized confusion matrix\n",
      "[[0.95605427 0.04394573]\n",
      " [0.92197501 0.07802499]]\n"
     ]
    },
    {
     "data": {
      "image/png": "[encoded data removed]",
      "text/plain": [
       "<Figure size 432x288 with 2 Axes>"
      ]
     },
     "metadata": {
      "needs_background": "light"
     },
     "output_type": "display_data"
    }
   ],
   "source": [
    "cm = confusion_matrix(y_test, TREEpred, labels=[0,1])\n",
    "plot_confusion_matrix(cm, classes=['Paid Off','Defaulted'],normalize= True,  title='Confusion matrix')"
   ]
  },
  {
   "cell_type": "markdown",
   "metadata": {},
   "source": [
    "Even with a resampled and adjusted dataset Desicion Tree has produced an accuracy in predicting loan defaults of less than 1%"
   ]
  },
  {
   "cell_type": "markdown",
   "metadata": {},
   "source": [
    "# Logistic Regression"
   ]
  },
  {
   "cell_type": "code",
   "execution_count": 161,
   "metadata": {},
   "outputs": [],
   "source": [
    "lr = LogisticRegression(C=0.01, solver='liblinear').fit(X_train, y_train.astype('int'))"
   ]
  },
  {
   "cell_type": "code",
   "execution_count": 162,
   "metadata": {},
   "outputs": [],
   "source": [
    "LRpred = lr.predict(X_test)"
   ]
  },
  {
   "cell_type": "code",
   "execution_count": 163,
   "metadata": {},
   "outputs": [
    {
     "name": "stdout",
     "output_type": "stream",
     "text": [
      "0.43079693259059004 0.5936182322613388 0.5552666666666667 0.5552666666666667\n"
     ]
    }
   ],
   "source": [
    "jaccard_LR = jaccard_score(y_test, LRpred, average='weighted')\n",
    "f1_LR  = f1_score(y_test, LRpred, average='weighted')\n",
    "accuracy_LR = accuracy_score(y_test, LRpred)\n",
    "recall_LR = recall_score(y_test, LRpred, average='weighted')\n",
    "print(jaccard_LR, f1_LR, accuracy_LR, recall_LR)"
   ]
  },
  {
   "cell_type": "code",
   "execution_count": 165,
   "metadata": {},
   "outputs": [
    {
     "name": "stdout",
     "output_type": "stream",
     "text": [
      "              precision    recall  f1-score   support\n",
      "\n",
      "           0       0.83      0.54      0.65     11719\n",
      "           1       0.27      0.61      0.37      3281\n",
      "\n",
      "    accuracy                           0.56     15000\n",
      "   macro avg       0.55      0.57      0.51     15000\n",
      "weighted avg       0.71      0.56      0.59     15000\n",
      "\n"
     ]
    }
   ],
   "source": [
    "class_report_LR_new = classification_report(y_test, LRpred)\n",
    "print(class_report_LR_new)"
   ]
  },
  {
   "cell_type": "code",
   "execution_count": 166,
   "metadata": {},
   "outputs": [
    {
     "name": "stdout",
     "output_type": "stream",
     "text": [
      "Normalized confusion matrix\n",
      "[[0.53997781 0.46002219]\n",
      " [0.39012496 0.60987504]]\n"
     ]
    },
    {
     "data": {
      "image/png": "[encoded data removed]",
      "text/plain": [
       "<Figure size 432x288 with 2 Axes>"
      ]
     },
     "metadata": {
      "needs_background": "light"
     },
     "output_type": "display_data"
    }
   ],
   "source": [
    "cm = confusion_matrix(y_test, LRpred, labels=[0,1])\n",
    "plot_confusion_matrix(cm, classes=['Paid Off','Defaulted'],normalize= True,  title='Confusion matrix')"
   ]
  },
  {
   "cell_type": "markdown",
   "metadata": {},
   "source": [
    "While the accuracy of predicting loan defaults has increased to 61% with Logistic Regression, it happened at the cost of the accuracy in predicting the other class, which is not ideal given that the model is predicting good applicants only at a 50% rate."
   ]
  },
  {
   "cell_type": "markdown",
   "metadata": {},
   "source": [
    "# Results"
   ]
  },
  {
   "cell_type": "code",
   "execution_count": 182,
   "metadata": {},
   "outputs": [],
   "source": [
    "results= {\n",
    "    'K nearest neighbours': {\n",
    "        'Average': {\n",
    "            'Jaccard score': jaccard_KNN, 'Recall score': recall_KNN, 'F1 score': f1_KNN\n",
    "        },\n",
    "        'Paid class': {\n",
    "            'Jaccard score': jaccard_score(y_test, KNNpred, pos_label=0), 'Recall score': recall_score(y_test, KNNpred, pos_label=0), 'F1 score': f1_score(y_test, KNNpred, pos_label=0)\n",
    "        },\n",
    "        \n",
    "        'Defaulted class': {\n",
    "            'Jaccard score': jaccard_score(y_test, KNNpred, pos_label=1), 'Recall score': recall_score(y_test, KNNpred, pos_label=1), 'F1 score': f1_score(y_test, KNNpred, pos_label=1)\n",
    "        },\n",
    "    },\n",
    "    'Decision Tree': {\n",
    "        'Average': {\n",
    "            'Jaccard score': jaccard_TREE, 'Recall score': recall_TREE, 'F1 score': f1_TREE\n",
    "        },\n",
    "        'Paid class': {\n",
    "            'Jaccard score': jaccard_score(y_test, TREEpred, pos_label=0), 'Recall score': recall_score(y_test, TREEpred, pos_label=0), 'F1 score': f1_score(y_test, TREEpred, pos_label=0)\n",
    "        },\n",
    "        \n",
    "        'Defaulted class': {\n",
    "            'Jaccard score': jaccard_score(y_test, TREEpred, pos_label=1), 'Recall score': recall_score(y_test, TREEpred, pos_label=1), 'F1 score': f1_score(y_test, TREEpred, pos_label=1)\n",
    "        },\n",
    "    },\n",
    "    'Logistic Regression': {\n",
    "        'Average': {\n",
    "            'Jaccard score': jaccard_LR, 'Recall score': recall_LR, 'F1 score': f1_LR\n",
    "        },\n",
    "        'Paid class': {\n",
    "            'Jaccard score': jaccard_score(y_test, LRpred, pos_label=0), 'Recall score': recall_score(y_test, LRpred, pos_label=0), 'F1 score': f1_score(y_test, LRpred, pos_label=0)\n",
    "        },\n",
    "        \n",
    "        'Defaulted class': {\n",
    "            'Jaccard score': jaccard_score(y_test, LRpred, pos_label=1), 'Recall score': recall_score(y_test, LRpred, pos_label=1), 'F1 score': f1_score(y_test, LRpred, pos_label=1)\n",
    "        },\n",
    "    }\n",
    "}"
   ]
  },
  {
   "cell_type": "code",
   "execution_count": 189,
   "metadata": {},
   "outputs": [],
   "source": [
    "results_df = pd.DataFrame.from_dict({(i,j): results[i][j] \n",
    "                           for i in results.keys() \n",
    "                           for j in results[i].keys()},\n",
    "                       orient='index')"
   ]
  },
  {
   "cell_type": "code",
   "execution_count": 262,
   "metadata": {},
   "outputs": [
    {
     "data": {
      "text/plain": [
       "Text(0.5, 0.98, 'Accuracy scores of all 3 models per class and average')"
      ]
     },
     "execution_count": 262,
     "metadata": {},
     "output_type": "execute_result"
    },
    {
     "data": {
      "image/png": "[encoded data removed]",
      "text/plain": [
       "<Figure size 1296x720 with 3 Axes>"
      ]
     },
     "metadata": {
      "needs_background": "light"
     },
     "output_type": "display_data"
    }
   ],
   "source": [
    "fig = plt.figure(figsize=(18,10))\n",
    "ax1 = fig.add_subplot(1,3,1)\n",
    "ax1 = results_df.loc['K nearest neighbours'].plot(kind='bar', width=0.8, ax=ax1)\n",
    "for p in ax1.patches:\n",
    "    ax1.annotate(format(round(p.get_height(), 2)),\n",
    "                   (p.get_x() + p.get_width() / 2., p.get_height()),\n",
    "                   ha='center', va='center',\n",
    "                   xytext=(0, 9),\n",
    "                   textcoords='offset points')\n",
    "ax1.set_xticklabels(results_df.loc['K nearest neighbours'].index, rotation=0)\n",
    "ax1.set_title('K nearest neighbours', size=16)\n",
    "ax2 = fig.add_subplot(1,3,2)\n",
    "ax2 = results_df.loc['Decision Tree'].plot(kind='bar', width=0.8, ax=ax2)\n",
    "for p in ax2.patches:\n",
    "    ax2.annotate(format(round(p.get_height(), 2)),\n",
    "                   (p.get_x() + p.get_width() / 2., p.get_height()),\n",
    "                   ha='center', va='center',\n",
    "                   xytext=(0, 9),\n",
    "                   textcoords='offset points')\n",
    "ax2.set_xticklabels(results_df.loc['Decision Tree'].index, rotation=0)\n",
    "ax2.set_title('Decision Tree', size=16)\n",
    "ax3 = fig.add_subplot(1,3,3)\n",
    "ax3 = results_df.loc['Logistic Regression'].plot(kind='bar', width=0.8, ax=ax3)\n",
    "for p in ax3.patches:\n",
    "    ax3.annotate(format(round(p.get_height(), 2)),\n",
    "                   (p.get_x() + p.get_width() / 2., p.get_height()),\n",
    "                   ha='center', va='center',\n",
    "                   xytext=(0, 9),\n",
    "                   textcoords='offset points')\n",
    "ax3.set_xticklabels(results_df.loc['Decision Tree'].index, rotation=0)\n",
    "ax3.set_title('Logistics Regression', size=16)\n",
    "fig.suptitle('Accuracy scores of all 3 models per class and average', size=20)"
   ]
  },
  {
   "cell_type": "code",
   "execution_count": 273,
   "metadata": {},
   "outputs": [
    {
     "name": "stdout",
     "output_type": "stream",
     "text": [
      "K nearest Neighbours: \n",
      "               precision    recall  f1-score   support\n",
      "\n",
      "           0       0.79      0.79      0.79     11719\n",
      "           1       0.25      0.25      0.25      3281\n",
      "\n",
      "    accuracy                           0.67     15000\n",
      "   macro avg       0.52      0.52      0.52     15000\n",
      "weighted avg       0.67      0.67      0.67     15000\n",
      " \n",
      " Decision Tree: \n",
      "              precision    recall  f1-score   support\n",
      "\n",
      "           0       0.79      0.96      0.86     11719\n",
      "           1       0.33      0.08      0.13      3281\n",
      "\n",
      "    accuracy                           0.76     15000\n",
      "   macro avg       0.56      0.52      0.49     15000\n",
      "weighted avg       0.69      0.76      0.70     15000\n",
      " \n",
      " Logistic Regression: \n",
      "              precision    recall  f1-score   support\n",
      "\n",
      "           0       0.83      0.54      0.65     11719\n",
      "           1       0.27      0.61      0.37      3281\n",
      "\n",
      "    accuracy                           0.56     15000\n",
      "   macro avg       0.55      0.57      0.51     15000\n",
      "weighted avg       0.71      0.56      0.59     15000\n",
      "\n"
     ]
    }
   ],
   "source": [
    "print(\n",
    "f'K nearest Neighbours: \\n {class_report_KNN_new} \\n Decision Tree: \\n{class_report_TREE_new} \\n Logistic Regression: \\n{class_report_LR_new}')"
   ]
  },
  {
   "cell_type": "markdown",
   "metadata": {},
   "source": [
    "# Conclusion"
   ]
  },
  {
   "cell_type": "code",
   "execution_count": 334,
   "metadata": {},
   "outputs": [
    {
     "data": {
      "text/plain": [
       "0    182543\n",
       "1     50611\n",
       "Name: LOAN_DEFAULT, dtype: int64"
      ]
     },
     "execution_count": 334,
     "metadata": {},
     "output_type": "execute_result"
    }
   ],
   "source": [
    "df_train['LOAN_DEFAULT'].value_counts()"
   ]
  },
  {
   "cell_type": "code",
   "execution_count": 335,
   "metadata": {},
   "outputs": [],
   "source": [
    "train_paid = df_train.loc[df_train['LOAN_DEFAULT'] == 0].sample(50000)\n",
    "train_default = df_train.loc[df_train['LOAN_DEFAULT'] == 1].sample(50000)"
   ]
  },
  {
   "cell_type": "code",
   "execution_count": 336,
   "metadata": {},
   "outputs": [],
   "source": [
    "train_new = pd.concat([train_paid, train_default], axis=0)"
   ]
  },
  {
   "cell_type": "code",
   "execution_count": 337,
   "metadata": {},
   "outputs": [],
   "source": [
    "from sklearn.utils import shuffle\n",
    "train_new = shuffle(train_new)"
   ]
  },
  {
   "cell_type": "code",
   "execution_count": 321,
   "metadata": {},
   "outputs": [],
   "source": [
    "# Separating the class variables from the rest of the dataset\n",
    "X = train_new.drop(['LOAN_DEFAULT'], axis=1)\n",
    "y = train_new['LOAN_DEFAULT'].values"
   ]
  },
  {
   "cell_type": "code",
   "execution_count": 322,
   "metadata": {},
   "outputs": [],
   "source": [
    "binaries = X[['PAN_FLAG','VOTERID_FLAG','AADHAR_FLAG', 'DRIVING_FLAG', 'PASSPORT_FLAG', 'Salaried', 'Self employed']]\n",
    "continuous = X.drop(binaries, axis=1)"
   ]
  },
  {
   "cell_type": "code",
   "execution_count": 323,
   "metadata": {},
   "outputs": [],
   "source": [
    "continuous = StandardScaler().fit(continuous).transform(continuous.astype('float'))"
   ]
  },
  {
   "cell_type": "code",
   "execution_count": 324,
   "metadata": {},
   "outputs": [
    {
     "name": "stdout",
     "output_type": "stream",
     "text": [
      "(70000, 32) (30000, 32) (70000,) (30000,)\n"
     ]
    }
   ],
   "source": [
    "X_train, X_test, y_train, y_test = train_test_split(X, y, test_size=0.3, random_state=27)\n",
    "print(X_train.shape, X_test.shape, y_train.shape, y_test.shape)"
   ]
  },
  {
   "cell_type": "code",
   "execution_count": 325,
   "metadata": {},
   "outputs": [],
   "source": [
    "knn = KNeighborsClassifier(n_neighbors=2).fit(X_train, y_train)"
   ]
  },
  {
   "cell_type": "code",
   "execution_count": 326,
   "metadata": {},
   "outputs": [],
   "source": [
    "KNNpred = knn.predict(X_test)"
   ]
  },
  {
   "cell_type": "code",
   "execution_count": 333,
   "metadata": {},
   "outputs": [
    {
     "data": {
      "text/plain": [
       "0.2856856856856857"
      ]
     },
     "execution_count": 333,
     "metadata": {},
     "output_type": "execute_result"
    }
   ],
   "source": [
    "recall_score(y_test, KNNpred, pos_label=1)"
   ]
  },
  {
   "cell_type": "code",
   "execution_count": 338,
   "metadata": {},
   "outputs": [],
   "source": [
    "def prepare_data(df):\n",
    "    # Separating the class variables from the rest of the dataset\n",
    "    X = df.drop(['LOAN_DEFAULT'], axis=1)\n",
    "    y = df['LOAN_DEFAULT'].values\n",
    "    binaries = X[['PAN_FLAG','VOTERID_FLAG','AADHAR_FLAG', 'DRIVING_FLAG', 'PASSPORT_FLAG', 'Salaried', 'Self employed']]\n",
    "    continuous = X.drop(binaries, axis=1)\n",
    "    continuous = StandardScaler().fit(continuous).transform(continuous.astype('float'))\n",
    "    X_train, X_test, y_train, y_test = train_test_split(X, y, test_size=0.3, random_state=27)\n",
    "    \n",
    "    \n",
    "    return X_train, X_test, y_train, y_test"
   ]
  },
  {
   "cell_type": "code",
   "execution_count": 340,
   "metadata": {},
   "outputs": [
    {
     "name": "stdout",
     "output_type": "stream",
     "text": [
      "(70000, 32) (30000, 32) (70000,) (30000,)\n"
     ]
    }
   ],
   "source": [
    "X_train, X_test, y_train, y_test = prepare_data(train_new)\n",
    "\n",
    "print(X_train.shape, X_test.shape, y_train.shape, y_test.shape)"
   ]
  },
  {
   "cell_type": "code",
   "execution_count": null,
   "metadata": {},
   "outputs": [],
   "source": []
  }
 ],
 "metadata": {
  "kernelspec": {
   "display_name": "Python 3",
   "language": "python",
   "name": "python3"
  },
  "language_info": {
   "codemirror_mode": {
    "name": "ipython",
    "version": 3
   },
   "file_extension": ".py",
   "mimetype": "text/x-python",
   "name": "python",
   "nbconvert_exporter": "python",
   "pygments_lexer": "ipython3",
   "version": "3.8.5"
  }
 },
 "nbformat": 4,
 "nbformat_minor": 4
}
