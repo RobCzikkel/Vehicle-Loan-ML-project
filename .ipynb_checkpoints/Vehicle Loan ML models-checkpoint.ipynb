{
 "cells": [
  {
   "cell_type": "code",
   "execution_count": 60,
   "metadata": {},
   "outputs": [],
   "source": [
    "import pandas as pd\n",
    "import numpy as np\n",
    "import seaborn as sns\n",
    "import matplotlib.pyplot as plt\n",
    "import matplotlib as mpl\n",
    "from sklearn.model_selection import train_test_split\n",
    "from sklearn.preprocessing import StandardScaler\n",
    "from sklearn.metrics import jaccard_score, confusion_matrix, classification_report, f1_score, accuracy_score, recall_score"
   ]
  },
  {
   "cell_type": "code",
   "execution_count": 61,
   "metadata": {},
   "outputs": [],
   "source": [
    "df_train = pd.read_csv('train_new.csv', index_col=0)\n",
    "df_test = pd.read_csv('test_new.csv', index_col=0)"
   ]
  },
  {
   "cell_type": "code",
   "execution_count": 62,
   "metadata": {},
   "outputs": [
    {
     "data": {
      "text/plain": [
       "(233154, 33)"
      ]
     },
     "execution_count": 62,
     "metadata": {},
     "output_type": "execute_result"
    }
   ],
   "source": [
    "df_train.shape"
   ]
  },
  {
   "cell_type": "markdown",
   "metadata": {},
   "source": [
    "<br>\n",
    "\n",
    "Due to the size of the data and the lack of computing power on my machine I will take a random sample of 10000 records of this dataset.\n",
    "\n",
    "\n",
    "This will help reduce the processing time when using models like SVM or KNN."
   ]
  },
  {
   "cell_type": "code",
   "execution_count": 63,
   "metadata": {},
   "outputs": [],
   "source": [
    "train = df_train.sample(10000)"
   ]
  },
  {
   "cell_type": "markdown",
   "metadata": {},
   "source": [
    "<br>\n",
    "<br>\n",
    "Let's compare the distribution of LOAN_DEFAULT values in the original vs the random sample dataset"
   ]
  },
  {
   "cell_type": "code",
   "execution_count": 64,
   "metadata": {
    "scrolled": true
   },
   "outputs": [
    {
     "name": "stdout",
     "output_type": "stream",
     "text": [
      "Random set: \n",
      " 0    0.7782\n",
      "1    0.2218\n",
      "Name: LOAN_DEFAULT, dtype: float64, \n",
      " Original set: \n",
      " 0    0.782929\n",
      "1    0.217071\n",
      "Name: LOAN_DEFAULT, dtype: float64\n"
     ]
    }
   ],
   "source": [
    "print(f'Random set: \\n {train.LOAN_DEFAULT.value_counts(normalize=True)}, \\n Original set: \\n {df_train.LOAN_DEFAULT.value_counts(normalize=True)}')"
   ]
  },
  {
   "cell_type": "markdown",
   "metadata": {},
   "source": [
    "<br>\n",
    "\n",
    "\n",
    "#### They are fairly close with a similar distribution in values of LOAN_DEFAULT, so the random set is a true representation of the large, original set.\n",
    "\n",
    "___"
   ]
  },
  {
   "cell_type": "markdown",
   "metadata": {},
   "source": [
    "# Preprocessing and normalizing the data\n",
    "\n",
    "<br>\n",
    "\n",
    "In this section I will:\n",
    "+ separate the class variable from the rest of the dataset\n",
    "+ separate binary values from continuous ones\n",
    "+ normalize continuous values\n",
    "+ split the data to train and test set"
   ]
  },
  {
   "cell_type": "code",
   "execution_count": 65,
   "metadata": {},
   "outputs": [],
   "source": [
    "# Separating the class variables from the rest of the dataset\n",
    "X = train.drop(['LOAN_DEFAULT'], axis=1)\n",
    "y = train['LOAN_DEFAULT'].values"
   ]
  },
  {
   "cell_type": "code",
   "execution_count": 66,
   "metadata": {},
   "outputs": [],
   "source": [
    "binaries = X[['PAN_FLAG','VOTERID_FLAG','AADHAR_FLAG', 'DRIVING_FLAG', 'PASSPORT_FLAG', 'Salaried', 'Self employed']]\n",
    "continuous = X.drop(binaries, axis=1)"
   ]
  },
  {
   "cell_type": "code",
   "execution_count": 67,
   "metadata": {},
   "outputs": [],
   "source": [
    "continuous = StandardScaler().fit(continuous).transform(continuous.astype('float'))"
   ]
  },
  {
   "cell_type": "code",
   "execution_count": 68,
   "metadata": {},
   "outputs": [
    {
     "data": {
      "text/plain": [
       "array([[ 0.        ,  0.        ,  1.        ,  0.        ,  0.        ,\n",
       "         0.        ,  1.        ,  0.17455958,  0.78660889, -0.8420178 ,\n",
       "        -0.90380737,  0.88768816,  0.79234773, -0.94823918,  0.20943114,\n",
       "         0.9428312 , -0.28793377, -0.01525282,  1.56405276, -0.1626355 ,\n",
       "        -0.19350434, -0.19210859, -0.04582071, -0.0490603 , -0.04837275,\n",
       "        -0.14411031, -0.39975814,  2.46919394,  0.22732172, -0.13925884,\n",
       "        -0.29534848, -0.40749567]])"
      ]
     },
     "execution_count": 68,
     "metadata": {},
     "output_type": "execute_result"
    }
   ],
   "source": [
    "X = np.concatenate((binaries.values, continuous), axis=1)\n",
    "X[:1]"
   ]
  },
  {
   "cell_type": "markdown",
   "metadata": {},
   "source": [
    "<br>\n",
    "\n",
    "*Although the original data was split to train and test sets, I discovered that the test data had not been labeled, which makes it difficult to measure the accuracy of the models.*\n",
    "\n",
    "*To resolve, this I will split the train dataset with a 0.3 test size so that I can measure the accuracy.*\n",
    "\n",
    "*The dataset called 'test' will be used for the actual prediction once the models have been built.*"
   ]
  },
  {
   "cell_type": "code",
   "execution_count": 69,
   "metadata": {},
   "outputs": [
    {
     "name": "stdout",
     "output_type": "stream",
     "text": [
      "(7000, 32) (3000, 32) (7000,) (3000,)\n"
     ]
    }
   ],
   "source": [
    "X_train, X_test, y_train, y_test = train_test_split(X, y, test_size=0.3, random_state=27)\n",
    "print(X_train.shape, X_test.shape, y_train.shape, y_test.shape)"
   ]
  },
  {
   "cell_type": "code",
   "execution_count": 70,
   "metadata": {},
   "outputs": [],
   "source": [
    "# Factory function for confusion matrices\n",
    "import itertools\n",
    "def plot_confusion_matrix(cm, classes,\n",
    "                          normalize=False,\n",
    "                          title='Confusion matrix',\n",
    "                          cmap=plt.cm.Blues):\n",
    "    \"\"\"\n",
    "    This function prints and plots the confusion matrix.\n",
    "    Normalization can be applied by setting `normalize=True`.\n",
    "    \"\"\"\n",
    "    if normalize:\n",
    "        cm = cm.astype('float') / cm.sum(axis=1)[:, np.newaxis]\n",
    "        print(\"Normalized confusion matrix\")\n",
    "    else:\n",
    "        print('Confusion matrix, without normalization')\n",
    "\n",
    "    print(cm)\n",
    "\n",
    "    plt.imshow(cm, interpolation='nearest', cmap=cmap)\n",
    "    plt.title(title)\n",
    "    plt.colorbar()\n",
    "    tick_marks = np.arange(len(classes))\n",
    "    plt.xticks(tick_marks, classes, rotation=45)\n",
    "    plt.yticks(tick_marks, classes)\n",
    "\n",
    "    fmt = '.2f' if normalize else 'd'\n",
    "    thresh = cm.max() / 2.\n",
    "    for i, j in itertools.product(range(cm.shape[0]), range(cm.shape[1])):\n",
    "        plt.text(j, i, format(cm[i, j], fmt),\n",
    "                 horizontalalignment=\"center\",\n",
    "                 color=\"white\" if cm[i, j] > thresh else \"black\")\n",
    "\n",
    "    plt.tight_layout()\n",
    "    plt.ylabel('True label')\n",
    "    plt.xlabel('Predicted label')\n"
   ]
  },
  {
   "cell_type": "markdown",
   "metadata": {},
   "source": [
    "\n",
    "\n",
    "# 1st model: K-nearest neighbor\n",
    "\n",
    "\n",
    "___\n",
    "First, I will find the best value for k"
   ]
  },
  {
   "cell_type": "code",
   "execution_count": 71,
   "metadata": {},
   "outputs": [],
   "source": [
    "from sklearn.neighbors import KNeighborsClassifier"
   ]
  },
  {
   "cell_type": "code",
   "execution_count": 72,
   "metadata": {},
   "outputs": [],
   "source": [
    "Ks = np.arange(1,20, 1);\n",
    "scores = []\n",
    "for k in Ks:\n",
    "    knn  = KNeighborsClassifier(n_neighbors=k).fit(X_train,y_train)\n",
    "    yhat = knn.predict(X_test)\n",
    "    scores.append(accuracy_score(y_test, yhat))"
   ]
  },
  {
   "cell_type": "code",
   "execution_count": 73,
   "metadata": {},
   "outputs": [
    {
     "data": {
      "image/png": "[encoded data removed]",
      "text/plain": [
       "<Figure size 1008x576 with 1 Axes>"
      ]
     },
     "metadata": {
      "needs_background": "light"
     },
     "output_type": "display_data"
    }
   ],
   "source": [
    "plt.figure(figsize=(14,8))\n",
    "plt.plot(Ks, scores)\n",
    "plt.xticks(Ks)\n",
    "plt.title('Accuracy by K values', size=18)\n",
    "plt.show()"
   ]
  },
  {
   "cell_type": "markdown",
   "metadata": {},
   "source": [
    "Based on the chart the k value with the highest accuracy on this dataset is 18.\n",
    "\n",
    "I will now run the model with this k value and save the predictions"
   ]
  },
  {
   "cell_type": "code",
   "execution_count": 74,
   "metadata": {},
   "outputs": [
    {
     "data": {
      "text/plain": [
       "array([0, 0, 0, ..., 0, 0, 0])"
      ]
     },
     "execution_count": 74,
     "metadata": {},
     "output_type": "execute_result"
    }
   ],
   "source": [
    "knn  = KNeighborsClassifier(n_neighbors=18).fit(X_train,y_train)\n",
    "KNNpred = knn.predict(X_test)\n",
    "KNNpred"
   ]
  },
  {
   "cell_type": "code",
   "execution_count": 75,
   "metadata": {},
   "outputs": [
    {
     "data": {
      "text/plain": [
       "0.7791428571428571"
      ]
     },
     "execution_count": 75,
     "metadata": {},
     "output_type": "execute_result"
    }
   ],
   "source": [
    "knn.score(X_train, y_train)"
   ]
  },
  {
   "cell_type": "code",
   "execution_count": 76,
   "metadata": {},
   "outputs": [
    {
     "name": "stdout",
     "output_type": "stream",
     "text": [
      "0.6087207201287822 0.6864545070845812 0.7783333333333333 0.7783333333333333\n"
     ]
    }
   ],
   "source": [
    "jaccard_KNN = jaccard_score(y_test, KNNpred, average='weighted')\n",
    "f1_KNN = f1_score(y_test, KNNpred, average='weighted')\n",
    "accuracy_KNN = accuracy_score(y_test, KNNpred)\n",
    "recall_KNN = recall_score(y_test, KNNpred, average='weighted')\n",
    "print(jaccard_KNN, f1_KNN, accuracy_KNN, recall_KNN)"
   ]
  },
  {
   "cell_type": "code",
   "execution_count": 77,
   "metadata": {
    "scrolled": false
   },
   "outputs": [
    {
     "name": "stdout",
     "output_type": "stream",
     "text": [
      "Normalized confusion matrix\n",
      "[[0.99529915 0.00470085]\n",
      " [0.99090909 0.00909091]]\n"
     ]
    },
    {
     "data": {
      "image/png": "[encoded data removed]",
      "text/plain": [
       "<Figure size 432x288 with 2 Axes>"
      ]
     },
     "metadata": {
      "needs_background": "light"
     },
     "output_type": "display_data"
    }
   ],
   "source": [
    "cm = confusion_matrix(y_test, KNNpred, labels=[0,1])\n",
    "plot_confusion_matrix(cm, classes=['Paid Off','Defaulted'],normalize= True,  title='Confusion matrix')"
   ]
  },
  {
   "cell_type": "code",
   "execution_count": 78,
   "metadata": {},
   "outputs": [
    {
     "name": "stdout",
     "output_type": "stream",
     "text": [
      "              precision    recall  f1-score   support\n",
      "\n",
      "           0       0.78      1.00      0.88      2340\n",
      "           1       0.35      0.01      0.02       660\n",
      "\n",
      "    accuracy                           0.78      3000\n",
      "   macro avg       0.57      0.50      0.45      3000\n",
      "weighted avg       0.69      0.78      0.69      3000\n",
      "\n"
     ]
    }
   ],
   "source": [
    "class_report_KNN = classification_report(y_test, KNNpred)\n",
    "print(class_report_KNN)"
   ]
  },
  {
   "cell_type": "markdown",
   "metadata": {},
   "source": [
    "---\n",
    "# 2nd model: Decision Tree\n",
    "\n",
    "<br>\n",
    "\n",
    "Let's first see what's the best value for max_depth"
   ]
  },
  {
   "cell_type": "code",
   "execution_count": 79,
   "metadata": {},
   "outputs": [],
   "source": [
    "from sklearn.tree import DecisionTreeClassifier"
   ]
  },
  {
   "cell_type": "code",
   "execution_count": 80,
   "metadata": {
    "scrolled": false
   },
   "outputs": [
    {
     "data": {
      "image/png": "[encoded data removed]",
      "text/plain": [
       "<Figure size 1008x576 with 1 Axes>"
      ]
     },
     "metadata": {
      "needs_background": "light"
     },
     "output_type": "display_data"
    }
   ],
   "source": [
    "values = range(2,11)\n",
    "scores = []\n",
    "for value in values:\n",
    "    tree = DecisionTreeClassifier(criterion='entropy', max_depth=value).fit(X_train, y_train)\n",
    "    yhat = tree.predict(X_test)\n",
    "    scores.append(accuracy_score(y_test, yhat))\n",
    "plt.figure(figsize=(14,8))\n",
    "plt.plot(values, scores)\n",
    "plt.title('Accuracy per max depth values')\n",
    "plt.show()"
   ]
  },
  {
   "cell_type": "markdown",
   "metadata": {},
   "source": [
    "A value of 2 seems to produce the best result"
   ]
  },
  {
   "cell_type": "code",
   "execution_count": 81,
   "metadata": {},
   "outputs": [],
   "source": [
    "tree = DecisionTreeClassifier(criterion='entropy', max_depth=4).fit(X_train, y_train)"
   ]
  },
  {
   "cell_type": "code",
   "execution_count": 82,
   "metadata": {},
   "outputs": [
    {
     "data": {
      "text/plain": [
       "0.7785714285714286"
      ]
     },
     "execution_count": 82,
     "metadata": {},
     "output_type": "execute_result"
    }
   ],
   "source": [
    "tree.score(X_train,y_train)"
   ]
  },
  {
   "cell_type": "code",
   "execution_count": 83,
   "metadata": {},
   "outputs": [],
   "source": [
    "TREEpred = tree.predict(X_test)"
   ]
  },
  {
   "cell_type": "code",
   "execution_count": 84,
   "metadata": {},
   "outputs": [
    {
     "name": "stdout",
     "output_type": "stream",
     "text": [
      "0.611641381583218 0.6904687294239834 0.7803333333333333 0.7803333333333333\n"
     ]
    }
   ],
   "source": [
    "accuracy_TREE = accuracy_score(y_test, TREEpred)\n",
    "jaccard_TREE = jaccard_score(y_test, TREEpred, average='weighted')\n",
    "f1_TREE = f1_score(y_test, TREEpred, average='weighted')\n",
    "recall_TREE = recall_score(y_test, TREEpred, average='weighted')\n",
    "print(jaccard_TREE, f1_TREE, accuracy_TREE, recall_TREE)"
   ]
  },
  {
   "cell_type": "code",
   "execution_count": 85,
   "metadata": {
    "scrolled": false
   },
   "outputs": [
    {
     "name": "stdout",
     "output_type": "stream",
     "text": [
      "Normalized confusion matrix\n",
      "[[0.9957265  0.0042735 ]\n",
      " [0.98333333 0.01666667]]\n"
     ]
    },
    {
     "data": {
      "image/png": "[encoded data removed]",
      "text/plain": [
       "<Figure size 432x288 with 2 Axes>"
      ]
     },
     "metadata": {
      "needs_background": "light"
     },
     "output_type": "display_data"
    }
   ],
   "source": [
    "cm = confusion_matrix(y_test, TREEpred, labels=[0,1])\n",
    "plot_confusion_matrix(cm, classes=['Paid Off','Defaulted'],normalize= True,  title='Confusion matrix')"
   ]
  },
  {
   "cell_type": "code",
   "execution_count": 86,
   "metadata": {},
   "outputs": [
    {
     "name": "stdout",
     "output_type": "stream",
     "text": [
      "              precision    recall  f1-score   support\n",
      "\n",
      "           0       0.78      1.00      0.88      2340\n",
      "           1       0.52      0.02      0.03       660\n",
      "\n",
      "    accuracy                           0.78      3000\n",
      "   macro avg       0.65      0.51      0.45      3000\n",
      "weighted avg       0.73      0.78      0.69      3000\n",
      "\n"
     ]
    }
   ],
   "source": [
    "class_report_TREE = classification_report(y_test, TREEpred)\n",
    "print(class_report_TREE)"
   ]
  },
  {
   "cell_type": "markdown",
   "metadata": {},
   "source": [
    "---\n",
    "\n",
    "\n",
    "# 3rd model: Logistic Regression\n",
    "\n",
    "\n",
    "<br>\n",
    "\n",
    "\n",
    "I will use the liblinear solver with a regularization value of 0.01"
   ]
  },
  {
   "cell_type": "code",
   "execution_count": 87,
   "metadata": {},
   "outputs": [],
   "source": [
    "from sklearn.linear_model import LogisticRegression"
   ]
  },
  {
   "cell_type": "code",
   "execution_count": 88,
   "metadata": {},
   "outputs": [],
   "source": [
    "lr = LogisticRegression(C=0.01, solver='liblinear').fit(X_train, y_train.astype('int'))"
   ]
  },
  {
   "cell_type": "code",
   "execution_count": 89,
   "metadata": {},
   "outputs": [
    {
     "data": {
      "text/plain": [
       "array([0, 0, 0, 0, 0])"
      ]
     },
     "execution_count": 89,
     "metadata": {},
     "output_type": "execute_result"
    }
   ],
   "source": [
    "LRpred = lr.predict(X_test)\n",
    "LRpred[:5]"
   ]
  },
  {
   "cell_type": "code",
   "execution_count": 90,
   "metadata": {},
   "outputs": [
    {
     "name": "stdout",
     "output_type": "stream",
     "text": [
      "0.6113638711543627 0.688597014925373 0.7813333333333333 0.7813333333333333\n"
     ]
    }
   ],
   "source": [
    "accuracy_LR = accuracy_score(y_test, LRpred)\n",
    "jaccard_LR = jaccard_score(y_test, LRpred, average='weighted')\n",
    "f1_LR = f1_score(y_test, LRpred, average='weighted')\n",
    "recall_LR = recall_score(y_test, LRpred, average='weighted')\n",
    "print(jaccard_LR, f1_LR, accuracy_LR, recall_LR)"
   ]
  },
  {
   "cell_type": "code",
   "execution_count": 91,
   "metadata": {
    "scrolled": false
   },
   "outputs": [
    {
     "name": "stdout",
     "output_type": "stream",
     "text": [
      "              precision    recall  f1-score   support\n",
      "\n",
      "           0       0.78      1.00      0.88      2340\n",
      "           1       0.70      0.01      0.02       660\n",
      "\n",
      "    accuracy                           0.78      3000\n",
      "   macro avg       0.74      0.50      0.45      3000\n",
      "weighted avg       0.76      0.78      0.69      3000\n",
      "\n"
     ]
    }
   ],
   "source": [
    "class_report_LR = classification_report(y_test, LRpred)\n",
    "print(class_report_LR)"
   ]
  },
  {
   "cell_type": "code",
   "execution_count": 92,
   "metadata": {
    "scrolled": false
   },
   "outputs": [
    {
     "name": "stdout",
     "output_type": "stream",
     "text": [
      "Normalized confusion matrix\n",
      "[[0.99871795 0.00128205]\n",
      " [0.98939394 0.01060606]]\n"
     ]
    },
    {
     "data": {
      "image/png": "[encoded data removed]",
      "text/plain": [
       "<Figure size 432x288 with 2 Axes>"
      ]
     },
     "metadata": {
      "needs_background": "light"
     },
     "output_type": "display_data"
    }
   ],
   "source": [
    "cm = confusion_matrix(y_test, LRpred, labels=[0,1])\n",
    "plot_confusion_matrix(cm, classes=['Paid Off','Defaulted'],normalize= True,  title='Confusion matrix')"
   ]
  },
  {
   "cell_type": "markdown",
   "metadata": {},
   "source": [
    "---\n",
    "\n",
    "# Evaluation of all 3 models"
   ]
  },
  {
   "cell_type": "code",
   "execution_count": 93,
   "metadata": {},
   "outputs": [],
   "source": [
    "model_scores = {\n",
    "    'K-nearest neighbours':{'Jaccard index': jaccard_KNN, 'F1 score': f1_KNN, 'Accuracy score': accuracy_KNN, 'Recall score': recall_KNN},\n",
    "    'Decision Tree':{'Jaccard index': jaccard_TREE, 'F1 score': f1_TREE, 'Accuracy score': accuracy_TREE, 'Recall score': recall_TREE},\n",
    "    'Logistic Regression':{'Jaccard index': jaccard_LR, 'F1 score': f1_LR, 'Accuracy score': accuracy_LR, 'Recall score': recall_LR}\n",
    "}"
   ]
  },
  {
   "cell_type": "code",
   "execution_count": 94,
   "metadata": {},
   "outputs": [
    {
     "data": {
      "text/html": [
       "<div>\n",
       "<style scoped>\n",
       "    .dataframe tbody tr th:only-of-type {\n",
       "        vertical-align: middle;\n",
       "    }\n",
       "\n",
       "    .dataframe tbody tr th {\n",
       "        vertical-align: top;\n",
       "    }\n",
       "\n",
       "    .dataframe thead th {\n",
       "        text-align: right;\n",
       "    }\n",
       "</style>\n",
       "<table border=\"1\" class=\"dataframe\">\n",
       "  <thead>\n",
       "    <tr style=\"text-align: right;\">\n",
       "      <th></th>\n",
       "      <th>K-nearest neighbours</th>\n",
       "      <th>Decision Tree</th>\n",
       "      <th>Logistic Regression</th>\n",
       "    </tr>\n",
       "  </thead>\n",
       "  <tbody>\n",
       "    <tr>\n",
       "      <th>Jaccard index</th>\n",
       "      <td>0.608721</td>\n",
       "      <td>0.611641</td>\n",
       "      <td>0.611364</td>\n",
       "    </tr>\n",
       "    <tr>\n",
       "      <th>F1 score</th>\n",
       "      <td>0.686455</td>\n",
       "      <td>0.690469</td>\n",
       "      <td>0.688597</td>\n",
       "    </tr>\n",
       "    <tr>\n",
       "      <th>Accuracy score</th>\n",
       "      <td>0.778333</td>\n",
       "      <td>0.780333</td>\n",
       "      <td>0.781333</td>\n",
       "    </tr>\n",
       "    <tr>\n",
       "      <th>Recall score</th>\n",
       "      <td>0.778333</td>\n",
       "      <td>0.780333</td>\n",
       "      <td>0.781333</td>\n",
       "    </tr>\n",
       "  </tbody>\n",
       "</table>\n",
       "</div>"
      ],
      "text/plain": [
       "                K-nearest neighbours  Decision Tree  Logistic Regression\n",
       "Jaccard index               0.608721       0.611641             0.611364\n",
       "F1 score                    0.686455       0.690469             0.688597\n",
       "Accuracy score              0.778333       0.780333             0.781333\n",
       "Recall score                0.778333       0.780333             0.781333"
      ]
     },
     "execution_count": 94,
     "metadata": {},
     "output_type": "execute_result"
    }
   ],
   "source": [
    "report = pd.DataFrame(model_scores)\n",
    "report"
   ]
  },
  {
   "cell_type": "code",
   "execution_count": 95,
   "metadata": {
    "scrolled": false
   },
   "outputs": [
    {
     "data": {
      "image/png": "[encoded data removed]",
      "text/plain": [
       "<Figure size 1296x720 with 1 Axes>"
      ]
     },
     "metadata": {
      "needs_background": "light"
     },
     "output_type": "display_data"
    }
   ],
   "source": [
    "splt = report.T.plot(kind='bar', figsize=(18,10), width=0.8)\n",
    "for p in splt.patches:\n",
    "    splt.annotate(format(round(p.get_height(), 2) * 100)+\"%\",\n",
    "                   (p.get_x() + p.get_width() / 2., p.get_height()),\n",
    "                   ha='center', va='center',\n",
    "                   xytext=(0, 9),\n",
    "                   textcoords='offset points')\n",
    "plt.xticks(rotation=0, size=16)\n",
    "plt.title('Evalutaion of classification models')\n",
    "plt.show()"
   ]
  },
  {
   "cell_type": "code",
   "execution_count": 96,
   "metadata": {},
   "outputs": [
    {
     "name": "stdout",
     "output_type": "stream",
     "text": [
      "              precision    recall  f1-score   support\n",
      "\n",
      "           0       0.78      1.00      0.88      2340\n",
      "           1       0.35      0.01      0.02       660\n",
      "\n",
      "    accuracy                           0.78      3000\n",
      "   macro avg       0.57      0.50      0.45      3000\n",
      "weighted avg       0.69      0.78      0.69      3000\n",
      "               precision    recall  f1-score   support\n",
      "\n",
      "           0       0.78      1.00      0.88      2340\n",
      "           1       0.52      0.02      0.03       660\n",
      "\n",
      "    accuracy                           0.78      3000\n",
      "   macro avg       0.65      0.51      0.45      3000\n",
      "weighted avg       0.73      0.78      0.69      3000\n",
      "               precision    recall  f1-score   support\n",
      "\n",
      "           0       0.78      1.00      0.88      2340\n",
      "           1       0.70      0.01      0.02       660\n",
      "\n",
      "    accuracy                           0.78      3000\n",
      "   macro avg       0.74      0.50      0.45      3000\n",
      "weighted avg       0.76      0.78      0.69      3000\n",
      "\n"
     ]
    }
   ],
   "source": [
    "print(\n",
    "class_report_KNN,\n",
    "class_report_TREE,\n",
    "class_report_LR,\n",
    ")"
   ]
  },
  {
   "cell_type": "markdown",
   "metadata": {},
   "source": [
    "# Conclusion\n",
    "\n",
    "---\n",
    "None of the models performs well in predicting loan defaults:\n",
    "+ Apart from K nearest neighbors all models had zero correct predicition of defaults \n",
    "+ K nearest neighbours performed the best with a mere 2% correct predictions on defaults, which is still very low\n",
    "\n",
    "#### This issue here is the so called Imbalanced Classification problem that results from the skewed distribution of the class variable.\n",
    "* 78.29% of the data is classified as paid, and only 21.71% is labelled as defaulted\n",
    "\n",
    "The models are therefore treating the majority class as a default class and mislabels the test set as the minority class is seen as anomaly or abnormal case\n",
    "\n",
    "<br>\n",
    "\n",
    "**Solutions to overcome this problem could be:**\n",
    "+ increasing the size of the dataset\n",
    "+ resampling with SMOTE\n",
    "+ resampling with different ratios of the class\n"
   ]
  },
  {
   "cell_type": "markdown",
   "metadata": {},
   "source": [
    "---\n",
    "#### I will now increase the sample size and use SMOTE to oversample the Defaulted class"
   ]
  },
  {
   "cell_type": "code",
   "execution_count": 110,
   "metadata": {},
   "outputs": [],
   "source": [
    "train = df_train.sample(20000)"
   ]
  },
  {
   "cell_type": "code",
   "execution_count": 111,
   "metadata": {},
   "outputs": [],
   "source": [
    "# Separating the class variables from the rest of the dataset\n",
    "X = train.drop(['LOAN_DEFAULT'], axis=1)\n",
    "y = train['LOAN_DEFAULT'].values"
   ]
  },
  {
   "cell_type": "code",
   "execution_count": 112,
   "metadata": {},
   "outputs": [],
   "source": [
    "binaries = X[['PAN_FLAG','VOTERID_FLAG','AADHAR_FLAG', 'DRIVING_FLAG', 'PASSPORT_FLAG', 'Salaried', 'Self employed']]\n",
    "continuous = X.drop(binaries, axis=1)"
   ]
  },
  {
   "cell_type": "code",
   "execution_count": 113,
   "metadata": {},
   "outputs": [],
   "source": [
    "continuous = StandardScaler().fit(continuous).transform(continuous.astype('float'))"
   ]
  },
  {
   "cell_type": "code",
   "execution_count": 114,
   "metadata": {},
   "outputs": [
    {
     "name": "stdout",
     "output_type": "stream",
     "text": [
      "(14000, 32) (6000, 32) (14000,) (6000,)\n"
     ]
    }
   ],
   "source": [
    "X_train, X_test, y_train, y_test = train_test_split(X, y, test_size=0.3, random_state=27)\n",
    "print(X_train.shape, X_test.shape, y_train.shape, y_test.shape)"
   ]
  },
  {
   "cell_type": "code",
   "execution_count": 115,
   "metadata": {},
   "outputs": [],
   "source": [
    "from imblearn.over_sampling import SMOTE"
   ]
  },
  {
   "cell_type": "code",
   "execution_count": 116,
   "metadata": {},
   "outputs": [
    {
     "name": "stdout",
     "output_type": "stream",
     "text": [
      "(21856, 32) (21856,)\n"
     ]
    }
   ],
   "source": [
    "sm = SMOTE(random_state=27)\n",
    "\n",
    "X_train, y_train = sm.fit_resample(X_train, y_train)\n",
    "print(X_train.shape, y_train.shape)"
   ]
  },
  {
   "cell_type": "markdown",
   "metadata": {},
   "source": [
    "# K nearest neighbors 2nd round"
   ]
  },
  {
   "cell_type": "code",
   "execution_count": 117,
   "metadata": {},
   "outputs": [],
   "source": [
    "Ks = np.arange(1,10, 1);\n",
    "scores = []\n",
    "for k in Ks:\n",
    "    knn  = KNeighborsClassifier(n_neighbors=k).fit(X_train,y_train)\n",
    "    yhat = knn.predict(X_test)\n",
    "    scores.append(accuracy_score(y_test, yhat))"
   ]
  },
  {
   "cell_type": "code",
   "execution_count": 118,
   "metadata": {},
   "outputs": [
    {
     "data": {
      "image/png": "[encoded data removed]",
      "text/plain": [
       "<Figure size 1008x576 with 1 Axes>"
      ]
     },
     "metadata": {
      "needs_background": "light"
     },
     "output_type": "display_data"
    }
   ],
   "source": [
    "plt.figure(figsize=(14,8))\n",
    "plt.plot(Ks, scores)\n",
    "plt.xticks(Ks)\n",
    "plt.title('Accuracy by K values', size=18)\n",
    "plt.show()"
   ]
  },
  {
   "cell_type": "code",
   "execution_count": 119,
   "metadata": {},
   "outputs": [],
   "source": [
    "knn  = KNeighborsClassifier(n_neighbors=2).fit(X_train,y_train)\n",
    "KNNpred = knn.predict(X_test)"
   ]
  },
  {
   "cell_type": "code",
   "execution_count": 120,
   "metadata": {},
   "outputs": [
    {
     "name": "stdout",
     "output_type": "stream",
     "text": [
      "0.5405527215680312 0.6704504286347912 0.6688333333333333 0.6688333333333333\n"
     ]
    }
   ],
   "source": [
    "jaccard_KNN = jaccard_score(y_test, KNNpred, average='weighted')\n",
    "f1_KNN = f1_score(y_test, KNNpred, average='weighted')\n",
    "accuracy_KNN = accuracy_score(y_test, KNNpred)\n",
    "recall_KNN = recall_score(y_test, KNNpred, average='weighted')\n",
    "print(jaccard_KNN, f1_KNN, accuracy_KNN, recall_KNN)"
   ]
  },
  {
   "cell_type": "code",
   "execution_count": 121,
   "metadata": {},
   "outputs": [
    {
     "name": "stdout",
     "output_type": "stream",
     "text": [
      "              precision    recall  f1-score   support\n",
      "\n",
      "           0       0.79      0.79      0.79      4720\n",
      "           1       0.23      0.24      0.23      1280\n",
      "\n",
      "    accuracy                           0.67      6000\n",
      "   macro avg       0.51      0.51      0.51      6000\n",
      "weighted avg       0.67      0.67      0.67      6000\n",
      "\n"
     ]
    }
   ],
   "source": [
    "print(classification_report(y_test, KNNpred))"
   ]
  },
  {
   "cell_type": "code",
   "execution_count": 122,
   "metadata": {},
   "outputs": [
    {
     "name": "stdout",
     "output_type": "stream",
     "text": [
      "Normalized confusion matrix\n",
      "[[0.78580508 0.21419492]\n",
      " [0.7625     0.2375    ]]\n"
     ]
    },
    {
     "data": {
      "image/png": "[encoded data removed]",
      "text/plain": [
       "<Figure size 432x288 with 2 Axes>"
      ]
     },
     "metadata": {
      "needs_background": "light"
     },
     "output_type": "display_data"
    }
   ],
   "source": [
    "cm = confusion_matrix(y_test, KNNpred, labels=[0,1])\n",
    "plot_confusion_matrix(cm, classes=['Paid Off','Defaulted'],normalize= True,  title='Confusion matrix')"
   ]
  },
  {
   "cell_type": "markdown",
   "metadata": {},
   "source": [
    "The overall scores seem to be lower but the model now predicts defaults with a 24% accuracy\n",
    "\n",
    "<br>\n",
    "\n",
    "I will now go on to re-run the other two models"
   ]
  },
  {
   "cell_type": "raw",
   "metadata": {},
   "source": []
  }
 ],
 "metadata": {
  "kernelspec": {
   "display_name": "Python 3",
   "language": "python",
   "name": "python3"
  },
  "language_info": {
   "codemirror_mode": {
    "name": "ipython",
    "version": 3
   },
   "file_extension": ".py",
   "mimetype": "text/x-python",
   "name": "python",
   "nbconvert_exporter": "python",
   "pygments_lexer": "ipython3",
   "version": "3.8.5"
  }
 },
 "nbformat": 4,
 "nbformat_minor": 4
}
