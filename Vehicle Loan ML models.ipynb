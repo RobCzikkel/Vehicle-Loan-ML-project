{
 "cells": [
  {
   "cell_type": "code",
   "execution_count": 277,
   "metadata": {},
   "outputs": [],
   "source": [
    "import pandas as pd\n",
    "import numpy as np\n",
    "import seaborn as sns\n",
    "import matplotlib.pyplot as plt\n",
    "import matplotlib as mpl\n",
    "from sklearn.model_selection import train_test_split\n",
    "from sklearn.preprocessing import StandardScaler\n",
    "from sklearn.metrics import jaccard_score, confusion_matrix, classification_report, f1_score, accuracy_score"
   ]
  },
  {
   "cell_type": "code",
   "execution_count": 278,
   "metadata": {},
   "outputs": [],
   "source": [
    "df_train = pd.read_csv('train_new.csv', index_col=0)\n",
    "df_test = pd.read_csv('test_new.csv', index_col=0)"
   ]
  },
  {
   "cell_type": "code",
   "execution_count": 279,
   "metadata": {},
   "outputs": [
    {
     "data": {
      "text/plain": [
       "(233154, 33)"
      ]
     },
     "execution_count": 279,
     "metadata": {},
     "output_type": "execute_result"
    }
   ],
   "source": [
    "df_train.shape"
   ]
  },
  {
   "cell_type": "markdown",
   "metadata": {},
   "source": [
    "<br>\n",
    "\n",
    "Due to the size of the data and the lack of computing power on my machine I will take a random sample of 10000 records of this dataset.\n",
    "\n",
    "\n",
    "This will help reduce the processing time when using models like SVM or KNN."
   ]
  },
  {
   "cell_type": "code",
   "execution_count": 280,
   "metadata": {},
   "outputs": [],
   "source": [
    "train = df_train.sample(10000)"
   ]
  },
  {
   "cell_type": "markdown",
   "metadata": {},
   "source": [
    "<br>\n",
    "<br>\n",
    "Let's compare the distribution of LOAN_DEFAULT values in the original vs the random sample dataset"
   ]
  },
  {
   "cell_type": "code",
   "execution_count": 281,
   "metadata": {
    "scrolled": true
   },
   "outputs": [
    {
     "name": "stdout",
     "output_type": "stream",
     "text": [
      "Random set: \n",
      " 0    0.7859\n",
      "1    0.2141\n",
      "Name: LOAN_DEFAULT, dtype: float64, \n",
      " Original set: \n",
      " 0    0.782929\n",
      "1    0.217071\n",
      "Name: LOAN_DEFAULT, dtype: float64\n"
     ]
    }
   ],
   "source": [
    "print(f'Random set: \\n {train.LOAN_DEFAULT.value_counts(normalize=True)}, \\n Original set: \\n {df_train.LOAN_DEFAULT.value_counts(normalize=True)}')"
   ]
  },
  {
   "cell_type": "markdown",
   "metadata": {},
   "source": [
    "<br>\n",
    "\n",
    "\n",
    "#### They are fairly close with a similar distribution in values of LOAN_DEFAULT, so the random set is a true representation of the large, original set.\n",
    "\n",
    "___"
   ]
  },
  {
   "cell_type": "markdown",
   "metadata": {},
   "source": [
    "# Preprocessing and normalizing the data\n",
    "\n",
    "<br>\n",
    "\n",
    "In this section I will:\n",
    "+ separate the class variable from the rest of the dataset\n",
    "+ separate binary values from continuous ones\n",
    "+ normalize continuous values\n",
    "+ split the data to train and test set"
   ]
  },
  {
   "cell_type": "code",
   "execution_count": 282,
   "metadata": {},
   "outputs": [],
   "source": [
    "# Separating the class variables from the rest of the dataset\n",
    "X = train.drop(['LOAN_DEFAULT'], axis=1)\n",
    "y = train['LOAN_DEFAULT'].values"
   ]
  },
  {
   "cell_type": "code",
   "execution_count": 283,
   "metadata": {},
   "outputs": [],
   "source": [
    "binaries = X[['PAN_FLAG','VOTERID_FLAG','AADHAR_FLAG', 'DRIVING_FLAG', 'PASSPORT_FLAG', 'Salaried', 'Self employed']]\n",
    "continuous = X.drop(binaries, axis=1)"
   ]
  },
  {
   "cell_type": "code",
   "execution_count": 284,
   "metadata": {},
   "outputs": [],
   "source": [
    "continuous = StandardScaler().fit(continuous).transform(continuous.astype('float'))"
   ]
  },
  {
   "cell_type": "code",
   "execution_count": 285,
   "metadata": {},
   "outputs": [
    {
     "data": {
      "text/plain": [
       "array([[ 0.        ,  0.        ,  1.        ,  0.        ,  0.        ,\n",
       "         1.        ,  0.        , -1.30511005, -0.95574654, -0.35899798,\n",
       "        -1.00097019, -1.57353236, -1.08694052, -1.40152748,  0.48471018,\n",
       "         0.02437024, -0.29175236, -0.02595469,  1.50850072,  0.03585361,\n",
       "        -0.17962971, -0.17909871, -0.04900669, -0.05309429, -0.05225405,\n",
       "        -0.06581993, -0.4016582 , -0.26601103,  1.06784098,  0.33395952,\n",
       "        -0.2898591 , -1.0133066 ]])"
      ]
     },
     "execution_count": 285,
     "metadata": {},
     "output_type": "execute_result"
    }
   ],
   "source": [
    "X = np.concatenate((binaries.values, continuous), axis=1)\n",
    "X[:1]"
   ]
  },
  {
   "cell_type": "markdown",
   "metadata": {},
   "source": [
    "<br>\n",
    "\n",
    "*Although the original data was split to train and test sets, I discovered that the test data had not been labeled, which makes it difficult to measure the accuracy of the models.*\n",
    "\n",
    "*To resolve, this I will split the train dataset with a 0.3 test size so that I can measure the accuracy.*\n",
    "\n",
    "*The dataset called 'test' will be used for the actual prediction once the models have been built.*"
   ]
  },
  {
   "cell_type": "code",
   "execution_count": 286,
   "metadata": {},
   "outputs": [
    {
     "name": "stdout",
     "output_type": "stream",
     "text": [
      "(7000, 32) (3000, 32) (7000,) (3000,)\n"
     ]
    }
   ],
   "source": [
    "X_train, X_test, y_train, y_test = train_test_split(X, y, test_size=0.3, random_state=4)\n",
    "print(X_train.shape, X_test.shape, y_train.shape, y_test.shape)"
   ]
  },
  {
   "cell_type": "code",
   "execution_count": 287,
   "metadata": {},
   "outputs": [],
   "source": [
    "# Factory function for confusion matrices\n",
    "import itertools\n",
    "def plot_confusion_matrix(cm, classes,\n",
    "                          normalize=False,\n",
    "                          title='Confusion matrix',\n",
    "                          cmap=plt.cm.Blues):\n",
    "    \"\"\"\n",
    "    This function prints and plots the confusion matrix.\n",
    "    Normalization can be applied by setting `normalize=True`.\n",
    "    \"\"\"\n",
    "    if normalize:\n",
    "        cm = cm.astype('float') / cm.sum(axis=1)[:, np.newaxis]\n",
    "        print(\"Normalized confusion matrix\")\n",
    "    else:\n",
    "        print('Confusion matrix, without normalization')\n",
    "\n",
    "    print(cm)\n",
    "\n",
    "    plt.imshow(cm, interpolation='nearest', cmap=cmap)\n",
    "    plt.title(title)\n",
    "    plt.colorbar()\n",
    "    tick_marks = np.arange(len(classes))\n",
    "    plt.xticks(tick_marks, classes, rotation=45)\n",
    "    plt.yticks(tick_marks, classes)\n",
    "\n",
    "    fmt = '.2f' if normalize else 'd'\n",
    "    thresh = cm.max() / 2.\n",
    "    for i, j in itertools.product(range(cm.shape[0]), range(cm.shape[1])):\n",
    "        plt.text(j, i, format(cm[i, j], fmt),\n",
    "                 horizontalalignment=\"center\",\n",
    "                 color=\"white\" if cm[i, j] > thresh else \"black\")\n",
    "\n",
    "    plt.tight_layout()\n",
    "    plt.ylabel('True label')\n",
    "    plt.xlabel('Predicted label')\n"
   ]
  },
  {
   "cell_type": "markdown",
   "metadata": {},
   "source": [
    "\n",
    "\n",
    "# 1st model: K-nearest neighbor\n",
    "\n",
    "\n",
    "___\n",
    "First, I will find the best value for k"
   ]
  },
  {
   "cell_type": "code",
   "execution_count": 288,
   "metadata": {},
   "outputs": [],
   "source": [
    "from sklearn.neighbors import KNeighborsClassifier"
   ]
  },
  {
   "cell_type": "code",
   "execution_count": 289,
   "metadata": {},
   "outputs": [],
   "source": [
    "Ks = np.arange(1,20, 1);\n",
    "scores = []\n",
    "for k in Ks:\n",
    "    knn  = KNeighborsClassifier(n_neighbors=k).fit(X_train,y_train)\n",
    "    yhat = knn.predict(X_test)\n",
    "    scores.append(accuracy_score(y_test, yhat))"
   ]
  },
  {
   "cell_type": "code",
   "execution_count": 290,
   "metadata": {},
   "outputs": [
    {
     "data": {
      "image/png": "[encoded data removed]",
      "text/plain": [
       "<Figure size 1008x576 with 1 Axes>"
      ]
     },
     "metadata": {
      "needs_background": "light"
     },
     "output_type": "display_data"
    }
   ],
   "source": [
    "plt.figure(figsize=(14,8))\n",
    "plt.plot(Ks, scores)\n",
    "plt.xticks(Ks)\n",
    "plt.title('Accuracy by K values', size=18)\n",
    "plt.show()"
   ]
  },
  {
   "cell_type": "markdown",
   "metadata": {},
   "source": [
    "Based on the chart the k value with the highest accuracy on this dataset is 16.\n",
    "\n",
    "I will now run the model with this k value and save the predictions"
   ]
  },
  {
   "cell_type": "code",
   "execution_count": 247,
   "metadata": {},
   "outputs": [
    {
     "data": {
      "text/plain": [
       "array([0, 0, 0, ..., 0, 0, 0], dtype=int64)"
      ]
     },
     "execution_count": 247,
     "metadata": {},
     "output_type": "execute_result"
    }
   ],
   "source": [
    "knn  = KNeighborsClassifier(n_neighbors=16).fit(X_train,y_train)\n",
    "KNNpred = knn.predict(X_test)\n",
    "KNNpred"
   ]
  },
  {
   "cell_type": "code",
   "execution_count": 295,
   "metadata": {},
   "outputs": [
    {
     "data": {
      "text/plain": [
       "0.7878571428571428"
      ]
     },
     "execution_count": 295,
     "metadata": {},
     "output_type": "execute_result"
    }
   ],
   "source": [
    "knn.score(X_train, y_train)"
   ]
  },
  {
   "cell_type": "code",
   "execution_count": 248,
   "metadata": {},
   "outputs": [
    {
     "name": "stdout",
     "output_type": "stream",
     "text": [
      "0.6197550220480157 0.6996000000000001 0.7846666666666666\n"
     ]
    }
   ],
   "source": [
    "jaccard_KNN = jaccard_score(y_test, KNNpred, average='weighted')\n",
    "f1_KNN = f1_score(y_test, KNNpred, average='weighted')\n",
    "accuracy_KNN = accuracy_score(y_test, KNNpred)\n",
    "print(jaccard_KNN, f1_KNN, accuracy_KNN)"
   ]
  },
  {
   "cell_type": "code",
   "execution_count": 249,
   "metadata": {},
   "outputs": [
    {
     "name": "stdout",
     "output_type": "stream",
     "text": [
      "Confusion matrix, without normalization\n",
      "[[2337   15]\n",
      " [ 631   17]]\n"
     ]
    },
    {
     "data": {
      "image/png": "[encoded data removed]",
      "text/plain": [
       "<Figure size 432x288 with 2 Axes>"
      ]
     },
     "metadata": {
      "needs_background": "light"
     },
     "output_type": "display_data"
    }
   ],
   "source": [
    "cm = confusion_matrix(y_test, KNNpred, labels=[0,1])\n",
    "plot_confusion_matrix(cm, classes=['Paid Off','Defaulted'],normalize= False,  title='Confusion matrix')"
   ]
  },
  {
   "cell_type": "markdown",
   "metadata": {},
   "source": [
    "___\n",
    "\n",
    "# 2nd model: Support Vector Machine \n",
    "\n",
    "<br>\n",
    "\n",
    "I first try the Radial Basis Function kernel and see its accuracy"
   ]
  },
  {
   "cell_type": "code",
   "execution_count": 250,
   "metadata": {},
   "outputs": [],
   "source": [
    "from sklearn.svm import SVC"
   ]
  },
  {
   "cell_type": "code",
   "execution_count": 251,
   "metadata": {},
   "outputs": [],
   "source": [
    "svm = SVC(kernel='rbf').fit(X_train, y_train)"
   ]
  },
  {
   "cell_type": "code",
   "execution_count": 252,
   "metadata": {
    "scrolled": true
   },
   "outputs": [
    {
     "data": {
      "text/plain": [
       "array([0, 0, 0, ..., 0, 0, 0], dtype=int64)"
      ]
     },
     "execution_count": 252,
     "metadata": {},
     "output_type": "execute_result"
    }
   ],
   "source": [
    "SVMpred = svm.predict(X_test)\n",
    "SVMpred"
   ]
  },
  {
   "cell_type": "code",
   "execution_count": 253,
   "metadata": {
    "scrolled": false
   },
   "outputs": [
    {
     "name": "stdout",
     "output_type": "stream",
     "text": [
      "0.6146704203965425 0.6895400199701394 0.7836666666666666\n"
     ]
    }
   ],
   "source": [
    "jaccard_SVM = jaccard_score(y_test, SVMpred, average='weighted')\n",
    "f1_SVM = f1_score(y_test, SVMpred, average='weighted')\n",
    "accuracy_SVM = accuracy_score(y_test, SVMpred)\n",
    "print(jaccard_SVM, f1_SVM, accuracy_SVM)"
   ]
  },
  {
   "cell_type": "code",
   "execution_count": 254,
   "metadata": {},
   "outputs": [
    {
     "name": "stdout",
     "output_type": "stream",
     "text": [
      "Confusion matrix, without normalization\n",
      "[[2350    2]\n",
      " [ 647    1]]\n"
     ]
    },
    {
     "data": {
      "image/png": "[encoded data removed]",
      "text/plain": [
       "<Figure size 432x288 with 2 Axes>"
      ]
     },
     "metadata": {
      "needs_background": "light"
     },
     "output_type": "display_data"
    }
   ],
   "source": [
    "cm = confusion_matrix(y_test, SVMpred, labels=[0,1])\n",
    "plot_confusion_matrix(cm, classes=['Paid Off','Defaulted'],normalize= False,  title='Confusion matrix')"
   ]
  },
  {
   "cell_type": "markdown",
   "metadata": {},
   "source": [
    "---\n",
    "I will now try different kernel functions and see which one produces the best results\n",
    "\n"
   ]
  },
  {
   "cell_type": "code",
   "execution_count": 255,
   "metadata": {
    "scrolled": true
   },
   "outputs": [
    {
     "data": {
      "image/png": "[encoded data removed]",
      "text/plain": [
       "<Figure size 432x288 with 1 Axes>"
      ]
     },
     "metadata": {
      "needs_background": "light"
     },
     "output_type": "display_data"
    }
   ],
   "source": [
    "kernels = ['linear', 'poly', 'rbf', 'sigmoid']\n",
    "scores = []\n",
    "for kernel in kernels:\n",
    "    svm = SVC(kernel=kernel).fit(X_train, y_train)\n",
    "    yhat = svm.predict(X_test)\n",
    "    scores.append(accuracy_score(y_test, yhat))\n",
    "    \n",
    "plt.plot(kernels, scores)\n",
    "plt.title('Accuracy scores', size=18)\n",
    "plt.xticks(size=12)\n",
    "plt.show()"
   ]
  },
  {
   "cell_type": "code",
   "execution_count": 256,
   "metadata": {
    "scrolled": true
   },
   "outputs": [
    {
     "name": "stdout",
     "output_type": "stream",
     "text": [
      "[0.784, 0.778, 0.7836666666666666, 0.708]\n"
     ]
    }
   ],
   "source": [
    "print(scores)"
   ]
  },
  {
   "cell_type": "markdown",
   "metadata": {},
   "source": [
    "It appears that the Linear kernel produces the highest accuracy, along with the Radial Basis Function function.\n",
    "\n",
    "I will now re-build the model with Linear kernel."
   ]
  },
  {
   "cell_type": "code",
   "execution_count": 257,
   "metadata": {},
   "outputs": [],
   "source": [
    "svm = SVC(kernel='linear').fit(X_train, y_train)"
   ]
  },
  {
   "cell_type": "code",
   "execution_count": 294,
   "metadata": {},
   "outputs": [
    {
     "data": {
      "text/plain": [
       "0.7854285714285715"
      ]
     },
     "execution_count": 294,
     "metadata": {},
     "output_type": "execute_result"
    }
   ],
   "source": [
    "svm.score(X_train,y_train)"
   ]
  },
  {
   "cell_type": "code",
   "execution_count": 258,
   "metadata": {},
   "outputs": [
    {
     "data": {
      "text/plain": [
       "array([0, 0, 0, ..., 0, 0, 0], dtype=int64)"
      ]
     },
     "execution_count": 258,
     "metadata": {},
     "output_type": "execute_result"
    }
   ],
   "source": [
    "SVMpred = svm.predict(X_test)\n",
    "SVMpred"
   ]
  },
  {
   "cell_type": "code",
   "execution_count": 259,
   "metadata": {},
   "outputs": [
    {
     "name": "stdout",
     "output_type": "stream",
     "text": [
      "0.614656 0.6890762331838566 0.784\n"
     ]
    }
   ],
   "source": [
    "jaccard_SVM = jaccard_score(y_test, SVMpred, average='weighted')\n",
    "f1_SVM = f1_score(y_test, SVMpred, average='weighted')\n",
    "accuracy_SVM = accuracy_score(y_test, SVMpred)\n",
    "print(jaccard_SVM, f1_SVM, accuracy_SVM)"
   ]
  },
  {
   "cell_type": "markdown",
   "metadata": {},
   "source": [
    "---\n",
    "# 3rd model: Decision Tree\n",
    "\n",
    "<br>\n",
    "\n",
    "Let's first see what's the best value for max_depth"
   ]
  },
  {
   "cell_type": "code",
   "execution_count": 260,
   "metadata": {},
   "outputs": [],
   "source": [
    "from sklearn.tree import DecisionTreeClassifier"
   ]
  },
  {
   "cell_type": "code",
   "execution_count": 261,
   "metadata": {
    "scrolled": false
   },
   "outputs": [
    {
     "data": {
      "image/png": "[encoded data removed]",
      "text/plain": [
       "<Figure size 1008x576 with 1 Axes>"
      ]
     },
     "metadata": {
      "needs_background": "light"
     },
     "output_type": "display_data"
    }
   ],
   "source": [
    "values = range(2,11)\n",
    "scores = []\n",
    "for value in values:\n",
    "    tree = DecisionTreeClassifier(criterion='entropy', max_depth=value).fit(X_train, y_train)\n",
    "    yhat = tree.predict(X_test)\n",
    "    scores.append(accuracy_score(y_test, yhat))\n",
    "plt.figure(figsize=(14,8))\n",
    "plt.plot(values, scores)\n",
    "plt.title('Accuracy per max depth values')\n",
    "plt.show()"
   ]
  },
  {
   "cell_type": "markdown",
   "metadata": {},
   "source": [
    "A value of 2 seems to produce the best result"
   ]
  },
  {
   "cell_type": "code",
   "execution_count": 262,
   "metadata": {},
   "outputs": [],
   "source": [
    "tree = DecisionTreeClassifier(criterion='entropy', max_depth=4).fit(X_train, y_train)"
   ]
  },
  {
   "cell_type": "code",
   "execution_count": 293,
   "metadata": {},
   "outputs": [
    {
     "data": {
      "text/plain": [
       "0.7854285714285715"
      ]
     },
     "execution_count": 293,
     "metadata": {},
     "output_type": "execute_result"
    }
   ],
   "source": [
    "tree.score(X_train,y_train)"
   ]
  },
  {
   "cell_type": "code",
   "execution_count": 263,
   "metadata": {},
   "outputs": [],
   "source": [
    "TREEpred = tree.predict(X_test)"
   ]
  },
  {
   "cell_type": "code",
   "execution_count": 264,
   "metadata": {},
   "outputs": [],
   "source": [
    "accuracy_TREE = accuracy_score(y_test, TREEpred)\n",
    "jaccard_TREE = jaccard_score(y_test, TREEpred, average='weighted')\n",
    "f1_TREE = f1_score(y_test, TREEpred, average='weighted')"
   ]
  },
  {
   "cell_type": "code",
   "execution_count": 265,
   "metadata": {},
   "outputs": [
    {
     "name": "stdout",
     "output_type": "stream",
     "text": [
      "Confusion matrix, without normalization\n",
      "[[2352    0]\n",
      " [ 648    0]]\n"
     ]
    },
    {
     "data": {
      "image/png": "[encoded data removed]",
      "text/plain": [
       "<Figure size 432x288 with 2 Axes>"
      ]
     },
     "metadata": {
      "needs_background": "light"
     },
     "output_type": "display_data"
    }
   ],
   "source": [
    "cm = confusion_matrix(y_test, TREEpred, labels=[0,1])\n",
    "plot_confusion_matrix(cm, classes=['Paid Off','Defaulted'],normalize= False,  title='Confusion matrix')"
   ]
  },
  {
   "cell_type": "markdown",
   "metadata": {},
   "source": [
    "---\n",
    "\n",
    "\n",
    "# 4th model: Logistic Regression\n",
    "\n",
    "\n",
    "<br>\n",
    "\n",
    "\n",
    "I will use the liblinear solver with a regularization value of 0.01"
   ]
  },
  {
   "cell_type": "code",
   "execution_count": 266,
   "metadata": {},
   "outputs": [],
   "source": [
    "from sklearn.linear_model import LogisticRegression"
   ]
  },
  {
   "cell_type": "code",
   "execution_count": 267,
   "metadata": {},
   "outputs": [],
   "source": [
    "lr = LogisticRegression(C=0.01, solver='liblinear').fit(X_train, y_train.astype('int'))"
   ]
  },
  {
   "cell_type": "code",
   "execution_count": 268,
   "metadata": {},
   "outputs": [
    {
     "data": {
      "text/plain": [
       "array([0, 0, 0, 0, 0])"
      ]
     },
     "execution_count": 268,
     "metadata": {},
     "output_type": "execute_result"
    }
   ],
   "source": [
    "LRpred = lr.predict(X_test)\n",
    "LRpred[:5]"
   ]
  },
  {
   "cell_type": "code",
   "execution_count": 269,
   "metadata": {},
   "outputs": [],
   "source": [
    "accuracy_LR = accuracy_score(y_test, LRpred)\n",
    "jaccard_LR = jaccard_score(y_test, LRpred, average='weighted')\n",
    "f1_LR = f1_score(y_test, LRpred, average='weighted')"
   ]
  },
  {
   "cell_type": "code",
   "execution_count": 271,
   "metadata": {
    "scrolled": false
   },
   "outputs": [
    {
     "name": "stdout",
     "output_type": "stream",
     "text": [
      "              precision    recall  f1-score   support\n",
      "\n",
      "           0       0.78      1.00      0.88      2352\n",
      "           1       0.38      0.00      0.01       648\n",
      "\n",
      "    accuracy                           0.78      3000\n",
      "   macro avg       0.58      0.50      0.44      3000\n",
      "weighted avg       0.70      0.78      0.69      3000\n",
      "\n"
     ]
    }
   ],
   "source": [
    "print(classification_report(y_test, LRpred))"
   ]
  },
  {
   "cell_type": "code",
   "execution_count": 272,
   "metadata": {},
   "outputs": [
    {
     "name": "stdout",
     "output_type": "stream",
     "text": [
      "Confusion matrix, without normalization\n",
      "[[2347    5]\n",
      " [ 645    3]]\n"
     ]
    },
    {
     "data": {
      "image/png": "[encoded data removed]",
      "text/plain": [
       "<Figure size 432x288 with 2 Axes>"
      ]
     },
     "metadata": {
      "needs_background": "light"
     },
     "output_type": "display_data"
    }
   ],
   "source": [
    "cm = confusion_matrix(y_test, LRpred, labels=[0,1])\n",
    "plot_confusion_matrix(cm, classes=['Paid Off','Defaulted'],normalize= False,  title='Confusion matrix')"
   ]
  },
  {
   "cell_type": "markdown",
   "metadata": {},
   "source": [
    "---\n",
    "\n",
    "# Evaluation of all 4 models"
   ]
  },
  {
   "cell_type": "code",
   "execution_count": 273,
   "metadata": {},
   "outputs": [],
   "source": [
    "model_scores = {\n",
    "    'K-nearest neighbours':{'Jaccard index': jaccard_KNN, 'F1 score': f1_KNN, 'Accuracy score': accuracy_KNN},\n",
    "    'Decision Tree':{'Jaccard index': jaccard_TREE, 'F1 score': f1_TREE, 'Accuracy score': accuracy_TREE},\n",
    "    'Support Vector Machine':{'Jaccard index': jaccard_SVM, 'F1 score': f1_SVM, 'Accuracy score': accuracy_SVM},\n",
    "    'Logistic Regression':{'Jaccard index': jaccard_LR, 'F1 score': f1_LR, 'Accuracy score': accuracy_LR}\n",
    "}"
   ]
  },
  {
   "cell_type": "code",
   "execution_count": 274,
   "metadata": {},
   "outputs": [
    {
     "data": {
      "text/html": [
       "<div>\n",
       "<style scoped>\n",
       "    .dataframe tbody tr th:only-of-type {\n",
       "        vertical-align: middle;\n",
       "    }\n",
       "\n",
       "    .dataframe tbody tr th {\n",
       "        vertical-align: top;\n",
       "    }\n",
       "\n",
       "    .dataframe thead th {\n",
       "        text-align: right;\n",
       "    }\n",
       "</style>\n",
       "<table border=\"1\" class=\"dataframe\">\n",
       "  <thead>\n",
       "    <tr style=\"text-align: right;\">\n",
       "      <th></th>\n",
       "      <th>K-nearest neighbours</th>\n",
       "      <th>Decision Tree</th>\n",
       "      <th>Support Vector Machine</th>\n",
       "      <th>Logistic Regression</th>\n",
       "    </tr>\n",
       "  </thead>\n",
       "  <tbody>\n",
       "    <tr>\n",
       "      <th>Jaccard index</th>\n",
       "      <td>0.619755</td>\n",
       "      <td>0.614656</td>\n",
       "      <td>0.614656</td>\n",
       "      <td>0.614956</td>\n",
       "    </tr>\n",
       "    <tr>\n",
       "      <th>F1 score</th>\n",
       "      <td>0.699600</td>\n",
       "      <td>0.689076</td>\n",
       "      <td>0.689076</td>\n",
       "      <td>0.690616</td>\n",
       "    </tr>\n",
       "    <tr>\n",
       "      <th>Accuracy score</th>\n",
       "      <td>0.784667</td>\n",
       "      <td>0.784000</td>\n",
       "      <td>0.784000</td>\n",
       "      <td>0.783333</td>\n",
       "    </tr>\n",
       "  </tbody>\n",
       "</table>\n",
       "</div>"
      ],
      "text/plain": [
       "                K-nearest neighbours  Decision Tree  Support Vector Machine  \\\n",
       "Jaccard index               0.619755       0.614656                0.614656   \n",
       "F1 score                    0.699600       0.689076                0.689076   \n",
       "Accuracy score              0.784667       0.784000                0.784000   \n",
       "\n",
       "                Logistic Regression  \n",
       "Jaccard index              0.614956  \n",
       "F1 score                   0.690616  \n",
       "Accuracy score             0.783333  "
      ]
     },
     "execution_count": 274,
     "metadata": {},
     "output_type": "execute_result"
    }
   ],
   "source": [
    "report = pd.DataFrame(model_scores)\n",
    "report"
   ]
  },
  {
   "cell_type": "code",
   "execution_count": 275,
   "metadata": {},
   "outputs": [
    {
     "data": {
      "image/png": "[encoded data removed]",
      "text/plain": [
       "<Figure size 1152x720 with 1 Axes>"
      ]
     },
     "metadata": {
      "needs_background": "light"
     },
     "output_type": "display_data"
    }
   ],
   "source": [
    "splt = report.T.plot(kind='bar', figsize=(16,10))\n",
    "for p in splt.patches:\n",
    "    splt.annotate(format(round(p.get_height(), 2) * 100)+\"%\",\n",
    "                   (p.get_x() + p.get_width() / 2., p.get_height()),\n",
    "                   ha='center', va='center',\n",
    "                   xytext=(0, 9),\n",
    "                   textcoords='offset points')\n",
    "plt.xticks(rotation=0, size=16)\n",
    "plt.title('Evalutaion of classification models')\n",
    "plt.show()"
   ]
  },
  {
   "cell_type": "markdown",
   "metadata": {},
   "source": [
    "# Conclusion\n",
    "\n",
    "---\n",
    "None of the models performs well in predicting loan defaults:\n",
    "+ Decision Tree had zero correct predicition of defaults \n",
    "+ K nearest neighbours performed the best with a mere 17 correct predictions out of 631, which is still very low\n",
    "\n",
    "#### This issue here is the so called Imbalanced Classification problem that results from the skewed distribution of the class variable.\n",
    "* 78.29% of the data is classified as paid, and only 21.71% is labelled as defaulted\n",
    "\n",
    "The models are therefore treating the majority class as a default class and mislabels the test set as the minority class is seen as anomaly or abnormal case\n",
    "\n",
    "<br>\n",
    "\n",
    "**Solutions to overcome this problem could be:**\n",
    "+ increasing the size of the dataset\n",
    "+ resampling with SMOTE\n",
    "+ resampling with different ratios of the class\n"
   ]
  }
 ],
 "metadata": {
  "kernelspec": {
   "display_name": "Python 3",
   "language": "python",
   "name": "python3"
  },
  "language_info": {
   "codemirror_mode": {
    "name": "ipython",
    "version": 3
   },
   "file_extension": ".py",
   "mimetype": "text/x-python",
   "name": "python",
   "nbconvert_exporter": "python",
   "pygments_lexer": "ipython3",
   "version": "3.8.5"
  }
 },
 "nbformat": 4,
 "nbformat_minor": 4
}
