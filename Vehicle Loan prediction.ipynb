{
 "cells": [
  {
   "cell_type": "code",
   "execution_count": 1,
   "metadata": {},
   "outputs": [],
   "source": [
    "import pandas as pd\n",
    "import numpy as np\n",
    "import seaborn as sns\n",
    "import matplotlib.pyplot as plt\n",
    "from datetime import datetime as dt\n",
    "import matplotlib as mpl\n",
    "mpl.style.use('seaborn')"
   ]
  },
  {
   "cell_type": "code",
   "execution_count": 2,
   "metadata": {},
   "outputs": [
    {
     "data": {
      "text/html": [
       "<div>\n",
       "<style scoped>\n",
       "    .dataframe tbody tr th:only-of-type {\n",
       "        vertical-align: middle;\n",
       "    }\n",
       "\n",
       "    .dataframe tbody tr th {\n",
       "        vertical-align: top;\n",
       "    }\n",
       "\n",
       "    .dataframe thead th {\n",
       "        text-align: right;\n",
       "    }\n",
       "</style>\n",
       "<table border=\"1\" class=\"dataframe\">\n",
       "  <thead>\n",
       "    <tr style=\"text-align: right;\">\n",
       "      <th></th>\n",
       "      <th>Variable Name</th>\n",
       "      <th>Description</th>\n",
       "      <th>Unnamed: 2</th>\n",
       "    </tr>\n",
       "  </thead>\n",
       "  <tbody>\n",
       "    <tr>\n",
       "      <th>0</th>\n",
       "      <td>UniqueID</td>\n",
       "      <td>Identifier for customers</td>\n",
       "      <td>NaN</td>\n",
       "    </tr>\n",
       "    <tr>\n",
       "      <th>1</th>\n",
       "      <td>loan_default</td>\n",
       "      <td>Payment default in the first EMI on due date</td>\n",
       "      <td>NaN</td>\n",
       "    </tr>\n",
       "    <tr>\n",
       "      <th>2</th>\n",
       "      <td>disbursed_amount</td>\n",
       "      <td>Amount of Loan disbursed</td>\n",
       "      <td>NaN</td>\n",
       "    </tr>\n",
       "    <tr>\n",
       "      <th>3</th>\n",
       "      <td>asset_cost</td>\n",
       "      <td>Cost of the Asset</td>\n",
       "      <td>NaN</td>\n",
       "    </tr>\n",
       "    <tr>\n",
       "      <th>4</th>\n",
       "      <td>ltv</td>\n",
       "      <td>Loan to Value of the asset</td>\n",
       "      <td>NaN</td>\n",
       "    </tr>\n",
       "    <tr>\n",
       "      <th>5</th>\n",
       "      <td>branch_id</td>\n",
       "      <td>Branch where the loan was disbursed</td>\n",
       "      <td>NaN</td>\n",
       "    </tr>\n",
       "    <tr>\n",
       "      <th>6</th>\n",
       "      <td>supplier_id</td>\n",
       "      <td>Vehicle Dealer where the loan was disbursed</td>\n",
       "      <td>NaN</td>\n",
       "    </tr>\n",
       "    <tr>\n",
       "      <th>7</th>\n",
       "      <td>manufacturer_id</td>\n",
       "      <td>Vehicle manufacturer(Hero, Honda, TVS etc.)</td>\n",
       "      <td>NaN</td>\n",
       "    </tr>\n",
       "    <tr>\n",
       "      <th>8</th>\n",
       "      <td>Current_pincode</td>\n",
       "      <td>Current pincode of the customer</td>\n",
       "      <td>NaN</td>\n",
       "    </tr>\n",
       "    <tr>\n",
       "      <th>9</th>\n",
       "      <td>Date.of.Birth</td>\n",
       "      <td>Date of birth of the customer</td>\n",
       "      <td>NaN</td>\n",
       "    </tr>\n",
       "    <tr>\n",
       "      <th>10</th>\n",
       "      <td>Employment.Type</td>\n",
       "      <td>Employment Type of the customer (Salaried/Self...</td>\n",
       "      <td>NaN</td>\n",
       "    </tr>\n",
       "    <tr>\n",
       "      <th>11</th>\n",
       "      <td>DisbursalDate</td>\n",
       "      <td>Date of disbursement</td>\n",
       "      <td>NaN</td>\n",
       "    </tr>\n",
       "    <tr>\n",
       "      <th>12</th>\n",
       "      <td>State_ID</td>\n",
       "      <td>State of disbursement</td>\n",
       "      <td>NaN</td>\n",
       "    </tr>\n",
       "    <tr>\n",
       "      <th>13</th>\n",
       "      <td>Employee_code_ID</td>\n",
       "      <td>Employee of the organization who logged the di...</td>\n",
       "      <td>NaN</td>\n",
       "    </tr>\n",
       "    <tr>\n",
       "      <th>14</th>\n",
       "      <td>MobileNo_Avl_Flag</td>\n",
       "      <td>if Mobile no. was shared by the customer then ...</td>\n",
       "      <td>NaN</td>\n",
       "    </tr>\n",
       "    <tr>\n",
       "      <th>15</th>\n",
       "      <td>Aadhar_flag</td>\n",
       "      <td>if aadhar was shared by the customer then flag...</td>\n",
       "      <td>NaN</td>\n",
       "    </tr>\n",
       "    <tr>\n",
       "      <th>16</th>\n",
       "      <td>PAN_flag</td>\n",
       "      <td>if pan was shared by the customer then flagged...</td>\n",
       "      <td>NaN</td>\n",
       "    </tr>\n",
       "    <tr>\n",
       "      <th>17</th>\n",
       "      <td>VoterID_flag</td>\n",
       "      <td>if voter  was shared by the customer then flag...</td>\n",
       "      <td>NaN</td>\n",
       "    </tr>\n",
       "    <tr>\n",
       "      <th>18</th>\n",
       "      <td>Driving_flag</td>\n",
       "      <td>if DL was shared by the customer then flagged ...</td>\n",
       "      <td>NaN</td>\n",
       "    </tr>\n",
       "    <tr>\n",
       "      <th>19</th>\n",
       "      <td>Passport_flag</td>\n",
       "      <td>if passport was shared by the customer then fl...</td>\n",
       "      <td>NaN</td>\n",
       "    </tr>\n",
       "    <tr>\n",
       "      <th>20</th>\n",
       "      <td>PERFORM_CNS.SCORE</td>\n",
       "      <td>Bureau Score</td>\n",
       "      <td>NaN</td>\n",
       "    </tr>\n",
       "    <tr>\n",
       "      <th>21</th>\n",
       "      <td>PERFORM_CNS.SCORE.DESCRIPTION</td>\n",
       "      <td>Bureau score description</td>\n",
       "      <td>NaN</td>\n",
       "    </tr>\n",
       "    <tr>\n",
       "      <th>22</th>\n",
       "      <td>PRI.NO.OF.ACCTS</td>\n",
       "      <td>count of total loans taken by the customer at ...</td>\n",
       "      <td>Primary accounts are those which the customer ...</td>\n",
       "    </tr>\n",
       "    <tr>\n",
       "      <th>23</th>\n",
       "      <td>PRI.ACTIVE.ACCTS</td>\n",
       "      <td>count of active loans taken by the customer at...</td>\n",
       "      <td>NaN</td>\n",
       "    </tr>\n",
       "    <tr>\n",
       "      <th>24</th>\n",
       "      <td>PRI.OVERDUE.ACCTS</td>\n",
       "      <td>count of default accounts at the time of disbu...</td>\n",
       "      <td>NaN</td>\n",
       "    </tr>\n",
       "    <tr>\n",
       "      <th>25</th>\n",
       "      <td>PRI.CURRENT.BALANCE</td>\n",
       "      <td>total Principal outstanding amount of the acti...</td>\n",
       "      <td>NaN</td>\n",
       "    </tr>\n",
       "    <tr>\n",
       "      <th>26</th>\n",
       "      <td>PRI.SANCTIONED.AMOUNT</td>\n",
       "      <td>total amount that was sanctioned for all the l...</td>\n",
       "      <td>NaN</td>\n",
       "    </tr>\n",
       "    <tr>\n",
       "      <th>27</th>\n",
       "      <td>PRI.DISBURSED.AMOUNT</td>\n",
       "      <td>total amount that was disbursed for all the lo...</td>\n",
       "      <td>NaN</td>\n",
       "    </tr>\n",
       "    <tr>\n",
       "      <th>28</th>\n",
       "      <td>SEC.NO.OF.ACCTS</td>\n",
       "      <td>count of total loans taken by the customer at ...</td>\n",
       "      <td>Secondary accounts are those which the custome...</td>\n",
       "    </tr>\n",
       "    <tr>\n",
       "      <th>29</th>\n",
       "      <td>SEC.ACTIVE.ACCTS</td>\n",
       "      <td>count of active loans taken by the customer at...</td>\n",
       "      <td>NaN</td>\n",
       "    </tr>\n",
       "    <tr>\n",
       "      <th>30</th>\n",
       "      <td>SEC.OVERDUE.ACCTS</td>\n",
       "      <td>count of default accounts at the time of disbu...</td>\n",
       "      <td>NaN</td>\n",
       "    </tr>\n",
       "    <tr>\n",
       "      <th>31</th>\n",
       "      <td>SEC.CURRENT.BALANCE</td>\n",
       "      <td>total Principal outstanding amount of the acti...</td>\n",
       "      <td>NaN</td>\n",
       "    </tr>\n",
       "    <tr>\n",
       "      <th>32</th>\n",
       "      <td>SEC.SANCTIONED.AMOUNT</td>\n",
       "      <td>total amount that was sanctioned for all the l...</td>\n",
       "      <td>NaN</td>\n",
       "    </tr>\n",
       "    <tr>\n",
       "      <th>33</th>\n",
       "      <td>SEC.DISBURSED.AMOUNT</td>\n",
       "      <td>total amount that was disbursed for all the lo...</td>\n",
       "      <td>NaN</td>\n",
       "    </tr>\n",
       "    <tr>\n",
       "      <th>34</th>\n",
       "      <td>PRIMARY.INSTAL.AMT</td>\n",
       "      <td>EMI Amount of the primary loan</td>\n",
       "      <td>NaN</td>\n",
       "    </tr>\n",
       "    <tr>\n",
       "      <th>35</th>\n",
       "      <td>SEC.INSTAL.AMT</td>\n",
       "      <td>EMI Amount of the secondary loan</td>\n",
       "      <td>NaN</td>\n",
       "    </tr>\n",
       "    <tr>\n",
       "      <th>36</th>\n",
       "      <td>NEW.ACCTS.IN.LAST.SIX.MONTHS</td>\n",
       "      <td>New loans taken by the customer in last 6 mont...</td>\n",
       "      <td>NaN</td>\n",
       "    </tr>\n",
       "    <tr>\n",
       "      <th>37</th>\n",
       "      <td>DELINQUENT.ACCTS.IN.LAST.SIX.MONTHS</td>\n",
       "      <td>Loans defaulted in the last 6 months</td>\n",
       "      <td>NaN</td>\n",
       "    </tr>\n",
       "    <tr>\n",
       "      <th>38</th>\n",
       "      <td>AVERAGE.ACCT.AGE</td>\n",
       "      <td>Average loan tenure</td>\n",
       "      <td>NaN</td>\n",
       "    </tr>\n",
       "    <tr>\n",
       "      <th>39</th>\n",
       "      <td>CREDIT.HISTORY.LENGTH</td>\n",
       "      <td>Time since first loan</td>\n",
       "      <td>NaN</td>\n",
       "    </tr>\n",
       "    <tr>\n",
       "      <th>40</th>\n",
       "      <td>NO.OF_INQUIRIES</td>\n",
       "      <td>Enquries done by the customer for loans</td>\n",
       "      <td>NaN</td>\n",
       "    </tr>\n",
       "  </tbody>\n",
       "</table>\n",
       "</div>"
      ],
      "text/plain": [
       "                          Variable Name  \\\n",
       "0                              UniqueID   \n",
       "1                          loan_default   \n",
       "2                      disbursed_amount   \n",
       "3                            asset_cost   \n",
       "4                                   ltv   \n",
       "5                             branch_id   \n",
       "6                           supplier_id   \n",
       "7                       manufacturer_id   \n",
       "8                       Current_pincode   \n",
       "9                         Date.of.Birth   \n",
       "10                      Employment.Type   \n",
       "11                        DisbursalDate   \n",
       "12                             State_ID   \n",
       "13                     Employee_code_ID   \n",
       "14                    MobileNo_Avl_Flag   \n",
       "15                          Aadhar_flag   \n",
       "16                             PAN_flag   \n",
       "17                         VoterID_flag   \n",
       "18                         Driving_flag   \n",
       "19                        Passport_flag   \n",
       "20                    PERFORM_CNS.SCORE   \n",
       "21        PERFORM_CNS.SCORE.DESCRIPTION   \n",
       "22                      PRI.NO.OF.ACCTS   \n",
       "23                     PRI.ACTIVE.ACCTS   \n",
       "24                    PRI.OVERDUE.ACCTS   \n",
       "25                  PRI.CURRENT.BALANCE   \n",
       "26                PRI.SANCTIONED.AMOUNT   \n",
       "27                 PRI.DISBURSED.AMOUNT   \n",
       "28                      SEC.NO.OF.ACCTS   \n",
       "29                     SEC.ACTIVE.ACCTS   \n",
       "30                    SEC.OVERDUE.ACCTS   \n",
       "31                  SEC.CURRENT.BALANCE   \n",
       "32                SEC.SANCTIONED.AMOUNT   \n",
       "33                 SEC.DISBURSED.AMOUNT   \n",
       "34                   PRIMARY.INSTAL.AMT   \n",
       "35                       SEC.INSTAL.AMT   \n",
       "36         NEW.ACCTS.IN.LAST.SIX.MONTHS   \n",
       "37  DELINQUENT.ACCTS.IN.LAST.SIX.MONTHS   \n",
       "38                     AVERAGE.ACCT.AGE   \n",
       "39                CREDIT.HISTORY.LENGTH   \n",
       "40                      NO.OF_INQUIRIES   \n",
       "\n",
       "                                          Description  \\\n",
       "0                            Identifier for customers   \n",
       "1        Payment default in the first EMI on due date   \n",
       "2                            Amount of Loan disbursed   \n",
       "3                                   Cost of the Asset   \n",
       "4                          Loan to Value of the asset   \n",
       "5                 Branch where the loan was disbursed   \n",
       "6         Vehicle Dealer where the loan was disbursed   \n",
       "7         Vehicle manufacturer(Hero, Honda, TVS etc.)   \n",
       "8                     Current pincode of the customer   \n",
       "9                       Date of birth of the customer   \n",
       "10  Employment Type of the customer (Salaried/Self...   \n",
       "11                               Date of disbursement   \n",
       "12                              State of disbursement   \n",
       "13  Employee of the organization who logged the di...   \n",
       "14  if Mobile no. was shared by the customer then ...   \n",
       "15  if aadhar was shared by the customer then flag...   \n",
       "16  if pan was shared by the customer then flagged...   \n",
       "17  if voter  was shared by the customer then flag...   \n",
       "18  if DL was shared by the customer then flagged ...   \n",
       "19  if passport was shared by the customer then fl...   \n",
       "20                                       Bureau Score   \n",
       "21                           Bureau score description   \n",
       "22  count of total loans taken by the customer at ...   \n",
       "23  count of active loans taken by the customer at...   \n",
       "24  count of default accounts at the time of disbu...   \n",
       "25  total Principal outstanding amount of the acti...   \n",
       "26  total amount that was sanctioned for all the l...   \n",
       "27  total amount that was disbursed for all the lo...   \n",
       "28  count of total loans taken by the customer at ...   \n",
       "29  count of active loans taken by the customer at...   \n",
       "30  count of default accounts at the time of disbu...   \n",
       "31  total Principal outstanding amount of the acti...   \n",
       "32  total amount that was sanctioned for all the l...   \n",
       "33  total amount that was disbursed for all the lo...   \n",
       "34                     EMI Amount of the primary loan   \n",
       "35                   EMI Amount of the secondary loan   \n",
       "36  New loans taken by the customer in last 6 mont...   \n",
       "37               Loans defaulted in the last 6 months   \n",
       "38                                Average loan tenure   \n",
       "39                              Time since first loan   \n",
       "40            Enquries done by the customer for loans   \n",
       "\n",
       "                                           Unnamed: 2  \n",
       "0                                                 NaN  \n",
       "1                                                 NaN  \n",
       "2                                                 NaN  \n",
       "3                                                 NaN  \n",
       "4                                                 NaN  \n",
       "5                                                 NaN  \n",
       "6                                                 NaN  \n",
       "7                                                 NaN  \n",
       "8                                                 NaN  \n",
       "9                                                 NaN  \n",
       "10                                                NaN  \n",
       "11                                                NaN  \n",
       "12                                                NaN  \n",
       "13                                                NaN  \n",
       "14                                                NaN  \n",
       "15                                                NaN  \n",
       "16                                                NaN  \n",
       "17                                                NaN  \n",
       "18                                                NaN  \n",
       "19                                                NaN  \n",
       "20                                                NaN  \n",
       "21                                                NaN  \n",
       "22  Primary accounts are those which the customer ...  \n",
       "23                                                NaN  \n",
       "24                                                NaN  \n",
       "25                                                NaN  \n",
       "26                                                NaN  \n",
       "27                                                NaN  \n",
       "28  Secondary accounts are those which the custome...  \n",
       "29                                                NaN  \n",
       "30                                                NaN  \n",
       "31                                                NaN  \n",
       "32                                                NaN  \n",
       "33                                                NaN  \n",
       "34                                                NaN  \n",
       "35                                                NaN  \n",
       "36                                                NaN  \n",
       "37                                                NaN  \n",
       "38                                                NaN  \n",
       "39                                                NaN  \n",
       "40                                                NaN  "
      ]
     },
     "execution_count": 2,
     "metadata": {},
     "output_type": "execute_result"
    }
   ],
   "source": [
    "df_dict = pd.read_excel('Data Dictionary.xlsx')\n",
    "df_dict"
   ]
  },
  {
   "cell_type": "code",
   "execution_count": 3,
   "metadata": {
    "scrolled": true
   },
   "outputs": [
    {
     "data": {
      "text/html": [
       "<div>\n",
       "<style scoped>\n",
       "    .dataframe tbody tr th:only-of-type {\n",
       "        vertical-align: middle;\n",
       "    }\n",
       "\n",
       "    .dataframe tbody tr th {\n",
       "        vertical-align: top;\n",
       "    }\n",
       "\n",
       "    .dataframe thead th {\n",
       "        text-align: right;\n",
       "    }\n",
       "</style>\n",
       "<table border=\"1\" class=\"dataframe\">\n",
       "  <thead>\n",
       "    <tr style=\"text-align: right;\">\n",
       "      <th></th>\n",
       "      <th>UNIQUEID</th>\n",
       "      <th>DISBURSED_AMOUNT</th>\n",
       "      <th>ASSET_COST</th>\n",
       "      <th>LTV</th>\n",
       "      <th>BRANCH_ID</th>\n",
       "      <th>SUPPLIER_ID</th>\n",
       "      <th>MANUFACTURER_ID</th>\n",
       "      <th>CURRENT_PINCODE_ID</th>\n",
       "      <th>DATE_OF_BIRTH</th>\n",
       "      <th>EMPLOYMENT_TYPE</th>\n",
       "      <th>...</th>\n",
       "      <th>SEC_SANCTIONED_AMOUNT</th>\n",
       "      <th>SEC_DISBURSED_AMOUNT</th>\n",
       "      <th>PRIMARY_INSTAL_AMT</th>\n",
       "      <th>SEC_INSTAL_AMT</th>\n",
       "      <th>NEW_ACCTS_IN_LAST_SIX_MONTHS</th>\n",
       "      <th>DELINQUENT_ACCTS_IN_LAST_SIX_MONTHS</th>\n",
       "      <th>AVERAGE_ACCT_AGE</th>\n",
       "      <th>CREDIT_HISTORY_LENGTH</th>\n",
       "      <th>NO_OF_INQUIRIES</th>\n",
       "      <th>LOAN_DEFAULT</th>\n",
       "    </tr>\n",
       "  </thead>\n",
       "  <tbody>\n",
       "    <tr>\n",
       "      <th>0</th>\n",
       "      <td>420825</td>\n",
       "      <td>50578</td>\n",
       "      <td>58400</td>\n",
       "      <td>89.55</td>\n",
       "      <td>67</td>\n",
       "      <td>22807</td>\n",
       "      <td>45</td>\n",
       "      <td>1441</td>\n",
       "      <td>01-01-1984</td>\n",
       "      <td>Salaried</td>\n",
       "      <td>...</td>\n",
       "      <td>0</td>\n",
       "      <td>0</td>\n",
       "      <td>0</td>\n",
       "      <td>0</td>\n",
       "      <td>0</td>\n",
       "      <td>0</td>\n",
       "      <td>0yrs 0mon</td>\n",
       "      <td>0yrs 0mon</td>\n",
       "      <td>0</td>\n",
       "      <td>0</td>\n",
       "    </tr>\n",
       "    <tr>\n",
       "      <th>1</th>\n",
       "      <td>537409</td>\n",
       "      <td>47145</td>\n",
       "      <td>65550</td>\n",
       "      <td>73.23</td>\n",
       "      <td>67</td>\n",
       "      <td>22807</td>\n",
       "      <td>45</td>\n",
       "      <td>1502</td>\n",
       "      <td>31-07-1985</td>\n",
       "      <td>Self employed</td>\n",
       "      <td>...</td>\n",
       "      <td>0</td>\n",
       "      <td>0</td>\n",
       "      <td>1991</td>\n",
       "      <td>0</td>\n",
       "      <td>0</td>\n",
       "      <td>1</td>\n",
       "      <td>1yrs 11mon</td>\n",
       "      <td>1yrs 11mon</td>\n",
       "      <td>0</td>\n",
       "      <td>1</td>\n",
       "    </tr>\n",
       "    <tr>\n",
       "      <th>2</th>\n",
       "      <td>417566</td>\n",
       "      <td>53278</td>\n",
       "      <td>61360</td>\n",
       "      <td>89.63</td>\n",
       "      <td>67</td>\n",
       "      <td>22807</td>\n",
       "      <td>45</td>\n",
       "      <td>1497</td>\n",
       "      <td>24-08-1985</td>\n",
       "      <td>Self employed</td>\n",
       "      <td>...</td>\n",
       "      <td>0</td>\n",
       "      <td>0</td>\n",
       "      <td>0</td>\n",
       "      <td>0</td>\n",
       "      <td>0</td>\n",
       "      <td>0</td>\n",
       "      <td>0yrs 0mon</td>\n",
       "      <td>0yrs 0mon</td>\n",
       "      <td>0</td>\n",
       "      <td>0</td>\n",
       "    </tr>\n",
       "    <tr>\n",
       "      <th>3</th>\n",
       "      <td>624493</td>\n",
       "      <td>57513</td>\n",
       "      <td>66113</td>\n",
       "      <td>88.48</td>\n",
       "      <td>67</td>\n",
       "      <td>22807</td>\n",
       "      <td>45</td>\n",
       "      <td>1501</td>\n",
       "      <td>30-12-1993</td>\n",
       "      <td>Self employed</td>\n",
       "      <td>...</td>\n",
       "      <td>0</td>\n",
       "      <td>0</td>\n",
       "      <td>31</td>\n",
       "      <td>0</td>\n",
       "      <td>0</td>\n",
       "      <td>0</td>\n",
       "      <td>0yrs 8mon</td>\n",
       "      <td>1yrs 3mon</td>\n",
       "      <td>1</td>\n",
       "      <td>1</td>\n",
       "    </tr>\n",
       "    <tr>\n",
       "      <th>4</th>\n",
       "      <td>539055</td>\n",
       "      <td>52378</td>\n",
       "      <td>60300</td>\n",
       "      <td>88.39</td>\n",
       "      <td>67</td>\n",
       "      <td>22807</td>\n",
       "      <td>45</td>\n",
       "      <td>1495</td>\n",
       "      <td>09-12-1977</td>\n",
       "      <td>Self employed</td>\n",
       "      <td>...</td>\n",
       "      <td>0</td>\n",
       "      <td>0</td>\n",
       "      <td>0</td>\n",
       "      <td>0</td>\n",
       "      <td>0</td>\n",
       "      <td>0</td>\n",
       "      <td>0yrs 0mon</td>\n",
       "      <td>0yrs 0mon</td>\n",
       "      <td>1</td>\n",
       "      <td>1</td>\n",
       "    </tr>\n",
       "  </tbody>\n",
       "</table>\n",
       "<p>5 rows × 41 columns</p>\n",
       "</div>"
      ],
      "text/plain": [
       "   UNIQUEID  DISBURSED_AMOUNT  ASSET_COST    LTV  BRANCH_ID  SUPPLIER_ID  \\\n",
       "0    420825             50578       58400  89.55         67        22807   \n",
       "1    537409             47145       65550  73.23         67        22807   \n",
       "2    417566             53278       61360  89.63         67        22807   \n",
       "3    624493             57513       66113  88.48         67        22807   \n",
       "4    539055             52378       60300  88.39         67        22807   \n",
       "\n",
       "   MANUFACTURER_ID  CURRENT_PINCODE_ID DATE_OF_BIRTH EMPLOYMENT_TYPE  ...  \\\n",
       "0               45                1441    01-01-1984        Salaried  ...   \n",
       "1               45                1502    31-07-1985   Self employed  ...   \n",
       "2               45                1497    24-08-1985   Self employed  ...   \n",
       "3               45                1501    30-12-1993   Self employed  ...   \n",
       "4               45                1495    09-12-1977   Self employed  ...   \n",
       "\n",
       "  SEC_SANCTIONED_AMOUNT  SEC_DISBURSED_AMOUNT  PRIMARY_INSTAL_AMT  \\\n",
       "0                     0                     0                   0   \n",
       "1                     0                     0                1991   \n",
       "2                     0                     0                   0   \n",
       "3                     0                     0                  31   \n",
       "4                     0                     0                   0   \n",
       "\n",
       "   SEC_INSTAL_AMT  NEW_ACCTS_IN_LAST_SIX_MONTHS  \\\n",
       "0               0                             0   \n",
       "1               0                             0   \n",
       "2               0                             0   \n",
       "3               0                             0   \n",
       "4               0                             0   \n",
       "\n",
       "   DELINQUENT_ACCTS_IN_LAST_SIX_MONTHS  AVERAGE_ACCT_AGE  \\\n",
       "0                                    0         0yrs 0mon   \n",
       "1                                    1        1yrs 11mon   \n",
       "2                                    0         0yrs 0mon   \n",
       "3                                    0         0yrs 8mon   \n",
       "4                                    0         0yrs 0mon   \n",
       "\n",
       "   CREDIT_HISTORY_LENGTH  NO_OF_INQUIRIES  LOAN_DEFAULT  \n",
       "0              0yrs 0mon                0             0  \n",
       "1             1yrs 11mon                0             1  \n",
       "2              0yrs 0mon                0             0  \n",
       "3              1yrs 3mon                1             1  \n",
       "4              0yrs 0mon                1             1  \n",
       "\n",
       "[5 rows x 41 columns]"
      ]
     },
     "execution_count": 3,
     "metadata": {},
     "output_type": "execute_result"
    }
   ],
   "source": [
    "train = pd.read_csv('train.csv')\n",
    "train.head()"
   ]
  },
  {
   "cell_type": "code",
   "execution_count": 4,
   "metadata": {},
   "outputs": [
    {
     "data": {
      "text/plain": [
       "UNIQUEID                                 int64\n",
       "DISBURSED_AMOUNT                         int64\n",
       "ASSET_COST                               int64\n",
       "LTV                                    float64\n",
       "BRANCH_ID                                int64\n",
       "SUPPLIER_ID                              int64\n",
       "MANUFACTURER_ID                          int64\n",
       "CURRENT_PINCODE_ID                       int64\n",
       "DATE_OF_BIRTH                           object\n",
       "EMPLOYMENT_TYPE                         object\n",
       "DISBURSAL_DATE                          object\n",
       "STATE_ID                                 int64\n",
       "EMPLOYEE_CODE_ID                         int64\n",
       "MOBILENO_AVL_FLAG                        int64\n",
       "AADHAR_FLAG                              int64\n",
       "PAN_FLAG                                 int64\n",
       "VOTERID_FLAG                             int64\n",
       "DRIVING_FLAG                             int64\n",
       "PASSPORT_FLAG                            int64\n",
       "PERFORM_CNS_SCORE                        int64\n",
       "PERFORM_CNS_SCORE_DESCRIPTION           object\n",
       "PRI_NO_OF_ACCTS                          int64\n",
       "PRI_ACTIVE_ACCTS                         int64\n",
       "PRI_OVERDUE_ACCTS                        int64\n",
       "PRI_CURRENT_BALANCE                      int64\n",
       "PRI_SANCTIONED_AMOUNT                    int64\n",
       "PRI_DISBURSED_AMOUNT                     int64\n",
       "SEC_NO_OF_ACCTS                          int64\n",
       "SEC_ACTIVE_ACCTS                         int64\n",
       "SEC_OVERDUE_ACCTS                        int64\n",
       "SEC_CURRENT_BALANCE                      int64\n",
       "SEC_SANCTIONED_AMOUNT                    int64\n",
       "SEC_DISBURSED_AMOUNT                     int64\n",
       "PRIMARY_INSTAL_AMT                       int64\n",
       "SEC_INSTAL_AMT                           int64\n",
       "NEW_ACCTS_IN_LAST_SIX_MONTHS             int64\n",
       "DELINQUENT_ACCTS_IN_LAST_SIX_MONTHS      int64\n",
       "AVERAGE_ACCT_AGE                        object\n",
       "CREDIT_HISTORY_LENGTH                   object\n",
       "NO_OF_INQUIRIES                          int64\n",
       "LOAN_DEFAULT                             int64\n",
       "dtype: object"
      ]
     },
     "execution_count": 4,
     "metadata": {},
     "output_type": "execute_result"
    }
   ],
   "source": [
    "train.dtypes"
   ]
  },
  {
   "cell_type": "code",
   "execution_count": 5,
   "metadata": {},
   "outputs": [
    {
     "data": {
      "text/html": [
       "<div>\n",
       "<style scoped>\n",
       "    .dataframe tbody tr th:only-of-type {\n",
       "        vertical-align: middle;\n",
       "    }\n",
       "\n",
       "    .dataframe tbody tr th {\n",
       "        vertical-align: top;\n",
       "    }\n",
       "\n",
       "    .dataframe thead th {\n",
       "        text-align: right;\n",
       "    }\n",
       "</style>\n",
       "<table border=\"1\" class=\"dataframe\">\n",
       "  <thead>\n",
       "    <tr style=\"text-align: right;\">\n",
       "      <th></th>\n",
       "      <th>UNIQUEID</th>\n",
       "      <th>DISBURSED_AMOUNT</th>\n",
       "      <th>ASSET_COST</th>\n",
       "      <th>LTV</th>\n",
       "      <th>BRANCH_ID</th>\n",
       "      <th>SUPPLIER_ID</th>\n",
       "      <th>MANUFACTURER_ID</th>\n",
       "      <th>CURRENT_PINCODE_ID</th>\n",
       "      <th>STATE_ID</th>\n",
       "      <th>EMPLOYEE_CODE_ID</th>\n",
       "      <th>...</th>\n",
       "      <th>SEC_OVERDUE_ACCTS</th>\n",
       "      <th>SEC_CURRENT_BALANCE</th>\n",
       "      <th>SEC_SANCTIONED_AMOUNT</th>\n",
       "      <th>SEC_DISBURSED_AMOUNT</th>\n",
       "      <th>PRIMARY_INSTAL_AMT</th>\n",
       "      <th>SEC_INSTAL_AMT</th>\n",
       "      <th>NEW_ACCTS_IN_LAST_SIX_MONTHS</th>\n",
       "      <th>DELINQUENT_ACCTS_IN_LAST_SIX_MONTHS</th>\n",
       "      <th>NO_OF_INQUIRIES</th>\n",
       "      <th>LOAN_DEFAULT</th>\n",
       "    </tr>\n",
       "  </thead>\n",
       "  <tbody>\n",
       "    <tr>\n",
       "      <th>count</th>\n",
       "      <td>233154.000000</td>\n",
       "      <td>233154.000000</td>\n",
       "      <td>2.331540e+05</td>\n",
       "      <td>233154.000000</td>\n",
       "      <td>233154.000000</td>\n",
       "      <td>233154.000000</td>\n",
       "      <td>233154.000000</td>\n",
       "      <td>233154.000000</td>\n",
       "      <td>233154.000000</td>\n",
       "      <td>233154.000000</td>\n",
       "      <td>...</td>\n",
       "      <td>233154.000000</td>\n",
       "      <td>2.331540e+05</td>\n",
       "      <td>2.331540e+05</td>\n",
       "      <td>2.331540e+05</td>\n",
       "      <td>2.331540e+05</td>\n",
       "      <td>2.331540e+05</td>\n",
       "      <td>233154.000000</td>\n",
       "      <td>233154.000000</td>\n",
       "      <td>233154.000000</td>\n",
       "      <td>233154.000000</td>\n",
       "    </tr>\n",
       "    <tr>\n",
       "      <th>mean</th>\n",
       "      <td>535917.573376</td>\n",
       "      <td>54356.993528</td>\n",
       "      <td>7.586507e+04</td>\n",
       "      <td>74.746530</td>\n",
       "      <td>72.936094</td>\n",
       "      <td>19638.635035</td>\n",
       "      <td>69.028054</td>\n",
       "      <td>3396.880247</td>\n",
       "      <td>7.262243</td>\n",
       "      <td>1549.477148</td>\n",
       "      <td>...</td>\n",
       "      <td>0.007244</td>\n",
       "      <td>5.427793e+03</td>\n",
       "      <td>7.295923e+03</td>\n",
       "      <td>7.179998e+03</td>\n",
       "      <td>1.310548e+04</td>\n",
       "      <td>3.232684e+02</td>\n",
       "      <td>0.381833</td>\n",
       "      <td>0.097481</td>\n",
       "      <td>0.206615</td>\n",
       "      <td>0.217071</td>\n",
       "    </tr>\n",
       "    <tr>\n",
       "      <th>std</th>\n",
       "      <td>68315.693711</td>\n",
       "      <td>12971.314171</td>\n",
       "      <td>1.894478e+04</td>\n",
       "      <td>11.456636</td>\n",
       "      <td>69.834995</td>\n",
       "      <td>3491.949566</td>\n",
       "      <td>22.141304</td>\n",
       "      <td>2238.147502</td>\n",
       "      <td>4.482230</td>\n",
       "      <td>975.261278</td>\n",
       "      <td>...</td>\n",
       "      <td>0.111079</td>\n",
       "      <td>1.702370e+05</td>\n",
       "      <td>1.831560e+05</td>\n",
       "      <td>1.825925e+05</td>\n",
       "      <td>1.513679e+05</td>\n",
       "      <td>1.555369e+04</td>\n",
       "      <td>0.955107</td>\n",
       "      <td>0.384439</td>\n",
       "      <td>0.706498</td>\n",
       "      <td>0.412252</td>\n",
       "    </tr>\n",
       "    <tr>\n",
       "      <th>min</th>\n",
       "      <td>417428.000000</td>\n",
       "      <td>13320.000000</td>\n",
       "      <td>3.700000e+04</td>\n",
       "      <td>10.030000</td>\n",
       "      <td>1.000000</td>\n",
       "      <td>10524.000000</td>\n",
       "      <td>45.000000</td>\n",
       "      <td>1.000000</td>\n",
       "      <td>1.000000</td>\n",
       "      <td>1.000000</td>\n",
       "      <td>...</td>\n",
       "      <td>0.000000</td>\n",
       "      <td>-5.746470e+05</td>\n",
       "      <td>0.000000e+00</td>\n",
       "      <td>0.000000e+00</td>\n",
       "      <td>0.000000e+00</td>\n",
       "      <td>0.000000e+00</td>\n",
       "      <td>0.000000</td>\n",
       "      <td>0.000000</td>\n",
       "      <td>0.000000</td>\n",
       "      <td>0.000000</td>\n",
       "    </tr>\n",
       "    <tr>\n",
       "      <th>25%</th>\n",
       "      <td>476786.250000</td>\n",
       "      <td>47145.000000</td>\n",
       "      <td>6.571700e+04</td>\n",
       "      <td>68.880000</td>\n",
       "      <td>14.000000</td>\n",
       "      <td>16535.000000</td>\n",
       "      <td>48.000000</td>\n",
       "      <td>1511.000000</td>\n",
       "      <td>4.000000</td>\n",
       "      <td>713.000000</td>\n",
       "      <td>...</td>\n",
       "      <td>0.000000</td>\n",
       "      <td>0.000000e+00</td>\n",
       "      <td>0.000000e+00</td>\n",
       "      <td>0.000000e+00</td>\n",
       "      <td>0.000000e+00</td>\n",
       "      <td>0.000000e+00</td>\n",
       "      <td>0.000000</td>\n",
       "      <td>0.000000</td>\n",
       "      <td>0.000000</td>\n",
       "      <td>0.000000</td>\n",
       "    </tr>\n",
       "    <tr>\n",
       "      <th>50%</th>\n",
       "      <td>535978.500000</td>\n",
       "      <td>53803.000000</td>\n",
       "      <td>7.094600e+04</td>\n",
       "      <td>76.800000</td>\n",
       "      <td>61.000000</td>\n",
       "      <td>20333.000000</td>\n",
       "      <td>86.000000</td>\n",
       "      <td>2970.000000</td>\n",
       "      <td>6.000000</td>\n",
       "      <td>1451.000000</td>\n",
       "      <td>...</td>\n",
       "      <td>0.000000</td>\n",
       "      <td>0.000000e+00</td>\n",
       "      <td>0.000000e+00</td>\n",
       "      <td>0.000000e+00</td>\n",
       "      <td>0.000000e+00</td>\n",
       "      <td>0.000000e+00</td>\n",
       "      <td>0.000000</td>\n",
       "      <td>0.000000</td>\n",
       "      <td>0.000000</td>\n",
       "      <td>0.000000</td>\n",
       "    </tr>\n",
       "    <tr>\n",
       "      <th>75%</th>\n",
       "      <td>595039.750000</td>\n",
       "      <td>60413.000000</td>\n",
       "      <td>7.920175e+04</td>\n",
       "      <td>83.670000</td>\n",
       "      <td>130.000000</td>\n",
       "      <td>23000.000000</td>\n",
       "      <td>86.000000</td>\n",
       "      <td>5677.000000</td>\n",
       "      <td>10.000000</td>\n",
       "      <td>2362.000000</td>\n",
       "      <td>...</td>\n",
       "      <td>0.000000</td>\n",
       "      <td>0.000000e+00</td>\n",
       "      <td>0.000000e+00</td>\n",
       "      <td>0.000000e+00</td>\n",
       "      <td>1.999000e+03</td>\n",
       "      <td>0.000000e+00</td>\n",
       "      <td>0.000000</td>\n",
       "      <td>0.000000</td>\n",
       "      <td>0.000000</td>\n",
       "      <td>0.000000</td>\n",
       "    </tr>\n",
       "    <tr>\n",
       "      <th>max</th>\n",
       "      <td>671084.000000</td>\n",
       "      <td>990572.000000</td>\n",
       "      <td>1.628992e+06</td>\n",
       "      <td>95.000000</td>\n",
       "      <td>261.000000</td>\n",
       "      <td>24803.000000</td>\n",
       "      <td>156.000000</td>\n",
       "      <td>7345.000000</td>\n",
       "      <td>22.000000</td>\n",
       "      <td>3795.000000</td>\n",
       "      <td>...</td>\n",
       "      <td>8.000000</td>\n",
       "      <td>3.603285e+07</td>\n",
       "      <td>3.000000e+07</td>\n",
       "      <td>3.000000e+07</td>\n",
       "      <td>2.564281e+07</td>\n",
       "      <td>4.170901e+06</td>\n",
       "      <td>35.000000</td>\n",
       "      <td>20.000000</td>\n",
       "      <td>36.000000</td>\n",
       "      <td>1.000000</td>\n",
       "    </tr>\n",
       "  </tbody>\n",
       "</table>\n",
       "<p>8 rows × 35 columns</p>\n",
       "</div>"
      ],
      "text/plain": [
       "            UNIQUEID  DISBURSED_AMOUNT    ASSET_COST            LTV  \\\n",
       "count  233154.000000     233154.000000  2.331540e+05  233154.000000   \n",
       "mean   535917.573376      54356.993528  7.586507e+04      74.746530   \n",
       "std     68315.693711      12971.314171  1.894478e+04      11.456636   \n",
       "min    417428.000000      13320.000000  3.700000e+04      10.030000   \n",
       "25%    476786.250000      47145.000000  6.571700e+04      68.880000   \n",
       "50%    535978.500000      53803.000000  7.094600e+04      76.800000   \n",
       "75%    595039.750000      60413.000000  7.920175e+04      83.670000   \n",
       "max    671084.000000     990572.000000  1.628992e+06      95.000000   \n",
       "\n",
       "           BRANCH_ID    SUPPLIER_ID  MANUFACTURER_ID  CURRENT_PINCODE_ID  \\\n",
       "count  233154.000000  233154.000000    233154.000000       233154.000000   \n",
       "mean       72.936094   19638.635035        69.028054         3396.880247   \n",
       "std        69.834995    3491.949566        22.141304         2238.147502   \n",
       "min         1.000000   10524.000000        45.000000            1.000000   \n",
       "25%        14.000000   16535.000000        48.000000         1511.000000   \n",
       "50%        61.000000   20333.000000        86.000000         2970.000000   \n",
       "75%       130.000000   23000.000000        86.000000         5677.000000   \n",
       "max       261.000000   24803.000000       156.000000         7345.000000   \n",
       "\n",
       "            STATE_ID  EMPLOYEE_CODE_ID  ...  SEC_OVERDUE_ACCTS  \\\n",
       "count  233154.000000     233154.000000  ...      233154.000000   \n",
       "mean        7.262243       1549.477148  ...           0.007244   \n",
       "std         4.482230        975.261278  ...           0.111079   \n",
       "min         1.000000          1.000000  ...           0.000000   \n",
       "25%         4.000000        713.000000  ...           0.000000   \n",
       "50%         6.000000       1451.000000  ...           0.000000   \n",
       "75%        10.000000       2362.000000  ...           0.000000   \n",
       "max        22.000000       3795.000000  ...           8.000000   \n",
       "\n",
       "       SEC_CURRENT_BALANCE  SEC_SANCTIONED_AMOUNT  SEC_DISBURSED_AMOUNT  \\\n",
       "count         2.331540e+05           2.331540e+05          2.331540e+05   \n",
       "mean          5.427793e+03           7.295923e+03          7.179998e+03   \n",
       "std           1.702370e+05           1.831560e+05          1.825925e+05   \n",
       "min          -5.746470e+05           0.000000e+00          0.000000e+00   \n",
       "25%           0.000000e+00           0.000000e+00          0.000000e+00   \n",
       "50%           0.000000e+00           0.000000e+00          0.000000e+00   \n",
       "75%           0.000000e+00           0.000000e+00          0.000000e+00   \n",
       "max           3.603285e+07           3.000000e+07          3.000000e+07   \n",
       "\n",
       "       PRIMARY_INSTAL_AMT  SEC_INSTAL_AMT  NEW_ACCTS_IN_LAST_SIX_MONTHS  \\\n",
       "count        2.331540e+05    2.331540e+05                 233154.000000   \n",
       "mean         1.310548e+04    3.232684e+02                      0.381833   \n",
       "std          1.513679e+05    1.555369e+04                      0.955107   \n",
       "min          0.000000e+00    0.000000e+00                      0.000000   \n",
       "25%          0.000000e+00    0.000000e+00                      0.000000   \n",
       "50%          0.000000e+00    0.000000e+00                      0.000000   \n",
       "75%          1.999000e+03    0.000000e+00                      0.000000   \n",
       "max          2.564281e+07    4.170901e+06                     35.000000   \n",
       "\n",
       "       DELINQUENT_ACCTS_IN_LAST_SIX_MONTHS  NO_OF_INQUIRIES   LOAN_DEFAULT  \n",
       "count                        233154.000000    233154.000000  233154.000000  \n",
       "mean                              0.097481         0.206615       0.217071  \n",
       "std                               0.384439         0.706498       0.412252  \n",
       "min                               0.000000         0.000000       0.000000  \n",
       "25%                               0.000000         0.000000       0.000000  \n",
       "50%                               0.000000         0.000000       0.000000  \n",
       "75%                               0.000000         0.000000       0.000000  \n",
       "max                              20.000000        36.000000       1.000000  \n",
       "\n",
       "[8 rows x 35 columns]"
      ]
     },
     "execution_count": 5,
     "metadata": {},
     "output_type": "execute_result"
    }
   ],
   "source": [
    "train.describe()"
   ]
  },
  {
   "cell_type": "markdown",
   "metadata": {},
   "source": [
    "# Formatting and casting datatypes:\n",
    "<br>\n",
    "\n",
    "DATE_OF_BIRTH\n",
    "+ convert to datetime\n",
    "+ create age column out of it\n",
    "\n",
    "DISBURSAL_DATE\n",
    "+ convert to datetime\n",
    "+ get day of week\n",
    "+ get month of year\n",
    "\n",
    "\n",
    "AVERAGE_ACCT_AGE and CREDIT_HISTORY_LENGTH\t\n",
    "+ convert to number\n"
   ]
  },
  {
   "cell_type": "code",
   "execution_count": 6,
   "metadata": {},
   "outputs": [],
   "source": [
    "import re\n",
    "def convert(df, col):\n",
    "    df[col] = [[re.sub('[a-z]', '', y) for y in x] for x in df[col].str.split(' ')]\n",
    "    df[col] = df[col].apply(lambda x: (int(x[0]) * 12) + int(x[1]))\n",
    "    return df[col]"
   ]
  },
  {
   "cell_type": "code",
   "execution_count": 7,
   "metadata": {},
   "outputs": [],
   "source": [
    "train['AVERAGE_ACCT_AGE'] = convert(train, 'AVERAGE_ACCT_AGE')\n",
    "train['CREDIT_HISTORY_LENGTH'] = convert(train, 'CREDIT_HISTORY_LENGTH')"
   ]
  },
  {
   "cell_type": "code",
   "execution_count": 8,
   "metadata": {},
   "outputs": [],
   "source": [
    "train['DATE_OF_BIRTH'] = pd.to_datetime(train['DATE_OF_BIRTH'], format='%d-%m-%Y')\n",
    "now = dt.now()\n",
    "train['AGE'] = [round((now - x).days / 352) for x in train['DATE_OF_BIRTH']]"
   ]
  },
  {
   "cell_type": "code",
   "execution_count": 9,
   "metadata": {},
   "outputs": [],
   "source": [
    "train['DISBURSAL_DATE'] = pd.to_datetime(train['DISBURSAL_DATE'], format='%d-%m-%Y')"
   ]
  },
  {
   "cell_type": "code",
   "execution_count": 10,
   "metadata": {},
   "outputs": [],
   "source": [
    "train['DAY'] = train['DISBURSAL_DATE'].dt.dayofweek"
   ]
  },
  {
   "cell_type": "markdown",
   "metadata": {},
   "source": [
    "# Exploratory analysis with visualisations\n",
    "<br>\n",
    "\n",
    "**EMPLOYMENT_TYPE**\n",
    "+ ~check it's distribution and if defaulting is impacted by it~\n",
    "\n",
    "**AGE**\n",
    "+ ~create bins~\n",
    "+ ~check if there is any impact on default~\n",
    "\n",
    "**CREDIT_HISTORY_LENGTH**\n",
    "+ ~check its impact on defaults (hist plot)~\n",
    "+ ~see the default rates amongst people with/without credit history~\n",
    "\n",
    "**BRANCH_ID, SUPPLIER_ID, MANUFACTURER_ID, EMPLOYEE_CODE_ID**\n",
    "+ ~check distribution and see if there is any outlier~\n",
    "\n",
    "**DAY**\n",
    "+ ~check days/month frequency and see correlation with loan defaults~\n",
    "\n",
    "**MOBILENO_AVL_FLAG, AADHAR_FLAG, PAN_FLAG, VOTERID_FLAG, DRIVING_FLAG, PASSPORT_FLAG**\n",
    "+ see how well these predict defaulting, or potential fraudulent behaviour"
   ]
  },
  {
   "cell_type": "code",
   "execution_count": 11,
   "metadata": {},
   "outputs": [
    {
     "data": {
      "text/plain": [
       "<AxesSubplot:>"
      ]
     },
     "execution_count": 11,
     "metadata": {},
     "output_type": "execute_result"
    },
    {
     "data": {
      "image/png": "[encoded data removed]",
      "text/plain": [
       "<Figure size 576x396 with 1 Axes>"
      ]
     },
     "metadata": {},
     "output_type": "display_data"
    }
   ],
   "source": [
    "train['EMPLOYMENT_TYPE'].value_counts().to_frame().plot(kind='bar')"
   ]
  },
  {
   "cell_type": "code",
   "execution_count": 12,
   "metadata": {
    "scrolled": false
   },
   "outputs": [
    {
     "data": {
      "image/png": "[encoded data removed]",
      "text/plain": [
       "<Figure size 1008x576 with 1 Axes>"
      ]
     },
     "metadata": {},
     "output_type": "display_data"
    }
   ],
   "source": [
    "employment_group = train[['EMPLOYMENT_TYPE', 'LOAN_DEFAULT']]\n",
    "employment_group = employment_group.groupby('EMPLOYMENT_TYPE')['LOAN_DEFAULT'].value_counts(normalize=True).to_frame()\n",
    "labels = ['Salaried', 'Self employed']\n",
    "splot = employment_group.unstack(0).plot(kind='bar', figsize=(14,8))\n",
    "for p in splot.patches:\n",
    "    splot.annotate(format(round(p.get_height(), 2) * 100)+\"%\",\n",
    "                   (p.get_x() + p.get_width() / 2., p.get_height()),\n",
    "                   ha='center', va='center',\n",
    "                   xytext=(0, 9),\n",
    "                   textcoords='offset points')\n",
    "plt.legend(labels)\n",
    "tick_labels = ['Paid', 'Defaulted']\n",
    "plt.xticks(employment_group.unstack(0).index,tick_labels, rotation=0)\n",
    "plt.xlabel('Loan outcome', size=14)\n",
    "plt.title('Loan defaults based on income type', size=18)\n",
    "plt.show()"
   ]
  },
  {
   "cell_type": "markdown",
   "metadata": {},
   "source": [
    "Self employed applicants seem to be relatively more likely to default on a loan then salaried applicants, although the differences are not extremely significant"
   ]
  },
  {
   "cell_type": "code",
   "execution_count": 13,
   "metadata": {},
   "outputs": [
    {
     "data": {
      "image/png": "[encoded data removed]",
      "text/plain": [
       "<Figure size 864x432 with 1 Axes>"
      ]
     },
     "metadata": {},
     "output_type": "display_data"
    }
   ],
   "source": [
    "bins = np.linspace(train['AGE'].min(), train['AGE'].max(), 10)\n",
    "plt.figure(figsize=(12, 6))\n",
    "labels = ['Defaulted','Paid']\n",
    "sns.histplot(train, x='AGE', hue='LOAN_DEFAULT', bins=bins, multiple='stack')\n",
    "plt.legend(labels)\n",
    "plt.title('Loan defaults across age groups', size=16)\n",
    "plt.show()\n"
   ]
  },
  {
   "cell_type": "code",
   "execution_count": 14,
   "metadata": {},
   "outputs": [
    {
     "data": {
      "text/html": [
       "<div>\n",
       "<style scoped>\n",
       "    .dataframe tbody tr th:only-of-type {\n",
       "        vertical-align: middle;\n",
       "    }\n",
       "\n",
       "    .dataframe tbody tr th {\n",
       "        vertical-align: top;\n",
       "    }\n",
       "\n",
       "    .dataframe thead th {\n",
       "        text-align: right;\n",
       "    }\n",
       "</style>\n",
       "<table border=\"1\" class=\"dataframe\">\n",
       "  <thead>\n",
       "    <tr style=\"text-align: right;\">\n",
       "      <th></th>\n",
       "      <th>AGE</th>\n",
       "      <th>LOAN_DEFAULT</th>\n",
       "    </tr>\n",
       "  </thead>\n",
       "  <tbody>\n",
       "    <tr>\n",
       "      <th>AGE</th>\n",
       "      <td>1.000000</td>\n",
       "      <td>-0.036032</td>\n",
       "    </tr>\n",
       "    <tr>\n",
       "      <th>LOAN_DEFAULT</th>\n",
       "      <td>-0.036032</td>\n",
       "      <td>1.000000</td>\n",
       "    </tr>\n",
       "  </tbody>\n",
       "</table>\n",
       "</div>"
      ],
      "text/plain": [
       "                   AGE  LOAN_DEFAULT\n",
       "AGE           1.000000     -0.036032\n",
       "LOAN_DEFAULT -0.036032      1.000000"
      ]
     },
     "execution_count": 14,
     "metadata": {},
     "output_type": "execute_result"
    }
   ],
   "source": [
    "train[['AGE', 'LOAN_DEFAULT']].corr()"
   ]
  },
  {
   "cell_type": "markdown",
   "metadata": {},
   "source": [
    "Age does not seem to impact the overall likelihood of defaulting, the numbers across all age groups show consistency in their distribution."
   ]
  },
  {
   "cell_type": "markdown",
   "metadata": {},
   "source": [
    "### Credit history vs defaults"
   ]
  },
  {
   "cell_type": "code",
   "execution_count": 15,
   "metadata": {},
   "outputs": [
    {
     "data": {
      "text/plain": [
       "<AxesSubplot:ylabel='Frequency'>"
      ]
     },
     "execution_count": 15,
     "metadata": {},
     "output_type": "execute_result"
    },
    {
     "data": {
      "image/png": "[encoded data removed]",
      "text/plain": [
       "<Figure size 720x432 with 1 Axes>"
      ]
     },
     "metadata": {},
     "output_type": "display_data"
    }
   ],
   "source": [
    "bins = np.linspace(train['CREDIT_HISTORY_LENGTH'].min(), train['CREDIT_HISTORY_LENGTH'].max(), 50)\n",
    "train['CREDIT_HISTORY_LENGTH'].plot(kind='hist', bins=bins, figsize=(10,6), edgecolor='silver')"
   ]
  },
  {
   "cell_type": "markdown",
   "metadata": {},
   "source": [
    "There seem to be a large number of applicants with 0 months credit history, whom I will consider as first time applicants\n",
    "<br>\n",
    "\n",
    "\n",
    "Below I am separating the applicants with and without credit history and see the distribution of loan defaults"
   ]
  },
  {
   "cell_type": "code",
   "execution_count": 16,
   "metadata": {},
   "outputs": [
    {
     "data": {
      "text/plain": [
       "0    0.76855\n",
       "1    0.23145\n",
       "Name: LOAN_DEFAULT, dtype: float64"
      ]
     },
     "execution_count": 16,
     "metadata": {},
     "output_type": "execute_result"
    }
   ],
   "source": [
    "no_credit_hist = train.loc[train['CREDIT_HISTORY_LENGTH'] == 0]\n",
    "no_credit_hist['LOAN_DEFAULT'].value_counts(normalize=True)"
   ]
  },
  {
   "cell_type": "code",
   "execution_count": 17,
   "metadata": {},
   "outputs": [
    {
     "data": {
      "text/plain": [
       "0    0.797951\n",
       "1    0.202049\n",
       "Name: LOAN_DEFAULT, dtype: float64"
      ]
     },
     "execution_count": 17,
     "metadata": {},
     "output_type": "execute_result"
    }
   ],
   "source": [
    "credit_hist = train.loc[train['CREDIT_HISTORY_LENGTH'] > 0]\n",
    "credit_hist['LOAN_DEFAULT'].value_counts(normalize=True)"
   ]
  },
  {
   "cell_type": "code",
   "execution_count": 18,
   "metadata": {
    "scrolled": false
   },
   "outputs": [
    {
     "data": {
      "image/png": "[encoded data removed]",
      "text/plain": [
       "<Figure size 720x576 with 1 Axes>"
      ]
     },
     "metadata": {},
     "output_type": "display_data"
    }
   ],
   "source": [
    "df = pd.DataFrame(list(zip(credit_hist['LOAN_DEFAULT'].value_counts(normalize=True), no_credit_hist['LOAN_DEFAULT'].value_counts(normalize=True))), columns=['NO HIST', 'HIST'])\n",
    "splot = df.plot(kind='bar', figsize=(10,8))\n",
    "for p in splot.patches:\n",
    "    splot.annotate(format(round(p.get_height(), 2) * 100)+\"%\",\n",
    "                   (p.get_x() + p.get_width() / 2., p.get_height()),\n",
    "                   ha='center', va='center',\n",
    "                   xytext=(0, 9),\n",
    "                   textcoords='offset points')\n",
    "tick_labels = ['Paid', 'Defaulted']\n",
    "leg_labels = ['First timer', 'Applicant with history']\n",
    "plt.xticks(df.index, tick_labels, rotation=0)\n",
    "plt.legend(leg_labels)\n",
    "plt.xlabel('Loan outcome', size=14)\n",
    "plt.title('Loan defaults first time applicants vs applicants with credit history', size=16)\n",
    "plt.show()"
   ]
  },
  {
   "cell_type": "markdown",
   "metadata": {},
   "source": [
    "First time applicants seem to default on their loans relatively less than people with existing credit history"
   ]
  },
  {
   "cell_type": "code",
   "execution_count": 19,
   "metadata": {},
   "outputs": [],
   "source": [
    "id_list = train[['BRANCH_ID', 'SUPPLIER_ID', 'MANUFACTURER_ID', 'EMPLOYEE_CODE_ID', 'LOAN_DEFAULT']]"
   ]
  },
  {
   "cell_type": "code",
   "execution_count": 20,
   "metadata": {},
   "outputs": [
    {
     "data": {
      "image/png": "[encoded data removed]",
      "text/plain": [
       "<Figure size 1440x720 with 1 Axes>"
      ]
     },
     "metadata": {},
     "output_type": "display_data"
    }
   ],
   "source": [
    "branch  = id_list.groupby(['BRANCH_ID'])['LOAN_DEFAULT'].value_counts(normalize=True).to_frame()\n",
    "branch.unstack(1)['LOAN_DEFAULT'][1].plot(kind='bar', figsize=(20,10))\n",
    "plt.xticks(rotation=45, size=12)\n",
    "plt.title('Loan defaults by branch', size=18)\n",
    "plt.show()\n"
   ]
  },
  {
   "cell_type": "code",
   "execution_count": 21,
   "metadata": {},
   "outputs": [
    {
     "data": {
      "image/png": "[encoded data removed]",
      "text/plain": [
       "<Figure size 576x396 with 1 Axes>"
      ]
     },
     "metadata": {},
     "output_type": "display_data"
    }
   ],
   "source": [
    "branch.unstack(1)['LOAN_DEFAULT'][1].plot(kind='box')\n",
    "plt.title('Loan defaults IQR', size=18)\n",
    "plt.xlabel('Defaults')\n",
    "plt.show()"
   ]
  },
  {
   "cell_type": "code",
   "execution_count": 22,
   "metadata": {},
   "outputs": [
    {
     "data": {
      "text/plain": [
       "BRANCH_ID\n",
       "251    0.343913\n",
       "Name: 1, dtype: float64"
      ]
     },
     "execution_count": 22,
     "metadata": {},
     "output_type": "execute_result"
    }
   ],
   "source": [
    "branch.unstack(1)['LOAN_DEFAULT'][1][branch.unstack(1)['LOAN_DEFAULT'][1] == branch.unstack(1)['LOAN_DEFAULT'][1].max()]"
   ]
  },
  {
   "cell_type": "code",
   "execution_count": 23,
   "metadata": {},
   "outputs": [
    {
     "data": {
      "text/plain": [
       "BRANCH_ID\n",
       "152    0.133387\n",
       "Name: 1, dtype: float64"
      ]
     },
     "execution_count": 23,
     "metadata": {},
     "output_type": "execute_result"
    }
   ],
   "source": [
    "branch.unstack(1)['LOAN_DEFAULT'][1][branch.unstack(1)['LOAN_DEFAULT'][1] == branch.unstack(1)['LOAN_DEFAULT'][1].min()]"
   ]
  },
  {
   "cell_type": "markdown",
   "metadata": {},
   "source": [
    "Loan defaults by Branch ID has not outliers, so no fraudulent behaviour is present that could potentially skew the models. \n",
    "<br>\n",
    "\n",
    "However, there seem to be significant differences between the branches in terms of the likelihood of applicants' default rates:\n",
    "<br>\n",
    "\n",
    "At **branch 152** the default rate is a mere **13.33%** whereas at **branch 251** is **34.39%**, more than the 3rd of their applicants default on their loans."
   ]
  },
  {
   "cell_type": "markdown",
   "metadata": {},
   "source": [
    "#### Below I will look at the loan defaults by dealership and see if there are any outliers or unusual behavious on the part of them dealerships"
   ]
  },
  {
   "cell_type": "code",
   "execution_count": 24,
   "metadata": {
    "scrolled": false
   },
   "outputs": [
    {
     "data": {
      "image/png": "[encoded data removed]",
      "text/plain": [
       "<Figure size 1008x576 with 1 Axes>"
      ]
     },
     "metadata": {},
     "output_type": "display_data"
    }
   ],
   "source": [
    "supplier = id_list.groupby(['SUPPLIER_ID'])['LOAN_DEFAULT'].value_counts(normalize=True).to_frame()\n",
    "supplier.unstack(1)['LOAN_DEFAULT'].plot(kind='box', figsize=(14,8))\n",
    "tick_labels = ['Paid', 'Defaulted']\n",
    "plt.xticks([1,2], tick_labels, size=14)\n",
    "plt.xlabel('Loan outcomes', size=16)\n",
    "plt.title('Paid vs Defaulted loans\\' IQR and Outliers based on Supplier ID', size=18)\n",
    "plt.show()"
   ]
  },
  {
   "cell_type": "code",
   "execution_count": 25,
   "metadata": {},
   "outputs": [
    {
     "data": {
      "text/plain": [
       "54"
      ]
     },
     "execution_count": 25,
     "metadata": {},
     "output_type": "execute_result"
    }
   ],
   "source": [
    "filt_default = supplier.unstack(1)['LOAN_DEFAULT'][1] == 1\n",
    "supplier_ID_list =list(supplier.unstack(1)['LOAN_DEFAULT'][1].loc[filt_default].index)\n",
    "len(supplier_ID_list)"
   ]
  },
  {
   "cell_type": "markdown",
   "metadata": {},
   "source": [
    "There seem to be 54 dealership with a 100% default rate which needs further investigation.\n",
    "\n",
    "I will now further drill down in the data in order to see wether this is down to fradulent behaviour by the dealerships, or perhaps other factors are causing this high default rate."
   ]
  },
  {
   "cell_type": "code",
   "execution_count": 26,
   "metadata": {},
   "outputs": [],
   "source": [
    "filt = train['SUPPLIER_ID'].isin(supplier_ID_list)\n",
    "default_only = train.loc[filt]"
   ]
  },
  {
   "cell_type": "code",
   "execution_count": 27,
   "metadata": {},
   "outputs": [
    {
     "data": {
      "image/png": "[encoded data removed]",
      "text/plain": [
       "<Figure size 576x396 with 1 Axes>"
      ]
     },
     "metadata": {},
     "output_type": "display_data"
    }
   ],
   "source": [
    "default_only['EMPLOYMENT_TYPE'].value_counts(normalize=True).to_frame().plot(kind='bar')\n",
    "plt.xticks(rotation=0, size=16)\n",
    "plt.show()"
   ]
  },
  {
   "cell_type": "markdown",
   "metadata": {},
   "source": [
    "The portion of self employed applicants is significantly higher than that of employed applicants."
   ]
  },
  {
   "cell_type": "code",
   "execution_count": 28,
   "metadata": {},
   "outputs": [
    {
     "data": {
      "text/plain": [
       "<AxesSubplot:ylabel='Frequency'>"
      ]
     },
     "execution_count": 28,
     "metadata": {},
     "output_type": "execute_result"
    },
    {
     "data": {
      "image/png": "[encoded data removed]",
      "text/plain": [
       "<Figure size 864x576 with 1 Axes>"
      ]
     },
     "metadata": {},
     "output_type": "display_data"
    }
   ],
   "source": [
    "bins = np.linspace(default_only['AGE'].min(), default_only['AGE'].max(), 10)\n",
    "default_only['AGE'].plot(kind='hist', figsize=(12,8), bins=bins, edgecolor='silver')"
   ]
  },
  {
   "cell_type": "markdown",
   "metadata": {},
   "source": [
    "People in the 45-50, 55-60 and 60-65 age brackets seem to be represented disproportionately.\n",
    "One explanation for the 60-65 bracket could be that some of those older applicants do not live long enough to repay their loans, hence the default.\n",
    "\n",
    "The unusual distribution of age at these dealerships could also be explained by local demographics, which would need further analysis that is beyond the scope of this project."
   ]
  },
  {
   "cell_type": "code",
   "execution_count": 29,
   "metadata": {},
   "outputs": [
    {
     "data": {
      "text/plain": [
       "<AxesSubplot:ylabel='Frequency'>"
      ]
     },
     "execution_count": 29,
     "metadata": {},
     "output_type": "execute_result"
    },
    {
     "data": {
      "image/png": "[encoded data removed]",
      "text/plain": [
       "<Figure size 1008x576 with 1 Axes>"
      ]
     },
     "metadata": {},
     "output_type": "display_data"
    }
   ],
   "source": [
    "bins = np.linspace(default_only['CREDIT_HISTORY_LENGTH'].min(), default_only['CREDIT_HISTORY_LENGTH'].max(), 20)\n",
    "default_only['CREDIT_HISTORY_LENGTH'].plot(kind='hist', figsize=(14,8), bins=bins, edgecolor='silver')"
   ]
  },
  {
   "cell_type": "markdown",
   "metadata": {},
   "source": [
    "The distribution of the length of credit history shows no significant difference compared to the overall distribution:\n",
    "+ applicants with no credit history are overrepresented\n",
    "+ the minor differences that do exist could potentially be attributed to the unequal age distribution amongst these dealerships"
   ]
  },
  {
   "cell_type": "code",
   "execution_count": 30,
   "metadata": {},
   "outputs": [
    {
     "data": {
      "image/png": "[encoded data removed]",
      "text/plain": [
       "<Figure size 1152x576 with 1 Axes>"
      ]
     },
     "metadata": {},
     "output_type": "display_data"
    }
   ],
   "source": [
    "manufacturers = id_list.groupby(['MANUFACTURER_ID'])['LOAN_DEFAULT'].value_counts(normalize=True).to_frame()\n",
    "splot = manufacturers.unstack(1)['LOAN_DEFAULT'].plot(kind='bar', figsize=(16,8), width=1)\n",
    "for p in splot.patches:\n",
    "    splot.annotate(format(round(p.get_height(), 2) * 100)+\"%\",\n",
    "                   (p.get_x() + p.get_width() / 2., p.get_height()),\n",
    "                   ha='center', va='center',\n",
    "                   xytext=(0, 9),\n",
    "                   textcoords='offset points')\n",
    "    \n",
    "plt.xticks(rotation=0, size=16)\n",
    "plt.xlabel('Manufacturers by ID', size=16)\n",
    "labels = ['Paid off', 'Defaulted']\n",
    "plt.legend(labels)\n",
    "plt.title('Loan outcomes per manufacturer')\n",
    "plt.show()"
   ]
  },
  {
   "cell_type": "markdown",
   "metadata": {},
   "source": [
    "Buyers of brand 152 and 156 are not likely to default on their loans, all other brands show a similar default rate, with 153 being the only exception with a 33% default rate."
   ]
  },
  {
   "cell_type": "code",
   "execution_count": 31,
   "metadata": {},
   "outputs": [
    {
     "data": {
      "image/png": "[encoded data removed]",
      "text/plain": [
       "<Figure size 864x576 with 1 Axes>"
      ]
     },
     "metadata": {},
     "output_type": "display_data"
    }
   ],
   "source": [
    "employees = id_list.groupby(['EMPLOYEE_CODE_ID'])['LOAN_DEFAULT'].value_counts(normalize=True).to_frame()\n",
    "employees.unstack(1)['LOAN_DEFAULT'].plot(kind='box', figsize=(12,8))\n",
    "tick_labels = ['Paid', 'Defaulted']\n",
    "plt.xticks([1,2], tick_labels, size=14)\n",
    "plt.xlabel('Loan outcomes', size=16)\n",
    "plt.title('Paid vs Defaulted loans\\' IQR and Outliers per employee', size=18)\n",
    "plt.show()"
   ]
  },
  {
   "cell_type": "code",
   "execution_count": 32,
   "metadata": {},
   "outputs": [
    {
     "data": {
      "text/plain": [
       "22"
      ]
     },
     "execution_count": 32,
     "metadata": {},
     "output_type": "execute_result"
    }
   ],
   "source": [
    "filt_default_emp = employees.unstack(1)['LOAN_DEFAULT'][1] == 1\n",
    "employee_ID_list =list(employees.unstack(1)['LOAN_DEFAULT'][1].loc[filt_default_emp].index)\n",
    "len(employee_ID_list)"
   ]
  },
  {
   "cell_type": "markdown",
   "metadata": {},
   "source": [
    "There are 22 employees with only applicants who default on their loan.\n",
    "\n",
    "I will now compare their dealerships IDs with the IDs of those dealerships that have 100% default rate with their applicants to see if they match. "
   ]
  },
  {
   "cell_type": "code",
   "execution_count": 33,
   "metadata": {
    "scrolled": true
   },
   "outputs": [
    {
     "data": {
      "text/html": [
       "<div>\n",
       "<style scoped>\n",
       "    .dataframe tbody tr th:only-of-type {\n",
       "        vertical-align: middle;\n",
       "    }\n",
       "\n",
       "    .dataframe tbody tr th {\n",
       "        vertical-align: top;\n",
       "    }\n",
       "\n",
       "    .dataframe thead th {\n",
       "        text-align: right;\n",
       "    }\n",
       "</style>\n",
       "<table border=\"1\" class=\"dataframe\">\n",
       "  <thead>\n",
       "    <tr style=\"text-align: right;\">\n",
       "      <th></th>\n",
       "      <th>UNIQUEID_x</th>\n",
       "      <th>DISBURSED_AMOUNT_x</th>\n",
       "      <th>ASSET_COST_x</th>\n",
       "      <th>LTV_x</th>\n",
       "      <th>BRANCH_ID_x</th>\n",
       "      <th>SUPPLIER_ID</th>\n",
       "      <th>MANUFACTURER_ID_x</th>\n",
       "      <th>CURRENT_PINCODE_ID_x</th>\n",
       "      <th>DATE_OF_BIRTH_x</th>\n",
       "      <th>EMPLOYMENT_TYPE_x</th>\n",
       "      <th>...</th>\n",
       "      <th>SEC_INSTAL_AMT_y</th>\n",
       "      <th>NEW_ACCTS_IN_LAST_SIX_MONTHS_y</th>\n",
       "      <th>DELINQUENT_ACCTS_IN_LAST_SIX_MONTHS_y</th>\n",
       "      <th>AVERAGE_ACCT_AGE_y</th>\n",
       "      <th>CREDIT_HISTORY_LENGTH_y</th>\n",
       "      <th>NO_OF_INQUIRIES_y</th>\n",
       "      <th>LOAN_DEFAULT_y</th>\n",
       "      <th>AGE_y</th>\n",
       "      <th>MONTH_y</th>\n",
       "      <th>DAY_y</th>\n",
       "    </tr>\n",
       "  </thead>\n",
       "  <tbody>\n",
       "    <tr>\n",
       "      <th>0</th>\n",
       "      <td>652808</td>\n",
       "      <td>61213</td>\n",
       "      <td>79618</td>\n",
       "      <td>77.87</td>\n",
       "      <td>66</td>\n",
       "      <td>16788</td>\n",
       "      <td>51</td>\n",
       "      <td>3155</td>\n",
       "      <td>1987-01-01</td>\n",
       "      <td>Self employed</td>\n",
       "      <td>...</td>\n",
       "      <td>0</td>\n",
       "      <td>0</td>\n",
       "      <td>0</td>\n",
       "      <td>8</td>\n",
       "      <td>13</td>\n",
       "      <td>0</td>\n",
       "      <td>1</td>\n",
       "      <td>36</td>\n",
       "      <td>10</td>\n",
       "      <td>2</td>\n",
       "    </tr>\n",
       "    <tr>\n",
       "      <th>1</th>\n",
       "      <td>652808</td>\n",
       "      <td>61213</td>\n",
       "      <td>79618</td>\n",
       "      <td>77.87</td>\n",
       "      <td>66</td>\n",
       "      <td>16788</td>\n",
       "      <td>51</td>\n",
       "      <td>3155</td>\n",
       "      <td>1987-01-01</td>\n",
       "      <td>Self employed</td>\n",
       "      <td>...</td>\n",
       "      <td>0</td>\n",
       "      <td>0</td>\n",
       "      <td>0</td>\n",
       "      <td>0</td>\n",
       "      <td>0</td>\n",
       "      <td>0</td>\n",
       "      <td>1</td>\n",
       "      <td>41</td>\n",
       "      <td>10</td>\n",
       "      <td>4</td>\n",
       "    </tr>\n",
       "    <tr>\n",
       "      <th>2</th>\n",
       "      <td>626502</td>\n",
       "      <td>38439</td>\n",
       "      <td>49760</td>\n",
       "      <td>78.38</td>\n",
       "      <td>66</td>\n",
       "      <td>16788</td>\n",
       "      <td>51</td>\n",
       "      <td>3178</td>\n",
       "      <td>1982-01-01</td>\n",
       "      <td>Self employed</td>\n",
       "      <td>...</td>\n",
       "      <td>0</td>\n",
       "      <td>0</td>\n",
       "      <td>0</td>\n",
       "      <td>8</td>\n",
       "      <td>13</td>\n",
       "      <td>0</td>\n",
       "      <td>1</td>\n",
       "      <td>36</td>\n",
       "      <td>10</td>\n",
       "      <td>2</td>\n",
       "    </tr>\n",
       "    <tr>\n",
       "      <th>3</th>\n",
       "      <td>626502</td>\n",
       "      <td>38439</td>\n",
       "      <td>49760</td>\n",
       "      <td>78.38</td>\n",
       "      <td>66</td>\n",
       "      <td>16788</td>\n",
       "      <td>51</td>\n",
       "      <td>3178</td>\n",
       "      <td>1982-01-01</td>\n",
       "      <td>Self employed</td>\n",
       "      <td>...</td>\n",
       "      <td>0</td>\n",
       "      <td>0</td>\n",
       "      <td>0</td>\n",
       "      <td>0</td>\n",
       "      <td>0</td>\n",
       "      <td>0</td>\n",
       "      <td>1</td>\n",
       "      <td>41</td>\n",
       "      <td>10</td>\n",
       "      <td>4</td>\n",
       "    </tr>\n",
       "  </tbody>\n",
       "</table>\n",
       "<p>4 rows × 87 columns</p>\n",
       "</div>"
      ],
      "text/plain": [
       "   UNIQUEID_x  DISBURSED_AMOUNT_x  ASSET_COST_x  LTV_x  BRANCH_ID_x  \\\n",
       "0      652808               61213         79618  77.87           66   \n",
       "1      652808               61213         79618  77.87           66   \n",
       "2      626502               38439         49760  78.38           66   \n",
       "3      626502               38439         49760  78.38           66   \n",
       "\n",
       "   SUPPLIER_ID  MANUFACTURER_ID_x  CURRENT_PINCODE_ID_x DATE_OF_BIRTH_x  \\\n",
       "0        16788                 51                  3155      1987-01-01   \n",
       "1        16788                 51                  3155      1987-01-01   \n",
       "2        16788                 51                  3178      1982-01-01   \n",
       "3        16788                 51                  3178      1982-01-01   \n",
       "\n",
       "  EMPLOYMENT_TYPE_x  ... SEC_INSTAL_AMT_y  NEW_ACCTS_IN_LAST_SIX_MONTHS_y  \\\n",
       "0     Self employed  ...                0                               0   \n",
       "1     Self employed  ...                0                               0   \n",
       "2     Self employed  ...                0                               0   \n",
       "3     Self employed  ...                0                               0   \n",
       "\n",
       "   DELINQUENT_ACCTS_IN_LAST_SIX_MONTHS_y  AVERAGE_ACCT_AGE_y  \\\n",
       "0                                      0                   8   \n",
       "1                                      0                   0   \n",
       "2                                      0                   8   \n",
       "3                                      0                   0   \n",
       "\n",
       "   CREDIT_HISTORY_LENGTH_y  NO_OF_INQUIRIES_y  LOAN_DEFAULT_y  AGE_y  MONTH_y  \\\n",
       "0                       13                  0               1     36       10   \n",
       "1                        0                  0               1     41       10   \n",
       "2                       13                  0               1     36       10   \n",
       "3                        0                  0               1     41       10   \n",
       "\n",
       "   DAY_y  \n",
       "0      2  \n",
       "1      4  \n",
       "2      2  \n",
       "3      4  \n",
       "\n",
       "[4 rows x 87 columns]"
      ]
     },
     "execution_count": 33,
     "metadata": {},
     "output_type": "execute_result"
    }
   ],
   "source": [
    "filt = train['EMPLOYEE_CODE_ID'].isin(employee_ID_list)\n",
    "default_emp = train.loc[filt]\n",
    "defaulting_emp_and_dealer = pd.merge(default_only, default_emp, on='SUPPLIER_ID', how='inner')\n",
    "defaulting_emp_and_dealer"
   ]
  },
  {
   "cell_type": "code",
   "execution_count": 34,
   "metadata": {},
   "outputs": [
    {
     "data": {
      "text/plain": [
       "0    3756\n",
       "1    3756\n",
       "2    3756\n",
       "3    3756\n",
       "Name: EMPLOYEE_CODE_ID_x, dtype: int64"
      ]
     },
     "execution_count": 34,
     "metadata": {},
     "output_type": "execute_result"
    }
   ],
   "source": [
    "defaulting_emp_and_dealer['EMPLOYEE_CODE_ID_x']"
   ]
  },
  {
   "cell_type": "code",
   "execution_count": 35,
   "metadata": {},
   "outputs": [
    {
     "data": {
      "text/html": [
       "<div>\n",
       "<style scoped>\n",
       "    .dataframe tbody tr th:only-of-type {\n",
       "        vertical-align: middle;\n",
       "    }\n",
       "\n",
       "    .dataframe tbody tr th {\n",
       "        vertical-align: top;\n",
       "    }\n",
       "\n",
       "    .dataframe thead th {\n",
       "        text-align: right;\n",
       "    }\n",
       "</style>\n",
       "<table border=\"1\" class=\"dataframe\">\n",
       "  <thead>\n",
       "    <tr style=\"text-align: right;\">\n",
       "      <th></th>\n",
       "      <th>UNIQUEID</th>\n",
       "      <th>DISBURSED_AMOUNT</th>\n",
       "      <th>ASSET_COST</th>\n",
       "      <th>LTV</th>\n",
       "      <th>BRANCH_ID</th>\n",
       "      <th>SUPPLIER_ID</th>\n",
       "      <th>MANUFACTURER_ID</th>\n",
       "      <th>CURRENT_PINCODE_ID</th>\n",
       "      <th>DATE_OF_BIRTH</th>\n",
       "      <th>EMPLOYMENT_TYPE</th>\n",
       "      <th>...</th>\n",
       "      <th>SEC_INSTAL_AMT</th>\n",
       "      <th>NEW_ACCTS_IN_LAST_SIX_MONTHS</th>\n",
       "      <th>DELINQUENT_ACCTS_IN_LAST_SIX_MONTHS</th>\n",
       "      <th>AVERAGE_ACCT_AGE</th>\n",
       "      <th>CREDIT_HISTORY_LENGTH</th>\n",
       "      <th>NO_OF_INQUIRIES</th>\n",
       "      <th>LOAN_DEFAULT</th>\n",
       "      <th>AGE</th>\n",
       "      <th>MONTH</th>\n",
       "      <th>DAY</th>\n",
       "    </tr>\n",
       "  </thead>\n",
       "  <tbody>\n",
       "    <tr>\n",
       "      <th>229764</th>\n",
       "      <td>652808</td>\n",
       "      <td>61213</td>\n",
       "      <td>79618</td>\n",
       "      <td>77.87</td>\n",
       "      <td>66</td>\n",
       "      <td>16788</td>\n",
       "      <td>51</td>\n",
       "      <td>3155</td>\n",
       "      <td>1987-01-01</td>\n",
       "      <td>Self employed</td>\n",
       "      <td>...</td>\n",
       "      <td>0</td>\n",
       "      <td>0</td>\n",
       "      <td>0</td>\n",
       "      <td>8</td>\n",
       "      <td>13</td>\n",
       "      <td>0</td>\n",
       "      <td>1</td>\n",
       "      <td>36</td>\n",
       "      <td>10</td>\n",
       "      <td>2</td>\n",
       "    </tr>\n",
       "    <tr>\n",
       "      <th>229765</th>\n",
       "      <td>626502</td>\n",
       "      <td>38439</td>\n",
       "      <td>49760</td>\n",
       "      <td>78.38</td>\n",
       "      <td>66</td>\n",
       "      <td>16788</td>\n",
       "      <td>51</td>\n",
       "      <td>3178</td>\n",
       "      <td>1982-01-01</td>\n",
       "      <td>Self employed</td>\n",
       "      <td>...</td>\n",
       "      <td>0</td>\n",
       "      <td>0</td>\n",
       "      <td>0</td>\n",
       "      <td>0</td>\n",
       "      <td>0</td>\n",
       "      <td>0</td>\n",
       "      <td>1</td>\n",
       "      <td>41</td>\n",
       "      <td>10</td>\n",
       "      <td>4</td>\n",
       "    </tr>\n",
       "  </tbody>\n",
       "</table>\n",
       "<p>2 rows × 44 columns</p>\n",
       "</div>"
      ],
      "text/plain": [
       "        UNIQUEID  DISBURSED_AMOUNT  ASSET_COST    LTV  BRANCH_ID  SUPPLIER_ID  \\\n",
       "229764    652808             61213       79618  77.87         66        16788   \n",
       "229765    626502             38439       49760  78.38         66        16788   \n",
       "\n",
       "        MANUFACTURER_ID  CURRENT_PINCODE_ID DATE_OF_BIRTH EMPLOYMENT_TYPE  \\\n",
       "229764               51                3155    1987-01-01   Self employed   \n",
       "229765               51                3178    1982-01-01   Self employed   \n",
       "\n",
       "        ... SEC_INSTAL_AMT  NEW_ACCTS_IN_LAST_SIX_MONTHS  \\\n",
       "229764  ...              0                             0   \n",
       "229765  ...              0                             0   \n",
       "\n",
       "        DELINQUENT_ACCTS_IN_LAST_SIX_MONTHS  AVERAGE_ACCT_AGE  \\\n",
       "229764                                    0                 8   \n",
       "229765                                    0                 0   \n",
       "\n",
       "        CREDIT_HISTORY_LENGTH  NO_OF_INQUIRIES  LOAN_DEFAULT  AGE  MONTH  DAY  \n",
       "229764                     13                0             1   36     10    2  \n",
       "229765                      0                0             1   41     10    4  \n",
       "\n",
       "[2 rows x 44 columns]"
      ]
     },
     "execution_count": 35,
     "metadata": {},
     "output_type": "execute_result"
    }
   ],
   "source": [
    "train[train['EMPLOYEE_CODE_ID'] == 3756]"
   ]
  },
  {
   "cell_type": "markdown",
   "metadata": {},
   "source": [
    "The dealership under the ID 16788 has an employee that processed two applications for two customers who applied for a loan for the same brand of car and same amount, and provided different age, credit history each time.\n",
    "\n",
    "Given the fact that the employee have only processed applications for only these two customers in total this unusual behaviour could be attributed to the lack of experience/training of the employee, rather than fraudulent behaviour."
   ]
  },
  {
   "cell_type": "code",
   "execution_count": 37,
   "metadata": {},
   "outputs": [
    {
     "data": {
      "image/png": "[encoded data removed]",
      "text/plain": [
       "<Figure size 1008x576 with 1 Axes>"
      ]
     },
     "metadata": {},
     "output_type": "display_data"
    }
   ],
   "source": [
    "bins = np.linspace(train.DAY.min(), train.DAY.max(), 7)\n",
    "plt.figure(figsize=(14,8))\n",
    "splot = sns.histplot(train, x='DAY', hue='LOAN_DEFAULT',  bins=bins, multiple='stack')\n",
    "for p in splot.patches:\n",
    "    splot.annotate(format(p.get_height()),\n",
    "                   (p.get_x() + p.get_width() / 2., p.get_height()),\n",
    "                   ha='center', va='center',\n",
    "                   xytext=(0, 9),\n",
    "                   textcoords='offset points')\n",
    "labels = [ 'DEFAULTED', 'PAID']\n",
    "plt.legend(labels)\n",
    "tick_labels = ['Monday', 'Tuesday', 'Wednesday', 'Thursday', 'Friday', 'Saturday', 'Sunday']\n",
    "plt.xticks([0,1,2,3,4,5,6], tick_labels, size=12)\n",
    "plt.title('Day the loan was taken', size=18)\n",
    "plt.xlabel('Days', size=14)\n",
    "plt.show()"
   ]
  },
  {
   "cell_type": "markdown",
   "metadata": {},
   "source": [
    "There are no irreguralities in terms of default rates based on the day of the week the loan is taken.\n",
    "\n",
    "This part of the analysis was only included because, based on previous experience, personal and quick loans' default rates are normally affected by the day the loan is taken.\n",
    "In this case there seem to be no relation between them."
   ]
  },
  {
   "cell_type": "markdown",
   "metadata": {},
   "source": [
    "# Todo\n",
    "\n",
    "\n",
    "+ **Check if there is any need for one hot encoding**\n",
    "+ **Check for missing data**\n",
    "+ **Do an overall coerrelation**\n",
    "+ **Choose variables**\n",
    "+ **Build custom function for preparing both datasets**\n",
    "+ **Prepare both datasets and save them as new files**"
   ]
  },
  {
   "cell_type": "code",
   "execution_count": null,
   "metadata": {},
   "outputs": [],
   "source": []
  }
 ],
 "metadata": {
  "kernelspec": {
   "display_name": "Python 3",
   "language": "python",
   "name": "python3"
  },
  "language_info": {
   "codemirror_mode": {
    "name": "ipython",
    "version": 3
   },
   "file_extension": ".py",
   "mimetype": "text/x-python",
   "name": "python",
   "nbconvert_exporter": "python",
   "pygments_lexer": "ipython3",
   "version": "3.8.5"
  }
 },
 "nbformat": 4,
 "nbformat_minor": 4
}
